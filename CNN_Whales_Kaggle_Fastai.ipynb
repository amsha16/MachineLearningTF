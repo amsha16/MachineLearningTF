{
  "nbformat": 4,
  "nbformat_minor": 0,
  "metadata": {
    "colab": {
      "name": "CNN_Whales_Kaggle_Fastai",
      "provenance": [],
      "collapsed_sections": [],
      "toc_visible": true
    },
    "kernelspec": {
      "name": "python3",
      "display_name": "Python 3"
    },
    "accelerator": "GPU"
  },
  "cells": [
    {
      "cell_type": "code",
      "metadata": {
        "id": "R2L_PLpp_vg3",
        "colab_type": "code",
        "outputId": "69a31e13-dfb1-48c5-841e-bb3533daff79",
        "colab": {
          "base_uri": "https://localhost:8080/",
          "height": 377
        }
      },
      "source": [
        "!pip3 install --upgrade pandas"
      ],
      "execution_count": 0,
      "outputs": [
        {
          "output_type": "stream",
          "text": [
            "Collecting pandas\n",
            "\u001b[?25l  Downloading https://files.pythonhosted.org/packages/f9/e1/4a63ed31e1b1362d40ce845a5735c717a959bda992669468dae3420af2cd/pandas-0.24.0-cp36-cp36m-manylinux1_x86_64.whl (10.1MB)\n",
            "\u001b[K    100% |████████████████████████████████| 10.1MB 3.9MB/s \n",
            "\u001b[?25hRequirement already satisfied, skipping upgrade: pytz>=2011k in /usr/local/lib/python3.6/dist-packages (from pandas) (2018.9)\n",
            "Requirement already satisfied, skipping upgrade: python-dateutil>=2.5.0 in /usr/local/lib/python3.6/dist-packages (from pandas) (2.5.3)\n",
            "Requirement already satisfied, skipping upgrade: numpy>=1.12.0 in /usr/local/lib/python3.6/dist-packages (from pandas) (1.14.6)\n",
            "Requirement already satisfied, skipping upgrade: six>=1.5 in /usr/local/lib/python3.6/dist-packages (from python-dateutil>=2.5.0->pandas) (1.11.0)\n",
            "\u001b[31mpymc3 3.6 has requirement joblib<0.13.0, but you'll have joblib 0.13.1 which is incompatible.\u001b[0m\n",
            "\u001b[31mcufflinks 0.14.6 has requirement plotly>=3.0.0, but you'll have plotly 1.12.12 which is incompatible.\u001b[0m\n",
            "Installing collected packages: pandas\n",
            "  Found existing installation: pandas 0.22.0\n",
            "    Uninstalling pandas-0.22.0:\n",
            "      Successfully uninstalled pandas-0.22.0\n",
            "Successfully installed pandas-0.24.0\n"
          ],
          "name": "stdout"
        },
        {
          "output_type": "display_data",
          "data": {
            "application/vnd.colab-display-data+json": {
              "pip_warning": {
                "packages": [
                  "pandas"
                ]
              }
            }
          },
          "metadata": {
            "tags": []
          }
        }
      ]
    },
    {
      "cell_type": "code",
      "metadata": {
        "id": "vQvbVzzX_lpF",
        "colab_type": "code",
        "outputId": "0017b594-3f84-4715-cc50-aa0b20734014",
        "colab": {
          "base_uri": "https://localhost:8080/",
          "height": 35
        }
      },
      "source": [
        "import pandas as pd\n",
        "pd.__version__"
      ],
      "execution_count": 0,
      "outputs": [
        {
          "output_type": "execute_result",
          "data": {
            "text/plain": [
              "'0.22.0'"
            ]
          },
          "metadata": {
            "tags": []
          },
          "execution_count": 6
        }
      ]
    },
    {
      "cell_type": "code",
      "metadata": {
        "id": "KcDkTuXL_6EQ",
        "colab_type": "code",
        "outputId": "a8a943c9-b9ef-4f42-ad50-a99f24a78718",
        "colab": {
          "base_uri": "https://localhost:8080/",
          "height": 1054
        }
      },
      "source": [
        "!pip install fastai"
      ],
      "execution_count": 0,
      "outputs": [
        {
          "output_type": "stream",
          "text": [
            "Requirement already satisfied: fastai in /usr/local/lib/python3.6/dist-packages (1.0.42)\n",
            "Requirement already satisfied: beautifulsoup4 in /usr/local/lib/python3.6/dist-packages (from fastai) (4.6.3)\n",
            "Requirement already satisfied: Pillow in /usr/local/lib/python3.6/dist-packages (from fastai) (4.0.0)\n",
            "Requirement already satisfied: torch>=1.0.0 in /usr/local/lib/python3.6/dist-packages (from fastai) (1.0.0)\n",
            "Requirement already satisfied: typing in /usr/local/lib/python3.6/dist-packages (from fastai) (3.6.6)\n",
            "Requirement already satisfied: packaging in /usr/local/lib/python3.6/dist-packages (from fastai) (19.0)\n",
            "Requirement already satisfied: pandas in /usr/local/lib/python3.6/dist-packages (from fastai) (0.24.0)\n",
            "Requirement already satisfied: nvidia-ml-py3 in /usr/local/lib/python3.6/dist-packages (from fastai) (7.352.0)\n",
            "Requirement already satisfied: scipy in /usr/local/lib/python3.6/dist-packages (from fastai) (1.1.0)\n",
            "Requirement already satisfied: bottleneck in /usr/local/lib/python3.6/dist-packages (from fastai) (1.2.1)\n",
            "Requirement already satisfied: dataclasses; python_version < \"3.7\" in /usr/local/lib/python3.6/dist-packages (from fastai) (0.6)\n",
            "Requirement already satisfied: matplotlib in /usr/local/lib/python3.6/dist-packages (from fastai) (3.0.2)\n",
            "Requirement already satisfied: spacy>=2.0.18 in /usr/local/lib/python3.6/dist-packages (from fastai) (2.0.18)\n",
            "Requirement already satisfied: torchvision in /usr/local/lib/python3.6/dist-packages (from fastai) (0.2.1)\n",
            "Requirement already satisfied: fastprogress>=0.1.18 in /usr/local/lib/python3.6/dist-packages (from fastai) (0.1.18)\n",
            "Requirement already satisfied: numpy>=1.12 in /usr/local/lib/python3.6/dist-packages (from fastai) (1.14.6)\n",
            "Requirement already satisfied: pyyaml in /usr/local/lib/python3.6/dist-packages (from fastai) (3.13)\n",
            "Requirement already satisfied: numexpr in /usr/local/lib/python3.6/dist-packages (from fastai) (2.6.9)\n",
            "Requirement already satisfied: requests in /usr/local/lib/python3.6/dist-packages (from fastai) (2.18.4)\n",
            "Requirement already satisfied: olefile in /usr/local/lib/python3.6/dist-packages (from Pillow->fastai) (0.46)\n",
            "Requirement already satisfied: six in /usr/local/lib/python3.6/dist-packages (from packaging->fastai) (1.11.0)\n",
            "Requirement already satisfied: pyparsing>=2.0.2 in /usr/local/lib/python3.6/dist-packages (from packaging->fastai) (2.3.1)\n",
            "Requirement already satisfied: pytz>=2011k in /usr/local/lib/python3.6/dist-packages (from pandas->fastai) (2018.9)\n",
            "Requirement already satisfied: python-dateutil>=2.5.0 in /usr/local/lib/python3.6/dist-packages (from pandas->fastai) (2.5.3)\n",
            "Requirement already satisfied: kiwisolver>=1.0.1 in /usr/local/lib/python3.6/dist-packages (from matplotlib->fastai) (1.0.1)\n",
            "Requirement already satisfied: cycler>=0.10 in /usr/local/lib/python3.6/dist-packages (from matplotlib->fastai) (0.10.0)\n",
            "Requirement already satisfied: regex==2018.01.10 in /usr/local/lib/python3.6/dist-packages (from spacy>=2.0.18->fastai) (2018.1.10)\n",
            "Requirement already satisfied: cymem<2.1.0,>=2.0.2 in /usr/local/lib/python3.6/dist-packages (from spacy>=2.0.18->fastai) (2.0.2)\n",
            "Requirement already satisfied: murmurhash<1.1.0,>=0.28.0 in /usr/local/lib/python3.6/dist-packages (from spacy>=2.0.18->fastai) (1.0.1)\n",
            "Requirement already satisfied: plac<1.0.0,>=0.9.6 in /usr/local/lib/python3.6/dist-packages (from spacy>=2.0.18->fastai) (0.9.6)\n",
            "Requirement already satisfied: dill<0.3,>=0.2 in /usr/local/lib/python3.6/dist-packages (from spacy>=2.0.18->fastai) (0.2.9)\n",
            "Requirement already satisfied: preshed<2.1.0,>=2.0.1 in /usr/local/lib/python3.6/dist-packages (from spacy>=2.0.18->fastai) (2.0.1)\n",
            "Requirement already satisfied: ujson>=1.35 in /usr/local/lib/python3.6/dist-packages (from spacy>=2.0.18->fastai) (1.35)\n",
            "Requirement already satisfied: thinc<6.13.0,>=6.12.1 in /usr/local/lib/python3.6/dist-packages (from spacy>=2.0.18->fastai) (6.12.1)\n",
            "Requirement already satisfied: chardet<3.1.0,>=3.0.2 in /usr/local/lib/python3.6/dist-packages (from requests->fastai) (3.0.4)\n",
            "Requirement already satisfied: urllib3<1.23,>=1.21.1 in /usr/local/lib/python3.6/dist-packages (from requests->fastai) (1.22)\n",
            "Requirement already satisfied: idna<2.7,>=2.5 in /usr/local/lib/python3.6/dist-packages (from requests->fastai) (2.6)\n",
            "Requirement already satisfied: certifi>=2017.4.17 in /usr/local/lib/python3.6/dist-packages (from requests->fastai) (2018.11.29)\n",
            "Requirement already satisfied: setuptools in /usr/local/lib/python3.6/dist-packages (from kiwisolver>=1.0.1->matplotlib->fastai) (40.7.0)\n",
            "Collecting wrapt<1.11.0,>=1.10.0 (from thinc<6.13.0,>=6.12.1->spacy>=2.0.18->fastai)\n",
            "  Downloading https://files.pythonhosted.org/packages/a0/47/66897906448185fcb77fc3c2b1bc20ed0ecca81a0f2f88eda3fc5a34fc3d/wrapt-1.10.11.tar.gz\n",
            "Requirement already satisfied: cytoolz<0.10,>=0.9.0 in /usr/local/lib/python3.6/dist-packages (from thinc<6.13.0,>=6.12.1->spacy>=2.0.18->fastai) (0.9.0.1)\n",
            "Requirement already satisfied: msgpack-numpy<0.4.4 in /usr/local/lib/python3.6/dist-packages (from thinc<6.13.0,>=6.12.1->spacy>=2.0.18->fastai) (0.4.3.2)\n",
            "Requirement already satisfied: tqdm<5.0.0,>=4.10.0 in /usr/local/lib/python3.6/dist-packages (from thinc<6.13.0,>=6.12.1->spacy>=2.0.18->fastai) (4.28.1)\n",
            "Requirement already satisfied: msgpack<0.6.0,>=0.5.6 in /usr/local/lib/python3.6/dist-packages (from thinc<6.13.0,>=6.12.1->spacy>=2.0.18->fastai) (0.5.6)\n",
            "Requirement already satisfied: toolz>=0.8.0 in /usr/local/lib/python3.6/dist-packages (from cytoolz<0.10,>=0.9.0->thinc<6.13.0,>=6.12.1->spacy>=2.0.18->fastai) (0.9.0)\n",
            "Building wheels for collected packages: wrapt\n",
            "  Building wheel for wrapt (setup.py) ... \u001b[?25l-\b \b\\\b \b|\b \bdone\n",
            "\u001b[?25h  Stored in directory: /root/.cache/pip/wheels/48/5d/04/22361a593e70d23b1f7746d932802efe1f0e523376a74f321e\n",
            "Successfully built wrapt\n",
            "\u001b[31mspacy 2.0.18 has requirement numpy>=1.15.0, but you'll have numpy 1.14.6 which is incompatible.\u001b[0m\n",
            "Installing collected packages: wrapt\n",
            "  Found existing installation: wrapt 1.11.1\n",
            "    Uninstalling wrapt-1.11.1:\n",
            "      Successfully uninstalled wrapt-1.11.1\n",
            "Successfully installed wrapt-1.10.11\n"
          ],
          "name": "stdout"
        }
      ]
    },
    {
      "cell_type": "code",
      "metadata": {
        "id": "Jv64XToNqhDg",
        "colab_type": "code",
        "outputId": "d861bfec-3793-4247-9667-6c51b793c870",
        "colab": {
          "base_uri": "https://localhost:8080/",
          "height": 201
        }
      },
      "source": [
        "!pip install torchtext"
      ],
      "execution_count": 0,
      "outputs": [
        {
          "output_type": "stream",
          "text": [
            "Requirement already satisfied: torchtext in /usr/local/lib/python3.6/dist-packages (0.3.1)\n",
            "Requirement already satisfied: torch in /usr/local/lib/python3.6/dist-packages (from torchtext) (1.0.0)\n",
            "Requirement already satisfied: tqdm in /usr/local/lib/python3.6/dist-packages (from torchtext) (4.28.1)\n",
            "Requirement already satisfied: numpy in /usr/local/lib/python3.6/dist-packages (from torchtext) (1.14.6)\n",
            "Requirement already satisfied: requests in /usr/local/lib/python3.6/dist-packages (from torchtext) (2.18.4)\n",
            "Requirement already satisfied: certifi>=2017.4.17 in /usr/local/lib/python3.6/dist-packages (from requests->torchtext) (2018.11.29)\n",
            "Requirement already satisfied: urllib3<1.23,>=1.21.1 in /usr/local/lib/python3.6/dist-packages (from requests->torchtext) (1.22)\n",
            "Requirement already satisfied: idna<2.7,>=2.5 in /usr/local/lib/python3.6/dist-packages (from requests->torchtext) (2.6)\n",
            "Requirement already satisfied: chardet<3.1.0,>=3.0.2 in /usr/local/lib/python3.6/dist-packages (from requests->torchtext) (3.0.4)\n"
          ],
          "name": "stdout"
        }
      ]
    },
    {
      "cell_type": "code",
      "metadata": {
        "id": "BVqcfvL5l2ok",
        "colab_type": "code",
        "outputId": "a24200e7-3545-4151-ca95-43282af7ef8f",
        "colab": {
          "base_uri": "https://localhost:8080/",
          "height": 128
        }
      },
      "source": [
        "!pip3 install --upgrade pandas"
      ],
      "execution_count": 0,
      "outputs": [
        {
          "output_type": "stream",
          "text": [
            "Requirement already up-to-date: pandas in /usr/local/lib/python3.6/dist-packages (0.24.0)\n",
            "Requirement already satisfied, skipping upgrade: numpy>=1.12.0 in /usr/local/lib/python3.6/dist-packages (from pandas) (1.14.6)\n",
            "Requirement already satisfied, skipping upgrade: python-dateutil>=2.5.0 in /usr/local/lib/python3.6/dist-packages (from pandas) (2.5.3)\n",
            "Requirement already satisfied, skipping upgrade: pytz>=2011k in /usr/local/lib/python3.6/dist-packages (from pandas) (2018.9)\n",
            "Requirement already satisfied, skipping upgrade: six>=1.5 in /usr/local/lib/python3.6/dist-packages (from python-dateutil>=2.5.0->pandas) (1.11.0)\n"
          ],
          "name": "stdout"
        }
      ]
    },
    {
      "cell_type": "code",
      "metadata": {
        "id": "fxPUTbvFl-dE",
        "colab_type": "code",
        "outputId": "fad29649-7bdd-494b-ce82-92cba9fceb34",
        "colab": {
          "base_uri": "https://localhost:8080/",
          "height": 201
        }
      },
      "source": [
        "!pip3 install -U pandas_summary"
      ],
      "execution_count": 0,
      "outputs": [
        {
          "output_type": "stream",
          "text": [
            "Collecting pandas_summary\n",
            "  Downloading https://files.pythonhosted.org/packages/6b/00/f7b4d7fd901db9a79d63e88000bd1e12efba4f5fb52608f906d7fea2b18f/pandas_summary-0.0.6-py2.py3-none-any.whl\n",
            "Requirement already satisfied, skipping upgrade: numpy in /usr/local/lib/python3.6/dist-packages (from pandas_summary) (1.14.6)\n",
            "Requirement already satisfied, skipping upgrade: pandas in /usr/local/lib/python3.6/dist-packages (from pandas_summary) (0.24.0)\n",
            "Requirement already satisfied, skipping upgrade: pytz>=2011k in /usr/local/lib/python3.6/dist-packages (from pandas->pandas_summary) (2018.9)\n",
            "Requirement already satisfied, skipping upgrade: python-dateutil>=2.5.0 in /usr/local/lib/python3.6/dist-packages (from pandas->pandas_summary) (2.5.3)\n",
            "Requirement already satisfied, skipping upgrade: six>=1.5 in /usr/local/lib/python3.6/dist-packages (from python-dateutil>=2.5.0->pandas->pandas_summary) (1.11.0)\n",
            "Installing collected packages: pandas-summary\n",
            "Successfully installed pandas-summary-0.0.6\n"
          ],
          "name": "stdout"
        }
      ]
    },
    {
      "cell_type": "code",
      "metadata": {
        "id": "izBUUTUiiz0s",
        "colab_type": "code",
        "outputId": "df19032d-d02e-4d99-fe72-cef3447c0295",
        "colab": {
          "base_uri": "https://localhost:8080/",
          "height": 273
        }
      },
      "source": [
        "!pip install -U feather-format"
      ],
      "execution_count": 0,
      "outputs": [
        {
          "output_type": "stream",
          "text": [
            "Collecting feather-format\n",
            "  Downloading https://files.pythonhosted.org/packages/08/55/940b97cc6f19a19f5dab9efef2f68a0ce43a7632f858b272391f0b851a7e/feather-format-0.4.0.tar.gz\n",
            "Collecting pyarrow>=0.4.0 (from feather-format)\n",
            "\u001b[?25l  Downloading https://files.pythonhosted.org/packages/42/be/8682e7f6c12dd42f31f32b18d5d61b4f578f12aaa9058081aef954a481d3/pyarrow-0.12.0-cp36-cp36m-manylinux1_x86_64.whl (12.5MB)\n",
            "\u001b[K    100% |████████████████████████████████| 12.5MB 3.6MB/s \n",
            "\u001b[?25hRequirement already satisfied, skipping upgrade: numpy>=1.14 in /usr/local/lib/python3.6/dist-packages (from pyarrow>=0.4.0->feather-format) (1.14.6)\n",
            "Requirement already satisfied, skipping upgrade: six>=1.0.0 in /usr/local/lib/python3.6/dist-packages (from pyarrow>=0.4.0->feather-format) (1.11.0)\n",
            "Building wheels for collected packages: feather-format\n",
            "  Building wheel for feather-format (setup.py) ... \u001b[?25l-\b \bdone\n",
            "\u001b[?25h  Stored in directory: /root/.cache/pip/wheels/85/7d/12/2dfa5c0195f921ac935f5e8f27deada74972edc0ae9988a9c1\n",
            "Successfully built feather-format\n",
            "Installing collected packages: pyarrow, feather-format\n",
            "Successfully installed feather-format-0.4.0 pyarrow-0.12.0\n"
          ],
          "name": "stdout"
        }
      ]
    },
    {
      "cell_type": "markdown",
      "metadata": {
        "id": "kzfGEUbOzuBj",
        "colab_type": "text"
      },
      "source": [
        "OLD FASTAI START"
      ]
    },
    {
      "cell_type": "code",
      "metadata": {
        "id": "86Q02ceAzyhq",
        "colab_type": "code",
        "colab": {}
      },
      "source": [
        "!pip install fastai==0.7.0"
      ],
      "execution_count": 0,
      "outputs": []
    },
    {
      "cell_type": "code",
      "metadata": {
        "id": "s_iU3KULzy5a",
        "colab_type": "code",
        "colab": {}
      },
      "source": [
        "!pip install torchtext==0.2.3xxxx"
      ],
      "execution_count": 0,
      "outputs": []
    },
    {
      "cell_type": "code",
      "metadata": {
        "id": "L1XunO4Uzzbx",
        "colab_type": "code",
        "colab": {}
      },
      "source": [
        "%reload_ext autoreload\n",
        "%autoreload 2\n",
        "%matplotlib inline\n",
        "\n",
        "from fastai.imports import *\n",
        "from fastai.transforms import *\n",
        "from fastai.conv_learner import *\n",
        "from fastai.model import *\n",
        "from fastai.dataset import *\n",
        "from fastai.sgdr import *\n",
        "from fastai.plots import *"
      ],
      "execution_count": 0,
      "outputs": []
    },
    {
      "cell_type": "markdown",
      "metadata": {
        "id": "ok1sQ4m6z0f1",
        "colab_type": "text"
      },
      "source": [
        "OLD FASTAI FINISH"
      ]
    },
    {
      "cell_type": "markdown",
      "metadata": {
        "id": "slaQfUOb82Un",
        "colab_type": "text"
      },
      "source": [
        "## Data Download"
      ]
    },
    {
      "cell_type": "code",
      "metadata": {
        "id": "bVJszKMwjiP3",
        "colab_type": "code",
        "outputId": "264a9ede-dc08-4032-c204-22da4aa73136",
        "colab": {
          "base_uri": "https://localhost:8080/",
          "height": 92
        }
      },
      "source": [
        "!curl --header 'Host: storage.googleapis.com' --user-agent 'Mozilla/5.0 (Windows NT 10.0; Win64; x64; rv:64.0) Gecko/20100101 Firefox/64.0' --header 'Accept: text/html,application/xhtml+xml,application/xml;q=0.9,*/*;q=0.8' --header 'Accept-Language: en,en-US;q=0.5' --referer 'https://www.kaggle.com/' --header 'DNT: 1' --header 'Upgrade-Insecure-Requests: 1' 'https://storage.googleapis.com/kaggle-competitions-data/kaggle/6818/207611/all.zip?GoogleAccessId=web-data@kaggle-161607.iam.gserviceaccount.com&Expires=1549095589&Signature=FYUzmyIp1Nm0u4x7gfojqEdvCDdnPDrKXRqTNQkx%2Fo2vsG8C8EK3S4YYmQx8G%2F5EKqcOSaaDZdy9LBoMmQoJMMzqS2OhnPem9L0zt3LFSBgKzFSjeX59XtWDB9rLifXTZZBgQug8DZyFV%2BQ4jBIG9r89cJC%2F20Hm6F7B17ruPWHp3d%2BSs728C%2BrXenWwOBtWHrMsvHBQZJDy8lI%2BvP5m%2FcTFvxMuu0MVYHg8U7F3CuOJuhmfHFedRHFF9dsVaKenusf25v%2B9egbRPZG4rmi7ma5weLMNETXTdPXHVm%2BIRn1lF15dKJ8ZmWOYWIutaJ1aLXeA1bggpowZyoih2OFCWQ%3D%3D&response-content-disposition=attachment%3B+filename%3Dhumpback-whale-identification.zip' --output 'humpback-whale-identification.zip'"
      ],
      "execution_count": 0,
      "outputs": [
        {
          "output_type": "stream",
          "text": [
            "  % Total    % Received % Xferd  Average Speed   Time    Time     Time  Current\n",
            "                                 Dload  Upload   Total   Spent    Left  Speed\n",
            "100 5636M  100 5636M    0     0  49.9M      0  0:01:52  0:01:52 --:--:-- 66.8M\n"
          ],
          "name": "stdout"
        }
      ]
    },
    {
      "cell_type": "code",
      "metadata": {
        "id": "h77gx9l4XU6U",
        "colab_type": "code",
        "colab": {}
      },
      "source": [
        "import zipfile\n",
        "\n",
        "zip_ref = zipfile.ZipFile('humpback-whale-identification.zip', 'r')\n",
        "zip_ref.extractall('sample_data/whales')\n",
        "zip_ref.close()"
      ],
      "execution_count": 0,
      "outputs": []
    },
    {
      "cell_type": "code",
      "metadata": {
        "id": "s-Kddn8KvHWY",
        "colab_type": "code",
        "colab": {}
      },
      "source": [
        "zip_ref = zipfile.ZipFile('sample_data/whales/test.zip', 'r')\n",
        "zip_ref.extractall('sample_data/whales/test')\n",
        "zip_ref.close()"
      ],
      "execution_count": 0,
      "outputs": []
    },
    {
      "cell_type": "code",
      "metadata": {
        "id": "cZ4WSP5uvJkC",
        "colab_type": "code",
        "colab": {}
      },
      "source": [
        "zip_ref = zipfile.ZipFile('sample_data/whales/train.zip', 'r')\n",
        "zip_ref.extractall('sample_data/whales/train')\n",
        "zip_ref.close()"
      ],
      "execution_count": 0,
      "outputs": []
    },
    {
      "cell_type": "code",
      "metadata": {
        "id": "px518OxbyhX_",
        "colab_type": "code",
        "colab": {}
      },
      "source": [
        "!rm sample_data/whales/train.zip"
      ],
      "execution_count": 0,
      "outputs": []
    },
    {
      "cell_type": "code",
      "metadata": {
        "id": "CryEgyGOytlP",
        "colab_type": "code",
        "colab": {}
      },
      "source": [
        "\n",
        "!rm sample_data/whales/test.zip"
      ],
      "execution_count": 0,
      "outputs": []
    },
    {
      "cell_type": "code",
      "metadata": {
        "id": "9dpyfLyl38DZ",
        "colab_type": "code",
        "colab": {}
      },
      "source": [
        "!cp sample_data/whales/train.csv sample_data/whales/labels.csv"
      ],
      "execution_count": 0,
      "outputs": []
    },
    {
      "cell_type": "markdown",
      "metadata": {
        "id": "2dY1MSoO861d",
        "colab_type": "text"
      },
      "source": [
        "COMMONS  STEPS FINISH"
      ]
    },
    {
      "cell_type": "code",
      "metadata": {
        "id": "93c6QJ7o2IZy",
        "colab_type": "code",
        "colab": {}
      },
      "source": [
        ""
      ],
      "execution_count": 0,
      "outputs": []
    },
    {
      "cell_type": "markdown",
      "metadata": {
        "id": "X40yuQKLzPFi",
        "colab_type": "text"
      },
      "source": [
        "Reduce FILE SIZE"
      ]
    },
    {
      "cell_type": "code",
      "metadata": {
        "id": "MfFoscgvFNaS",
        "colab_type": "code",
        "colab": {}
      },
      "source": [
        "labels = pd.read_csv('sample_data/whales/labels.csv', header= 0)"
      ],
      "execution_count": 0,
      "outputs": []
    },
    {
      "cell_type": "code",
      "metadata": {
        "id": "_sTr1MBT19sz",
        "colab_type": "code",
        "colab": {}
      },
      "source": [
        "labels.shape"
      ],
      "execution_count": 0,
      "outputs": []
    },
    {
      "cell_type": "markdown",
      "metadata": {
        "id": "sTlJb2kf4qBt",
        "colab_type": "text"
      },
      "source": [
        "OLD STYLE CODE"
      ]
    },
    {
      "cell_type": "code",
      "metadata": {
        "id": "FSgcDRUt4oW0",
        "colab_type": "code",
        "colab": {}
      },
      "source": [
        "PATH = 'sample_data/whales/'\n",
        "sz = 224\n",
        "#arch = resnext101_64\n",
        "arch = resnet34\n",
        "bs=16\n",
        "bs = bs -1"
      ],
      "execution_count": 0,
      "outputs": []
    },
    {
      "cell_type": "code",
      "metadata": {
        "id": "dDP5CCfD40iu",
        "colab_type": "code",
        "colab": {}
      },
      "source": [
        "label_csv = f'{PATH}labels.csv'\n",
        "n = len(list(open(label_csv)))-1\n",
        "val_idxs = get_cv_idxs(n)\n",
        "\n",
        "!ls {PATH}"
      ],
      "execution_count": 0,
      "outputs": []
    },
    {
      "cell_type": "code",
      "metadata": {
        "id": "vZwMPd9olTAW",
        "colab_type": "code",
        "colab": {}
      },
      "source": [
        "#SUBSET \n",
        "label_df = pd.read_csv(label_csv)\n",
        "\n"
      ],
      "execution_count": 0,
      "outputs": []
    },
    {
      "cell_type": "code",
      "metadata": {
        "id": "d-kvEvTO5CaC",
        "colab_type": "code",
        "colab": {}
      },
      "source": [
        "label_df = pd.read_csv(label_csv)\n",
        "label_df.head()"
      ],
      "execution_count": 0,
      "outputs": []
    },
    {
      "cell_type": "code",
      "metadata": {
        "id": "FGkZV6Ql5IgA",
        "colab_type": "code",
        "colab": {}
      },
      "source": [
        "label_df.pivot_table(index='Id', aggfunc=len).sort_values('Image', ascending=False)"
      ],
      "execution_count": 0,
      "outputs": []
    },
    {
      "cell_type": "code",
      "metadata": {
        "id": "2D6rnCWK5cXz",
        "colab_type": "code",
        "colab": {}
      },
      "source": [
        "tfms = tfms_from_model(arch, sz, aug_tfms=transforms_side_on, \n",
        "                       max_zoom=1.1)\n",
        "\n",
        "data = ImageClassifierData.from_csv(PATH, 'train', \n",
        "                 f'{PATH}labels.csv', test_name='test', \n",
        "                 val_idxs=val_idxs, suffix='', tfms=tfms, bs=bs)"
      ],
      "execution_count": 0,
      "outputs": []
    },
    {
      "cell_type": "code",
      "metadata": {
        "id": "zHt4fcP05jJh",
        "colab_type": "code",
        "colab": {}
      },
      "source": [
        "n"
      ],
      "execution_count": 0,
      "outputs": []
    },
    {
      "cell_type": "code",
      "metadata": {
        "id": "We35rXAU5nA-",
        "colab_type": "code",
        "colab": {}
      },
      "source": [
        "len(val_idxs)"
      ],
      "execution_count": 0,
      "outputs": []
    },
    {
      "cell_type": "code",
      "metadata": {
        "id": "ceoO3kbR5qYt",
        "colab_type": "code",
        "colab": {}
      },
      "source": [
        "fn = PATH + data.trn_ds.fnames[0]; fn"
      ],
      "execution_count": 0,
      "outputs": []
    },
    {
      "cell_type": "code",
      "metadata": {
        "id": "6lCWYAfw5tV1",
        "colab_type": "code",
        "colab": {}
      },
      "source": [
        "img = PIL.Image.open(fn); img\n"
      ],
      "execution_count": 0,
      "outputs": []
    },
    {
      "cell_type": "code",
      "metadata": {
        "id": "ySAJ2-re57m8",
        "colab_type": "code",
        "colab": {}
      },
      "source": [
        "img.size"
      ],
      "execution_count": 0,
      "outputs": []
    },
    {
      "cell_type": "code",
      "metadata": {
        "id": "Sz5ZGJpd5_qF",
        "colab_type": "code",
        "colab": {}
      },
      "source": [
        "size_d = {k: PIL.Image.open(PATH+k).size for k in data.trn_ds.fnames}"
      ],
      "execution_count": 0,
      "outputs": []
    },
    {
      "cell_type": "code",
      "metadata": {
        "id": "778En_pK6Cyp",
        "colab_type": "code",
        "colab": {}
      },
      "source": [
        "row_sz, col_sz = list(zip(*size_d.values()))"
      ],
      "execution_count": 0,
      "outputs": []
    },
    {
      "cell_type": "code",
      "metadata": {
        "id": "nB-jHRON6E4B",
        "colab_type": "code",
        "colab": {}
      },
      "source": [
        "plt.hist(row_sz);"
      ],
      "execution_count": 0,
      "outputs": []
    },
    {
      "cell_type": "code",
      "metadata": {
        "id": "8fB1VjJ96FVt",
        "colab_type": "code",
        "colab": {}
      },
      "source": [
        "plt.hist(row_sz[row_sz < 1000])"
      ],
      "execution_count": 0,
      "outputs": []
    },
    {
      "cell_type": "code",
      "metadata": {
        "id": "DbbvbFRP6SDH",
        "colab_type": "code",
        "colab": {}
      },
      "source": [
        "def get_data(sz, bs):\n",
        "    tfms = tfms_from_model(arch, sz)\n",
        "    data = ImageClassifierData.from_csv(PATH, 'train', \n",
        "               f'{PATH}labels.csv', test_name='test', num_workers=4,\n",
        "               val_idxs=val_idxs, suffix='', tfms=tfms, bs=bs)\n",
        "    \n",
        "    return data if sz>300 else data.resize(340, 'tmp')"
      ],
      "execution_count": 0,
      "outputs": []
    },
    {
      "cell_type": "code",
      "metadata": {
        "id": "b5WHV6ub6aKv",
        "colab_type": "code",
        "colab": {}
      },
      "source": [
        "!wget http://files.fast.ai/models/weights.tgz "
      ],
      "execution_count": 0,
      "outputs": []
    },
    {
      "cell_type": "code",
      "metadata": {
        "id": "JX0N9a9m6dz3",
        "colab_type": "code",
        "colab": {}
      },
      "source": [
        "!mkdir /usr/local/lib/python3.6/dist-packages/fastai/weights"
      ],
      "execution_count": 0,
      "outputs": []
    },
    {
      "cell_type": "code",
      "metadata": {
        "id": "CUnMskzt6hmB",
        "colab_type": "code",
        "colab": {}
      },
      "source": [
        "!tar -xvzf weights.tgz -C /usr/local/lib/python3.6/dist-packages/fastai/"
      ],
      "execution_count": 0,
      "outputs": []
    },
    {
      "cell_type": "code",
      "metadata": {
        "id": "yxErONeBIqIA",
        "colab_type": "code",
        "colab": {}
      },
      "source": [
        ""
      ],
      "execution_count": 0,
      "outputs": []
    },
    {
      "cell_type": "code",
      "metadata": {
        "id": "-eaw1pAX6kXV",
        "colab_type": "code",
        "colab": {}
      },
      "source": [
        "data = get_data(224, bs)\n",
        "\n",
        "learn = ConvLearner.pretrained(arch, data, precompute=True)"
      ],
      "execution_count": 0,
      "outputs": []
    },
    {
      "cell_type": "code",
      "metadata": {
        "id": "jFOsiaX9ioLE",
        "colab_type": "code",
        "colab": {}
      },
      "source": [
        "learn.predict() "
      ],
      "execution_count": 0,
      "outputs": []
    },
    {
      "cell_type": "code",
      "metadata": {
        "id": "Vy3mN4Uy6sGv",
        "colab_type": "code",
        "colab": {}
      },
      "source": [
        "learn.fit(1e-2, 3)"
      ],
      "execution_count": 0,
      "outputs": []
    },
    {
      "cell_type": "code",
      "metadata": {
        "id": "CCYZVVeO6waU",
        "colab_type": "code",
        "colab": {}
      },
      "source": [
        "learn.precompute = False\n",
        "\n",
        "learn.fit(1e-2, 2, cycle_len=1)"
      ],
      "execution_count": 0,
      "outputs": []
    },
    {
      "cell_type": "code",
      "metadata": {
        "id": "j2dt_kOvGZKU",
        "colab_type": "code",
        "colab": {}
      },
      "source": [
        "learn.sched.plot()"
      ],
      "execution_count": 0,
      "outputs": []
    },
    {
      "cell_type": "code",
      "metadata": {
        "id": "rwSTcxKm64u3",
        "colab_type": "code",
        "colab": {}
      },
      "source": [
        "learn.save('224_pre')\n",
        "learn.load('224_pre')"
      ],
      "execution_count": 0,
      "outputs": []
    },
    {
      "cell_type": "code",
      "metadata": {
        "id": "gKixNI-e67bp",
        "colab_type": "code",
        "colab": {}
      },
      "source": [
        "learn.set_data(get_data(299, bs))"
      ],
      "execution_count": 0,
      "outputs": []
    },
    {
      "cell_type": "code",
      "metadata": {
        "id": "16tYQ8fV69jb",
        "colab_type": "code",
        "colab": {}
      },
      "source": [
        "learn.fit(1e-2, 2, cycle_len=1)"
      ],
      "execution_count": 0,
      "outputs": []
    },
    {
      "cell_type": "code",
      "metadata": {
        "id": "9FeXFX6i7B2K",
        "colab_type": "code",
        "colab": {}
      },
      "source": [
        "learn.fit(1e-2, 3, cycle_len=1, cycle_mult=2)"
      ],
      "execution_count": 0,
      "outputs": []
    },
    {
      "cell_type": "code",
      "metadata": {
        "id": "Up3GrSda7DgK",
        "colab_type": "code",
        "colab": {}
      },
      "source": [
        "log_preds, y = learn.TTA()\n",
        "probs = np.mean(np.exp(log_preds),0)\n",
        "accuracy_np(probs, y)\n",
        "#metrics.log_loss(y, probs)"
      ],
      "execution_count": 0,
      "outputs": []
    },
    {
      "cell_type": "code",
      "metadata": {
        "id": "9KVDgQVo8LQt",
        "colab_type": "code",
        "colab": {}
      },
      "source": [
        "preds = np.argmax(probs, axis=1)\n",
        "robs = probs[:,1]"
      ],
      "execution_count": 0,
      "outputs": []
    },
    {
      "cell_type": "code",
      "metadata": {
        "id": "E232tGOKXeuk",
        "colab_type": "code",
        "colab": {}
      },
      "source": [
        "from sklearn.metrics import confusion_matrix\n",
        "cm = confusion_matrix(y, preds)\n",
        "\n",
        "plot_confusion_matrix(cm, data.classes)"
      ],
      "execution_count": 0,
      "outputs": []
    },
    {
      "cell_type": "markdown",
      "metadata": {
        "id": "gmWdZRyh5Dvu",
        "colab_type": "text"
      },
      "source": [
        "\n",
        "\n",
        "```\n",
        "\n",
        "```\n",
        "\n",
        "*********************************FINISH********"
      ]
    },
    {
      "cell_type": "markdown",
      "metadata": {
        "id": "A_dqqn1z_qGv",
        "colab_type": "text"
      },
      "source": [
        "### V1 Start\n",
        "## *v1*  https://www.kaggle.com/dromosys/radek-fast-ai-whale-full"
      ]
    },
    {
      "cell_type": "code",
      "metadata": {
        "id": "qioSTSNU5pEm",
        "colab_type": "code",
        "colab": {}
      },
      "source": [
        "%matplotlib inline\n",
        "import matplotlib.pyplot as plt\n",
        "from fastai.vision import *\n",
        "from fastai.metrics import accuracy\n",
        "from fastai.basic_data import *\n",
        "from skimage.util import montage\n",
        "import pandas as pd\n",
        "from torch import optim\n",
        "import re"
      ],
      "execution_count": 0,
      "outputs": []
    },
    {
      "cell_type": "code",
      "metadata": {
        "id": "YztOFRnH5l1q",
        "colab_type": "code",
        "colab": {}
      },
      "source": [
        "PATH = 'sample_data/whales/'"
      ],
      "execution_count": 0,
      "outputs": []
    },
    {
      "cell_type": "code",
      "metadata": {
        "id": "HJkxnl97ujTH",
        "colab_type": "code",
        "colab": {}
      },
      "source": [
        "import sys\n",
        "\n",
        "path = Path('sample_data/whales/')\n",
        "path_test = Path('sample_data/whales/test')\n",
        "path_train = Path('sample_data/whales/train')"
      ],
      "execution_count": 0,
      "outputs": []
    },
    {
      "cell_type": "code",
      "metadata": {
        "id": "SpJynax4uw7k",
        "colab_type": "code",
        "colab": {}
      },
      "source": [
        "df = pd.read_csv(path/'train.csv')#.sample(frac=0.05)\n",
        "df.head()\n",
        "val_fns = {'69823499d.jpg'}"
      ],
      "execution_count": 0,
      "outputs": []
    },
    {
      "cell_type": "markdown",
      "metadata": {
        "id": "cfxnikgCChwH",
        "colab_type": "text"
      },
      "source": [
        "Oversmapling-- data https://www.kaggle.com/dromosys/radek-whale-oversample"
      ]
    },
    {
      "cell_type": "code",
      "metadata": {
        "id": "y1UspUiMC8kA",
        "colab_type": "code",
        "outputId": "ce4f33ae-c9cb-430b-ed33-d1e668ff5f85",
        "colab": {
          "base_uri": "https://localhost:8080/",
          "height": 73
        }
      },
      "source": [
        "im_count = df[df.Id != 'new_whale'].Id.value_counts()\n",
        "im_count.name = 'sighting_count'\n",
        "df = df.join(im_count, on='Id')\n",
        "val_fns = set(df.sample(frac=1)[(df.Id != 'new_whale') & (df.sighting_count > 1)].groupby('Id').first().Image)"
      ],
      "execution_count": 0,
      "outputs": [
        {
          "output_type": "stream",
          "text": [
            "/usr/local/lib/python3.6/dist-packages/ipykernel_launcher.py:4: UserWarning: Boolean Series key will be reindexed to match DataFrame index.\n",
            "  after removing the cwd from sys.path.\n"
          ],
          "name": "stderr"
        }
      ]
    },
    {
      "cell_type": "code",
      "metadata": {
        "id": "M-R84JPMDCkQ",
        "colab_type": "code",
        "colab": {}
      },
      "source": [
        "fn2label = {row[1].Image: row[1].Id for row in df.iterrows()}\n",
        "path2fn = lambda path: re.search('\\w*\\.jpg$', path).group(0)"
      ],
      "execution_count": 0,
      "outputs": []
    },
    {
      "cell_type": "code",
      "metadata": {
        "id": "eq6Aa831Cgtv",
        "colab_type": "code",
        "colab": {}
      },
      "source": [
        "df = df[df.Id != 'new_whale']"
      ],
      "execution_count": 0,
      "outputs": []
    },
    {
      "cell_type": "code",
      "metadata": {
        "id": "gmaMCTbCCfmK",
        "colab_type": "code",
        "outputId": "f1c6e305-f212-41b8-eb1b-610ab31ee22f",
        "colab": {
          "base_uri": "https://localhost:8080/",
          "height": 35
        }
      },
      "source": [
        "df.shape"
      ],
      "execution_count": 0,
      "outputs": [
        {
          "output_type": "execute_result",
          "data": {
            "text/plain": [
              "(15697, 3)"
            ]
          },
          "metadata": {
            "tags": []
          },
          "execution_count": 28
        }
      ]
    },
    {
      "cell_type": "code",
      "metadata": {
        "id": "C74iOVDKCyiZ",
        "colab_type": "code",
        "outputId": "da26d036-08ef-4cc2-de3c-3999a6661d40",
        "colab": {
          "base_uri": "https://localhost:8080/",
          "height": 35
        }
      },
      "source": [
        "df.sighting_count.max()"
      ],
      "execution_count": 0,
      "outputs": [
        {
          "output_type": "execute_result",
          "data": {
            "text/plain": [
              "73.0"
            ]
          },
          "metadata": {
            "tags": []
          },
          "execution_count": 29
        }
      ]
    },
    {
      "cell_type": "code",
      "metadata": {
        "id": "kFL5WmipDLIg",
        "colab_type": "code",
        "colab": {}
      },
      "source": [
        "df_val = df[df.Image.isin(val_fns)]\n",
        "df_train = df[~df.Image.isin(val_fns)]\n",
        "df_train_with_val = df"
      ],
      "execution_count": 0,
      "outputs": []
    },
    {
      "cell_type": "code",
      "metadata": {
        "id": "lC4ckWDkDM9R",
        "colab_type": "code",
        "outputId": "d5e0220b-1dc6-437a-f01d-8dd4e70d2085",
        "colab": {
          "base_uri": "https://localhost:8080/",
          "height": 35
        }
      },
      "source": [
        "df_val.shape, df_train.shape, df_train_with_val.shape"
      ],
      "execution_count": 0,
      "outputs": [
        {
          "output_type": "execute_result",
          "data": {
            "text/plain": [
              "((2931, 3), (12766, 3), (15697, 3))"
            ]
          },
          "metadata": {
            "tags": []
          },
          "execution_count": 31
        }
      ]
    },
    {
      "cell_type": "code",
      "metadata": {
        "id": "qBoXtQAyDOAK",
        "colab_type": "code",
        "outputId": "52d60c89-e537-475f-f250-0abe007b6b03",
        "colab": {
          "base_uri": "https://localhost:8080/",
          "height": 53
        }
      },
      "source": [
        "%%time\n",
        "\n",
        "res = None\n",
        "sample_to = 15\n",
        "\n",
        "for grp in df_train.groupby('Id'):\n",
        "    n = grp[1].shape[0]\n",
        "    additional_rows = grp[1].sample(0 if sample_to < n  else sample_to - n, replace=True)\n",
        "    rows = pd.concat((grp[1], additional_rows))\n",
        "    \n",
        "    if res is None: res = rows\n",
        "    else: res = pd.concat((res, rows))"
      ],
      "execution_count": 0,
      "outputs": [
        {
          "output_type": "stream",
          "text": [
            "CPU times: user 11.5 s, sys: 88.2 ms, total: 11.6 s\n",
            "Wall time: 11.6 s\n"
          ],
          "name": "stdout"
        }
      ]
    },
    {
      "cell_type": "code",
      "metadata": {
        "id": "wSmjGXb4DS7T",
        "colab_type": "code",
        "outputId": "918b2a3a-5626-489c-9a90-a43ab9789e3a",
        "colab": {
          "base_uri": "https://localhost:8080/",
          "height": 53
        }
      },
      "source": [
        "%%time\n",
        "\n",
        "res_with_val = None\n",
        "sample_to = 15\n",
        "\n",
        "for grp in df_train_with_val.groupby('Id'):\n",
        "    n = grp[1].shape[0]\n",
        "    additional_rows = grp[1].sample(0 if sample_to < n  else sample_to - n, replace=True)\n",
        "    rows = pd.concat((grp[1], additional_rows))\n",
        "    \n",
        "    if res_with_val is None: res_with_val = rows\n",
        "    else: res_with_val = pd.concat((res_with_val, rows))"
      ],
      "execution_count": 0,
      "outputs": [
        {
          "output_type": "stream",
          "text": [
            "CPU times: user 11.5 s, sys: 80.1 ms, total: 11.6 s\n",
            "Wall time: 11.6 s\n"
          ],
          "name": "stdout"
        }
      ]
    },
    {
      "cell_type": "code",
      "metadata": {
        "id": "UkkSrrs0DWDG",
        "colab_type": "code",
        "outputId": "1cc80c80-f43f-46cd-f2c3-019aa5a52ab9",
        "colab": {
          "base_uri": "https://localhost:8080/",
          "height": 35
        }
      },
      "source": [
        "res.shape, res_with_val.shape"
      ],
      "execution_count": 0,
      "outputs": [
        {
          "output_type": "execute_result",
          "data": {
            "text/plain": [
              "((76174, 3), (76287, 3))"
            ]
          },
          "metadata": {
            "tags": []
          },
          "execution_count": 34
        }
      ]
    },
    {
      "cell_type": "code",
      "metadata": {
        "id": "qLr2zj2TDfGk",
        "colab_type": "code",
        "colab": {}
      },
      "source": [
        "pd.concat((res, df_val))[['Image', 'Id']].to_csv('oversampled_train.csv', index=False)\n",
        "res_with_val[['Image', 'Id']].to_csv('oversampled_train_and_val.csv', index=False)"
      ],
      "execution_count": 0,
      "outputs": []
    },
    {
      "cell_type": "code",
      "metadata": {
        "id": "8Z7C6a5uDksg",
        "colab_type": "code",
        "colab": {}
      },
      "source": [
        "df = pd.read_csv('oversampled_train.csv')"
      ],
      "execution_count": 0,
      "outputs": []
    },
    {
      "cell_type": "code",
      "metadata": {
        "id": "Ed3iNXYLu6_T",
        "colab_type": "code",
        "colab": {}
      },
      "source": [
        "name = f'res50-full-train'"
      ],
      "execution_count": 0,
      "outputs": []
    },
    {
      "cell_type": "code",
      "metadata": {
        "id": "LdZTeXzLu8T-",
        "colab_type": "code",
        "colab": {}
      },
      "source": [
        "SZ = 224\n",
        "BS = 64\n",
        "NUM_WORKERS = 0\n",
        "SEED=0"
      ],
      "execution_count": 0,
      "outputs": []
    },
    {
      "cell_type": "code",
      "metadata": {
        "id": "oa4DS-ztvAib",
        "colab_type": "code",
        "colab": {}
      },
      "source": [
        "data = (\n",
        "    ImageItemList\n",
        "        .from_df(df[df.Id != 'new_whale'], 'sample_data/whales/train', cols=['Image'])\n",
        "        .split_by_valid_func(lambda path: path2fn(path) in val_fns)\n",
        "        .label_from_func(lambda path: fn2label[path2fn(path)])\n",
        "        .add_test(ImageItemList.from_folder('sample_data/whales/test'))\n",
        "        .transform(get_transforms(do_flip=False, max_zoom=1, max_warp=0, max_rotate=2), size=SZ, resize_method=ResizeMethod.SQUISH)\n",
        "        .databunch(bs=BS, num_workers=NUM_WORKERS, path='sample_data/whales')\n",
        "        .normalize(imagenet_stats)\n",
        ")"
      ],
      "execution_count": 0,
      "outputs": []
    },
    {
      "cell_type": "code",
      "metadata": {
        "id": "4mhqMfO_EAnE",
        "colab_type": "code",
        "colab": {}
      },
      "source": [
        "data"
      ],
      "execution_count": 0,
      "outputs": []
    },
    {
      "cell_type": "code",
      "metadata": {
        "id": "aLL-HGhNvUcz",
        "colab_type": "code",
        "colab": {}
      },
      "source": [
        "MODEL_PATH = \"model/\""
      ],
      "execution_count": 0,
      "outputs": []
    },
    {
      "cell_type": "code",
      "metadata": {
        "id": "jy_ctmpnvbqL",
        "colab_type": "code",
        "outputId": "cbf42e93-6d06-49e4-e9c5-03b345e70aa1",
        "colab": {
          "base_uri": "https://localhost:8080/",
          "height": 85
        }
      },
      "source": [
        "%%time\n",
        "\n",
        "learn = create_cnn(data, models.resnet50, lin_ftrs=[2048], model_dir=MODEL_PATH)\n",
        "learn.clip_grad();"
      ],
      "execution_count": 0,
      "outputs": [
        {
          "output_type": "stream",
          "text": [
            "Downloading: \"https://download.pytorch.org/models/resnet50-19c8e357.pth\" to /root/.torch/models/resnet50-19c8e357.pth\n",
            "100%|██████████| 102502400/102502400 [00:03<00:00, 29281236.80it/s]\n"
          ],
          "name": "stderr"
        },
        {
          "output_type": "stream",
          "text": [
            "CPU times: user 4.14 s, sys: 1.47 s, total: 5.61 s\n",
            "Wall time: 11.5 s\n"
          ],
          "name": "stdout"
        }
      ]
    },
    {
      "cell_type": "markdown",
      "metadata": {
        "id": "WTepYM_ibegT",
        "colab_type": "text"
      },
      "source": [
        "**STAGE 1 ROUNDS**"
      ]
    },
    {
      "cell_type": "code",
      "metadata": {
        "id": "ZFSrKnTPMch8",
        "colab_type": "code",
        "colab": {}
      },
      "source": [
        "##PART 1\n",
        "\n",
        "%%time\n",
        "\n",
        "learn.lr_find()\n",
        "learn.recorder.plot()"
      ],
      "execution_count": 0,
      "outputs": []
    },
    {
      "cell_type": "code",
      "metadata": {
        "id": "uBLYeBsYvgui",
        "colab_type": "code",
        "outputId": "9c0aeeed-3995-4a41-bc84-df11775af0fb",
        "colab": {
          "base_uri": "https://localhost:8080/",
          "height": 232
        }
      },
      "source": [
        "§##PART 1\n",
        "\n",
        "learn.fit_one_cycle(9, 1e-2)  #14\n",
        "learn.save(f'{name}-stage-1')"
      ],
      "execution_count": 0,
      "outputs": [
        {
          "output_type": "display_data",
          "data": {
            "text/html": [
              "Total time: 9:22:00 <p><table style='width:300px; margin-bottom:10px'>\n",
              "  <tr>\n",
              "    <th>epoch</th>\n",
              "    <th>train_loss</th>\n",
              "    <th>valid_loss</th>\n",
              "  </tr>\n",
              "  <tr>\n",
              "    <th>1</th>\n",
              "    <th>1.773834</th>\n",
              "    <th>8.017606</th>\n",
              "  </tr>\n",
              "  <tr>\n",
              "    <th>2</th>\n",
              "    <th>1.446100</th>\n",
              "    <th>9.488853</th>\n",
              "  </tr>\n",
              "  <tr>\n",
              "    <th>3</th>\n",
              "    <th>0.900697</th>\n",
              "    <th>7.652367</th>\n",
              "  </tr>\n",
              "  <tr>\n",
              "    <th>4</th>\n",
              "    <th>0.554221</th>\n",
              "    <th>7.701366</th>\n",
              "  </tr>\n",
              "  <tr>\n",
              "    <th>5</th>\n",
              "    <th>0.361033</th>\n",
              "    <th>7.691996</th>\n",
              "  </tr>\n",
              "  <tr>\n",
              "    <th>6</th>\n",
              "    <th>0.180198</th>\n",
              "    <th>6.887156</th>\n",
              "  </tr>\n",
              "  <tr>\n",
              "    <th>7</th>\n",
              "    <th>0.066499</th>\n",
              "    <th>6.189864</th>\n",
              "  </tr>\n",
              "  <tr>\n",
              "    <th>8</th>\n",
              "    <th>0.012349</th>\n",
              "    <th>5.817781</th>\n",
              "  </tr>\n",
              "  <tr>\n",
              "    <th>9</th>\n",
              "    <th>0.007721</th>\n",
              "    <th>5.705476</th>\n",
              "  </tr>\n",
              "</table>\n"
            ],
            "text/plain": [
              "<IPython.core.display.HTML object>"
            ]
          },
          "metadata": {
            "tags": []
          }
        }
      ]
    },
    {
      "cell_type": "code",
      "metadata": {
        "id": "ouVuepP1c26Q",
        "colab_type": "code",
        "colab": {}
      },
      "source": [
        "!cp 'sample_data/whales/model/res50-full-train-stage-1.pth' 'whale/My Drive/'"
      ],
      "execution_count": 0,
      "outputs": []
    },
    {
      "cell_type": "code",
      "metadata": {
        "id": "j_GvxmKYaRq1",
        "colab_type": "code",
        "colab": {}
      },
      "source": [
        "##PART 1 round 2\n",
        "\n",
        "learn.load(\"res50-full-train-stage-1\")  ## STEP UPTO instatianing learn needs to be repeated....."
      ],
      "execution_count": 0,
      "outputs": []
    },
    {
      "cell_type": "code",
      "metadata": {
        "id": "8ecfE5KkaYGM",
        "colab_type": "code",
        "outputId": "4760aaf9-5b07-4bf0-9800-7d3b3dda2d2d",
        "colab": {
          "base_uri": "https://localhost:8080/",
          "height": 191
        }
      },
      "source": [
        "learn.fit_one_cycle(6, 1e-2)  #14\n",
        "learn.save(f'{name}-stage-1-part-2')"
      ],
      "execution_count": 0,
      "outputs": [
        {
          "output_type": "display_data",
          "data": {
            "text/html": [
              "Total time: 6:30:53 <p><table style='width:300px; margin-bottom:10px'>\n",
              "  <tr>\n",
              "    <th>epoch</th>\n",
              "    <th>train_loss</th>\n",
              "    <th>valid_loss</th>\n",
              "  </tr>\n",
              "  <tr>\n",
              "    <th>1</th>\n",
              "    <th>0.229831</th>\n",
              "    <th>2.680091</th>\n",
              "  </tr>\n",
              "  <tr>\n",
              "    <th>2</th>\n",
              "    <th>0.568604</th>\n",
              "    <th>4.218741</th>\n",
              "  </tr>\n",
              "  <tr>\n",
              "    <th>3</th>\n",
              "    <th>0.373977</th>\n",
              "    <th>4.728710</th>\n",
              "  </tr>\n",
              "  <tr>\n",
              "    <th>4</th>\n",
              "    <th>0.135089</th>\n",
              "    <th>4.456778</th>\n",
              "  </tr>\n",
              "  <tr>\n",
              "    <th>5</th>\n",
              "    <th>0.042114</th>\n",
              "    <th>3.617236</th>\n",
              "  </tr>\n",
              "  <tr>\n",
              "    <th>6</th>\n",
              "    <th>0.006318</th>\n",
              "    <th>3.419220</th>\n",
              "  </tr>\n",
              "</table>\n"
            ],
            "text/plain": [
              "<IPython.core.display.HTML object>"
            ]
          },
          "metadata": {
            "tags": []
          }
        }
      ]
    },
    {
      "cell_type": "code",
      "metadata": {
        "id": "pYS-gyMyazyB",
        "colab_type": "code",
        "colab": {}
      },
      "source": [
        "!cp 'sample_data/whales/model/res50-full-train-stage-1-part-2.pth' 'whale/My Drive/'"
      ],
      "execution_count": 0,
      "outputs": []
    },
    {
      "cell_type": "markdown",
      "metadata": {
        "id": "VxXBhc-rapA0",
        "colab_type": "text"
      },
      "source": [
        "### STAGE 2 ROUNDS"
      ]
    },
    {
      "cell_type": "code",
      "metadata": {
        "id": "q4BvuciEaXUX",
        "colab_type": "code",
        "colab": {}
      },
      "source": [
        "!cp 'whale/My Drive/res50-full-train-stage-2-part-2.pth' sample_data/whales/model/"
      ],
      "execution_count": 0,
      "outputs": []
    },
    {
      "cell_type": "code",
      "metadata": {
        "id": "wuJOmlgf2AbS",
        "colab_type": "code",
        "colab": {}
      },
      "source": [
        "###Code to LOAD Saved Model:\n",
        "\n",
        "##PART 2\n",
        "\n",
        "learn.load(\"res50-full-train-stage-2-part-1\")  ## STEP UPTO instatianing learn needs to be repeated....."
      ],
      "execution_count": 0,
      "outputs": []
    },
    {
      "cell_type": "code",
      "metadata": {
        "id": "gxwfKMgGSRL9",
        "colab_type": "code",
        "colab": {}
      },
      "source": [
        "#def loss_func(input, target): justreturn F.mse_loss(input, target())\n",
        "#loss = loss_func(output, Variable(y.long()))\n",
        "#learn.loss_fn = loss_func(output, Variable(y.long()))\n",
        "\n",
        "\n",
        "#target = torch.empty(10, dtype=torch.long).random_(data.classes)\n",
        "\n",
        "#learn.loss_fn = nn.BCEWithLogitsLoss()\n",
        "#torch.tensor(y_train, dtype=torch.long, device=device)"
      ],
      "execution_count": 0,
      "outputs": []
    },
    {
      "cell_type": "code",
      "metadata": {
        "id": "mYfAKSMBa6Zo",
        "colab_type": "code",
        "colab": {}
      },
      "source": [
        "!ls -l sample_data/whales/model/"
      ],
      "execution_count": 0,
      "outputs": []
    },
    {
      "cell_type": "markdown",
      "metadata": {
        "id": "KniGH1rdbkxk",
        "colab_type": "text"
      },
      "source": [
        ""
      ]
    },
    {
      "cell_type": "code",
      "metadata": {
        "id": "ZBFmBOC7xgjC",
        "colab_type": "code",
        "outputId": "70306b67-d87e-493b-92ee-ff385639362c",
        "colab": {
          "base_uri": "https://localhost:8080/",
          "height": 237
        }
      },
      "source": [
        "##PART 2 round 1\n",
        "\n",
        "learn.unfreeze()\n",
        "max_lr = 1e-3\n",
        "lrs = [max_lr/100, max_lr/10, max_lr]\n",
        "\n",
        "learn.fit_one_cycle(8, lrs)  #24\n",
        "learn.save(f'{name}-stage-2-part-1')"
      ],
      "execution_count": 0,
      "outputs": [
        {
          "output_type": "display_data",
          "data": {
            "text/html": [
              "Total time: 9:49:43 <p><table style='width:300px; margin-bottom:10px'>\n",
              "  <tr>\n",
              "    <th>epoch</th>\n",
              "    <th>train_loss</th>\n",
              "    <th>valid_loss</th>\n",
              "  </tr>\n",
              "  <tr>\n",
              "    <th>1</th>\n",
              "    <th>0.270053</th>\n",
              "    <th>1.428670</th>\n",
              "  </tr>\n",
              "  <tr>\n",
              "    <th>2</th>\n",
              "    <th>0.185740</th>\n",
              "    <th>1.500701</th>\n",
              "  </tr>\n",
              "  <tr>\n",
              "    <th>3</th>\n",
              "    <th>0.126901</th>\n",
              "    <th>1.434271</th>\n",
              "  </tr>\n",
              "  <tr>\n",
              "    <th>4</th>\n",
              "    <th>0.055173</th>\n",
              "    <th>1.329026</th>\n",
              "  </tr>\n",
              "  <tr>\n",
              "    <th>5</th>\n",
              "    <th>0.022229</th>\n",
              "    <th>1.231527</th>\n",
              "  </tr>\n",
              "  <tr>\n",
              "    <th>6</th>\n",
              "    <th>0.012749</th>\n",
              "    <th>1.163492</th>\n",
              "  </tr>\n",
              "  <tr>\n",
              "    <th>7</th>\n",
              "    <th>0.002045</th>\n",
              "    <th>1.109115</th>\n",
              "  </tr>\n",
              "  <tr>\n",
              "    <th>8</th>\n",
              "    <th>0.001604</th>\n",
              "    <th>1.099465</th>\n",
              "  </tr>\n",
              "</table>\n"
            ],
            "text/plain": [
              "<IPython.core.display.HTML object>"
            ]
          },
          "metadata": {
            "tags": []
          }
        }
      ]
    },
    {
      "cell_type": "code",
      "metadata": {
        "id": "oNq9fvA6awk5",
        "colab_type": "code",
        "colab": {}
      },
      "source": [
        ""
      ],
      "execution_count": 0,
      "outputs": []
    },
    {
      "cell_type": "code",
      "metadata": {
        "id": "UzgkYq4W-5YD",
        "colab_type": "code",
        "colab": {}
      },
      "source": [
        "#!mkdir sample_data/whales/models"
      ],
      "execution_count": 0,
      "outputs": []
    },
    {
      "cell_type": "code",
      "metadata": {
        "id": "5dv2NQO1SdFj",
        "colab_type": "code",
        "colab": {}
      },
      "source": [
        ""
      ],
      "execution_count": 0,
      "outputs": []
    },
    {
      "cell_type": "code",
      "metadata": {
        "id": "jQ8yapy0vI4j",
        "colab_type": "code",
        "outputId": "a5fc89aa-f60b-4d6b-e77c-b22ba4ff2031",
        "colab": {
          "base_uri": "https://localhost:8080/",
          "height": 249
        }
      },
      "source": [
        "##PART 2 round 2\n",
        "\n",
        "learn.unfreeze()\n",
        "max_lr = 1e-3\n",
        "lrs = [max_lr/100, max_lr/10, max_lr]\n",
        "\n",
        "learn.fit_one_cycle(9, lrs)  #24\n",
        "learn.save(f'{name}-stage-2-part-2')"
      ],
      "execution_count": 0,
      "outputs": [
        {
          "output_type": "display_data",
          "data": {
            "text/html": [
              "\n",
              "    <div>\n",
              "        <style>\n",
              "            /* Turns off some styling */\n",
              "            progress {\n",
              "                /* gets rid of default border in Firefox and Opera. */\n",
              "                border: none;\n",
              "                /* Needs to be in here for Safari polyfill so background images work as expected. */\n",
              "                background-size: auto;\n",
              "            }\n",
              "            .progress-bar-interrupted, .progress-bar-interrupted::-webkit-progress-bar {\n",
              "                background: #F44336;\n",
              "            }\n",
              "        </style>\n",
              "      <progress value='8' class='' max='9', style='width:300px; height:20px; vertical-align: middle;'></progress>\n",
              "      88.89% [8/9 9:38:37<1:12:19]\n",
              "    </div>\n",
              "    \n",
              "<table style='width:300px; margin-bottom:10px'>\n",
              "  <tr>\n",
              "    <th>epoch</th>\n",
              "    <th>train_loss</th>\n",
              "    <th>valid_loss</th>\n",
              "  </tr>\n",
              "  <tr>\n",
              "    <th>1</th>\n",
              "    <th>0.053728</th>\n",
              "    <th>0.529155</th>\n",
              "  </tr>\n",
              "  <tr>\n",
              "    <th>2</th>\n",
              "    <th>0.044581</th>\n",
              "    <th>0.609699</th>\n",
              "  </tr>\n",
              "  <tr>\n",
              "    <th>3</th>\n",
              "    <th>0.046354</th>\n",
              "    <th>0.634611</th>\n",
              "  </tr>\n",
              "  <tr>\n",
              "    <th>4</th>\n",
              "    <th>0.030922</th>\n",
              "    <th>0.651886</th>\n",
              "  </tr>\n",
              "  <tr>\n",
              "    <th>5</th>\n",
              "    <th>0.015199</th>\n",
              "    <th>0.624416</th>\n",
              "  </tr>\n",
              "  <tr>\n",
              "    <th>6</th>\n",
              "    <th>0.010739</th>\n",
              "    <th>0.599471</th>\n",
              "  </tr>\n",
              "  <tr>\n",
              "    <th>7</th>\n",
              "    <th>0.002459</th>\n",
              "    <th>0.566521</th>\n",
              "  </tr>\n",
              "  <tr>\n",
              "    <th>8</th>\n",
              "    <th>0.001003</th>\n",
              "    <th>0.552261</th>\n",
              "  </tr>\n",
              "</table>\n",
              "\n",
              "\n",
              "    <div>\n",
              "        <style>\n",
              "            /* Turns off some styling */\n",
              "            progress {\n",
              "                /* gets rid of default border in Firefox and Opera. */\n",
              "                border: none;\n",
              "                /* Needs to be in here for Safari polyfill so background images work as expected. */\n",
              "                background-size: auto;\n",
              "            }\n",
              "            .progress-bar-interrupted, .progress-bar-interrupted::-webkit-progress-bar {\n",
              "                background: #F44336;\n",
              "            }\n",
              "        </style>\n",
              "      <progress value='1107' class='' max='1190', style='width:300px; height:20px; vertical-align: middle;'></progress>\n",
              "      93.03% [1107/1190 1:03:43<04:46 0.0005]\n",
              "    </div>\n",
              "    "
            ],
            "text/plain": [
              "<IPython.core.display.HTML object>"
            ]
          },
          "metadata": {
            "tags": []
          }
        }
      ]
    },
    {
      "cell_type": "code",
      "metadata": {
        "id": "Aqn_12f9Z9wO",
        "colab_type": "code",
        "outputId": "94b46cde-ecab-4d1b-812e-5c435c56f0d7",
        "colab": {
          "base_uri": "https://localhost:8080/",
          "height": 141
        }
      },
      "source": [
        "##PART 2 round 3\n",
        "\n",
        "learn.unfreeze()\n",
        "max_lr = 1e-3\n",
        "lrs = [max_lr/100, max_lr/10, max_lr]\n",
        "\n",
        "learn.fit_one_cycle(4, lrs)  #24\n",
        "learn.save(f'{name}-stage-2-part-3')\n"
      ],
      "execution_count": 0,
      "outputs": [
        {
          "output_type": "display_data",
          "data": {
            "text/html": [
              "Total time: 4:50:13 <p><table style='width:300px; margin-bottom:10px'>\n",
              "  <tr>\n",
              "    <th>epoch</th>\n",
              "    <th>train_loss</th>\n",
              "    <th>valid_loss</th>\n",
              "  </tr>\n",
              "  <tr>\n",
              "    <th>1</th>\n",
              "    <th>0.018956</th>\n",
              "    <th>0.289712</th>\n",
              "  </tr>\n",
              "  <tr>\n",
              "    <th>2</th>\n",
              "    <th>0.018670</th>\n",
              "    <th>0.294639</th>\n",
              "  </tr>\n",
              "  <tr>\n",
              "    <th>3</th>\n",
              "    <th>0.004714</th>\n",
              "    <th>0.290165</th>\n",
              "  </tr>\n",
              "  <tr>\n",
              "    <th>4</th>\n",
              "    <th>0.002075</th>\n",
              "    <th>0.283245</th>\n",
              "  </tr>\n",
              "</table>\n"
            ],
            "text/plain": [
              "<IPython.core.display.HTML object>"
            ]
          },
          "metadata": {
            "tags": []
          }
        }
      ]
    },
    {
      "cell_type": "code",
      "metadata": {
        "id": "c2SO3lo0WwVN",
        "colab_type": "code",
        "colab": {}
      },
      "source": [
        "!cp 'sample_data/whales/models/res50-full-train-stage-3-part-5.pth' 'whale/My Drive/'"
      ],
      "execution_count": 0,
      "outputs": []
    },
    {
      "cell_type": "markdown",
      "metadata": {
        "id": "Q7GxGSWLbq9G",
        "colab_type": "text"
      },
      "source": [
        "**STAGE 3 ROUNDS**"
      ]
    },
    {
      "cell_type": "code",
      "metadata": {
        "id": "6vEVM42eW75Q",
        "colab_type": "code",
        "colab": {}
      },
      "source": [
        "!cp 'whale/My Drive/res50-full-train-stage-3-part-5.pth' sample_data/whales/models/"
      ],
      "execution_count": 0,
      "outputs": []
    },
    {
      "cell_type": "code",
      "metadata": {
        "id": "w627DfX0v8D5",
        "colab_type": "code",
        "colab": {}
      },
      "source": [
        "##PART 3\n",
        "\n"
      ],
      "execution_count": 0,
      "outputs": []
    },
    {
      "cell_type": "code",
      "metadata": {
        "id": "YxTrKGIUNpFA",
        "colab_type": "code",
        "colab": {}
      },
      "source": [
        ""
      ],
      "execution_count": 0,
      "outputs": []
    },
    {
      "cell_type": "code",
      "metadata": {
        "id": "HR5s8lvby2lZ",
        "colab_type": "code",
        "colab": {}
      },
      "source": [
        ""
      ],
      "execution_count": 0,
      "outputs": []
    },
    {
      "cell_type": "code",
      "metadata": {
        "id": "Zu13skYWN913",
        "colab_type": "code",
        "outputId": "acc4d3ee-35b8-45fb-a234-5dda48e08ccd",
        "colab": {
          "base_uri": "https://localhost:8080/",
          "height": 225
        }
      },
      "source": [
        "##PART 3 -part 1\n",
        "%%time\n",
        "learn = create_cnn(data, models.resnet50, lin_ftrs=[2048])\n",
        "learn.clip_grad();\n",
        "learn.load('res50-full-train-stage-2-part-3')\n",
        "learn.freeze_to(-1)\n",
        "\n",
        "learn.fit_one_cycle(4, 1e-2 / 4)\n",
        "learn.save(f'{name}-stage-3-part-1')\n",
        "\n"
      ],
      "execution_count": 0,
      "outputs": [
        {
          "output_type": "stream",
          "text": [
            "Downloading: \"https://download.pytorch.org/models/resnet50-19c8e357.pth\" to /root/.torch/models/resnet50-19c8e357.pth\n",
            "100%|██████████| 102502400/102502400 [00:01<00:00, 101886630.57it/s]\n"
          ],
          "name": "stderr"
        },
        {
          "output_type": "display_data",
          "data": {
            "text/html": [
              "Total time: 9:24:31 <p><table style='width:300px; margin-bottom:10px'>\n",
              "  <tr>\n",
              "    <th>epoch</th>\n",
              "    <th>train_loss</th>\n",
              "    <th>valid_loss</th>\n",
              "  </tr>\n",
              "  <tr>\n",
              "    <th>1</th>\n",
              "    <th>0.652742</th>\n",
              "    <th>0.357914</th>\n",
              "  </tr>\n",
              "  <tr>\n",
              "    <th>2</th>\n",
              "    <th>0.566059</th>\n",
              "    <th>0.955976</th>\n",
              "  </tr>\n",
              "  <tr>\n",
              "    <th>3</th>\n",
              "    <th>0.240598</th>\n",
              "    <th>0.978877</th>\n",
              "  </tr>\n",
              "  <tr>\n",
              "    <th>4</th>\n",
              "    <th>0.121245</th>\n",
              "    <th>0.889742</th>\n",
              "  </tr>\n",
              "</table>\n"
            ],
            "text/plain": [
              "<IPython.core.display.HTML object>"
            ]
          },
          "metadata": {
            "tags": []
          }
        },
        {
          "output_type": "stream",
          "text": [
            "CPU times: user 7h 11min 4s, sys: 2h 17min 36s, total: 9h 28min 41s\n",
            "Wall time: 9h 24min 41s\n"
          ],
          "name": "stdout"
        }
      ]
    },
    {
      "cell_type": "code",
      "metadata": {
        "id": "QxzEsrXs0Thw",
        "colab_type": "code",
        "outputId": "ee218d86-2c40-43b8-a0de-dd63f3b3f54a",
        "colab": {
          "base_uri": "https://localhost:8080/",
          "height": 225
        }
      },
      "source": [
        "##PART 3 -part 2\n",
        "%%time\n",
        "learn = create_cnn(data, models.resnet50, lin_ftrs=[2048])\n",
        "learn.clip_grad();\n",
        "learn.load('res50-full-train-stage-3-part-1')\n",
        "learn.freeze_to(-1)\n",
        "\n",
        "learn.fit_one_cycle(5, 1e-2 / 4)\n",
        "learn.save(f'{name}-stage-3-part-2')"
      ],
      "execution_count": 0,
      "outputs": [
        {
          "output_type": "stream",
          "text": [
            "Downloading: \"https://download.pytorch.org/models/resnet50-19c8e357.pth\" to /root/.torch/models/resnet50-19c8e357.pth\n",
            "100%|██████████| 102502400/102502400 [00:01<00:00, 94534677.93it/s]\n"
          ],
          "name": "stderr"
        },
        {
          "output_type": "display_data",
          "data": {
            "text/html": [
              "\n",
              "    <div>\n",
              "        <style>\n",
              "            /* Turns off some styling */\n",
              "            progress {\n",
              "                /* gets rid of default border in Firefox and Opera. */\n",
              "                border: none;\n",
              "                /* Needs to be in here for Safari polyfill so background images work as expected. */\n",
              "                background-size: auto;\n",
              "            }\n",
              "            .progress-bar-interrupted, .progress-bar-interrupted::-webkit-progress-bar {\n",
              "                background: #F44336;\n",
              "            }\n",
              "        </style>\n",
              "      <progress value='4' class='' max='5', style='width:300px; height:20px; vertical-align: middle;'></progress>\n",
              "      80.00% [4/5 9:09:43<2:17:25]\n",
              "    </div>\n",
              "    \n",
              "<table style='width:300px; margin-bottom:10px'>\n",
              "  <tr>\n",
              "    <th>epoch</th>\n",
              "    <th>train_loss</th>\n",
              "    <th>valid_loss</th>\n",
              "  </tr>\n",
              "  <tr>\n",
              "    <th>1</th>\n",
              "    <th>0.525393</th>\n",
              "    <th>0.771453</th>\n",
              "  </tr>\n",
              "  <tr>\n",
              "    <th>2</th>\n",
              "    <th>1.012259</th>\n",
              "    <th>2.117653</th>\n",
              "  </tr>\n",
              "  <tr>\n",
              "    <th>3</th>\n",
              "    <th>0.592702</th>\n",
              "    <th>2.507087</th>\n",
              "  </tr>\n",
              "  <tr>\n",
              "    <th>4</th>\n",
              "    <th>0.254310</th>\n",
              "    <th>2.254109</th>\n",
              "  </tr>\n",
              "</table>\n",
              "\n",
              "\n",
              "    <div>\n",
              "        <style>\n",
              "            /* Turns off some styling */\n",
              "            progress {\n",
              "                /* gets rid of default border in Firefox and Opera. */\n",
              "                border: none;\n",
              "                /* Needs to be in here for Safari polyfill so background images work as expected. */\n",
              "                background-size: auto;\n",
              "            }\n",
              "            .progress-bar-interrupted, .progress-bar-interrupted::-webkit-progress-bar {\n",
              "                background: #F44336;\n",
              "            }\n",
              "        </style>\n",
              "      <progress value='921' class='' max='4760', style='width:300px; height:20px; vertical-align: middle;'></progress>\n",
              "      19.35% [921/4760 26:04<1:48:39 0.1504]\n",
              "    </div>\n",
              "    "
            ],
            "text/plain": [
              "<IPython.core.display.HTML object>"
            ]
          },
          "metadata": {
            "tags": []
          }
        },
        {
          "output_type": "stream",
          "text": [
            "Buffered data was truncated after reaching the output size limit."
          ],
          "name": "stdout"
        }
      ]
    },
    {
      "cell_type": "code",
      "metadata": {
        "id": "F0jSJdFJ0X9J",
        "colab_type": "code",
        "outputId": "504ca8c9-1b0e-422a-d299-15e47c82161c",
        "colab": {
          "base_uri": "https://localhost:8080/",
          "height": 232
        }
      },
      "source": [
        "##PART 3 -part 3\n",
        "%%time\n",
        "learn = create_cnn(data, models.resnet50, lin_ftrs=[2048])\n",
        "learn.clip_grad();\n",
        "learn.load('res50-full-train-stage-3-part-2')\n",
        "learn.freeze_to(-1)\n",
        "\n",
        "learn.fit_one_cycle(4, 1e-2 / 4)\n",
        "learn.save(f'{name}-stage-3-part-3')"
      ],
      "execution_count": 0,
      "outputs": [
        {
          "output_type": "stream",
          "text": [
            "Downloading: \"https://download.pytorch.org/models/resnet50-19c8e357.pth\" to /root/.torch/models/resnet50-19c8e357.pth\n",
            "100%|██████████| 102502400/102502400 [00:06<00:00, 15278661.53it/s]\n"
          ],
          "name": "stderr"
        },
        {
          "output_type": "display_data",
          "data": {
            "text/html": [
              "Total time: 9:09:40 <p><table style='width:300px; margin-bottom:10px'>\n",
              "  <tr>\n",
              "    <th>epoch</th>\n",
              "    <th>train_loss</th>\n",
              "    <th>valid_loss</th>\n",
              "  </tr>\n",
              "  <tr>\n",
              "    <th>1</th>\n",
              "    <th>1.890431</th>\n",
              "    <th>2.677435</th>\n",
              "  </tr>\n",
              "  <tr>\n",
              "    <th>2</th>\n",
              "    <th>1.363423</th>\n",
              "    <th>3.218010</th>\n",
              "  </tr>\n",
              "  <tr>\n",
              "    <th>3</th>\n",
              "    <th>0.497529</th>\n",
              "    <th>2.592588</th>\n",
              "  </tr>\n",
              "  <tr>\n",
              "    <th>4</th>\n",
              "    <th>0.273690</th>\n",
              "    <th>2.408185</th>\n",
              "  </tr>\n",
              "</table>\n"
            ],
            "text/plain": [
              "<IPython.core.display.HTML object>"
            ]
          },
          "metadata": {
            "tags": []
          }
        },
        {
          "output_type": "stream",
          "text": [
            "CPU times: user 6h 52min 24s, sys: 2h 22min 4s, total: 9h 14min 29s\n",
            "Wall time: 9h 9min 55s\n"
          ],
          "name": "stdout"
        }
      ]
    },
    {
      "cell_type": "code",
      "metadata": {
        "id": "vDPa040Acljr",
        "colab_type": "code",
        "colab": {}
      },
      "source": [
        "!cp 'sample_data/whales/models/res50-full-train-stage-3-part-4.pth' 'whale/My Drive'"
      ],
      "execution_count": 0,
      "outputs": []
    },
    {
      "cell_type": "code",
      "metadata": {
        "id": "Z87zfD6YAYjS",
        "colab_type": "code",
        "outputId": "78ed4858-2539-4865-d26c-3600e515e9f5",
        "colab": {
          "base_uri": "https://localhost:8080/",
          "height": 232
        }
      },
      "source": [
        "##PART 3 -part 4\n",
        "%%time\n",
        "learn = create_cnn(data, models.resnet50, lin_ftrs=[2048])\n",
        "learn.clip_grad();\n",
        "learn.load('res50-full-train-stage-3-part-3')\n",
        "learn.freeze_to(-1)\n",
        "\n",
        "learn.fit_one_cycle(4, 1e-2 / 4)\n",
        "learn.save(f'{name}-stage-3-part-4')"
      ],
      "execution_count": 0,
      "outputs": [
        {
          "output_type": "stream",
          "text": [
            "Downloading: \"https://download.pytorch.org/models/resnet50-19c8e357.pth\" to /root/.torch/models/resnet50-19c8e357.pth\n",
            "100%|██████████| 102502400/102502400 [00:04<00:00, 22346895.62it/s]\n"
          ],
          "name": "stderr"
        },
        {
          "output_type": "display_data",
          "data": {
            "text/html": [
              "Total time: 9:08:53 <p><table style='width:300px; margin-bottom:10px'>\n",
              "  <tr>\n",
              "    <th>epoch</th>\n",
              "    <th>train_loss</th>\n",
              "    <th>valid_loss</th>\n",
              "  </tr>\n",
              "  <tr>\n",
              "    <th>1</th>\n",
              "    <th>2.032465</th>\n",
              "    <th>4.141436</th>\n",
              "  </tr>\n",
              "  <tr>\n",
              "    <th>2</th>\n",
              "    <th>1.354550</th>\n",
              "    <th>5.255115</th>\n",
              "  </tr>\n",
              "  <tr>\n",
              "    <th>3</th>\n",
              "    <th>0.662073</th>\n",
              "    <th>2.919000</th>\n",
              "  </tr>\n",
              "  <tr>\n",
              "    <th>4</th>\n",
              "    <th>0.279628</th>\n",
              "    <th>2.737924</th>\n",
              "  </tr>\n",
              "</table>\n"
            ],
            "text/plain": [
              "<IPython.core.display.HTML object>"
            ]
          },
          "metadata": {
            "tags": []
          }
        },
        {
          "output_type": "stream",
          "text": [
            "CPU times: user 6h 53min 42s, sys: 2h 19min 43s, total: 9h 13min 25s\n",
            "Wall time: 9h 9min 9s\n"
          ],
          "name": "stdout"
        }
      ]
    },
    {
      "cell_type": "code",
      "metadata": {
        "id": "bzkSsHT_UklP",
        "colab_type": "code",
        "outputId": "01762dcb-93c4-461d-ce9e-d660b92ee57e",
        "colab": {
          "base_uri": "https://localhost:8080/",
          "height": 218
        }
      },
      "source": [
        "##PART 3 -part 5\n",
        "%%time\n",
        "learn = create_cnn(data, models.resnet50, lin_ftrs=[2048])\n",
        "learn.clip_grad();\n",
        "learn.load('res50-full-train-stage-3-part-4')\n",
        "learn.freeze_to(-1)\n",
        "\n",
        "learn.fit_one_cycle(4, 1e-2 / 4)\n",
        "learn.save(f'{name}-stage-3-part-5')"
      ],
      "execution_count": 0,
      "outputs": [
        {
          "output_type": "stream",
          "text": [
            "Downloading: \"https://download.pytorch.org/models/resnet50-19c8e357.pth\" to /root/.torch/models/resnet50-19c8e357.pth\n",
            "100%|██████████| 102502400/102502400 [00:03<00:00, 27594336.92it/s]\n"
          ],
          "name": "stderr"
        },
        {
          "output_type": "display_data",
          "data": {
            "text/html": [
              "Total time: 9:05:58 <p><table style='width:300px; margin-bottom:10px'>\n",
              "  <tr>\n",
              "    <th>epoch</th>\n",
              "    <th>train_loss</th>\n",
              "    <th>valid_loss</th>\n",
              "  </tr>\n",
              "  <tr>\n",
              "    <th>1</th>\n",
              "    <th>2.442786</th>\n",
              "    <th>5.539152</th>\n",
              "  </tr>\n",
              "  <tr>\n",
              "    <th>2</th>\n",
              "    <th>1.490203</th>\n",
              "    <th>7.929194</th>\n",
              "  </tr>\n",
              "  <tr>\n",
              "    <th>3</th>\n",
              "    <th>0.585645</th>\n",
              "    <th>4.073714</th>\n",
              "  </tr>\n",
              "  <tr>\n",
              "    <th>4</th>\n",
              "    <th>0.360894</th>\n",
              "    <th>4.661210</th>\n",
              "  </tr>\n",
              "</table>\n"
            ],
            "text/plain": [
              "<IPython.core.display.HTML object>"
            ]
          },
          "metadata": {
            "tags": []
          }
        },
        {
          "output_type": "stream",
          "text": [
            "CPU times: user 6h 45min 27s, sys: 2h 24min 49s, total: 9h 10min 17s\n",
            "Wall time: 9h 6min 10s\n"
          ],
          "name": "stdout"
        }
      ]
    },
    {
      "cell_type": "markdown",
      "metadata": {
        "id": "KWs9woFWsVIC",
        "colab_type": "text"
      },
      "source": [
        "### MOUNT"
      ]
    },
    {
      "cell_type": "code",
      "metadata": {
        "id": "GMDAp9poIboO",
        "colab_type": "code",
        "outputId": "ed44fa40-d56a-4326-e651-9b2fb117f5cc",
        "colab": {
          "base_uri": "https://localhost:8080/",
          "height": 128
        }
      },
      "source": [
        "from google.colab import drive\n",
        "drive.mount('/content/whale')"
      ],
      "execution_count": 0,
      "outputs": [
        {
          "output_type": "stream",
          "text": [
            "Go to this URL in a browser: https://accounts.google.com/o/oauth2/auth?client_id=947318989803-6bn6qk8qdgf4n4g3pfee6491hc0brc4i.apps.googleusercontent.com&redirect_uri=urn%3Aietf%3Awg%3Aoauth%3A2.0%3Aoob&scope=email%20https%3A%2F%2Fwww.googleapis.com%2Fauth%2Fdocs.test%20https%3A%2F%2Fwww.googleapis.com%2Fauth%2Fdrive%20https%3A%2F%2Fwww.googleapis.com%2Fauth%2Fdrive.photos.readonly%20https%3A%2F%2Fwww.googleapis.com%2Fauth%2Fpeopleapi.readonly&response_type=code\n",
            "\n",
            "Enter your authorization code:\n",
            "··········\n",
            "Mounted at /content/whale\n"
          ],
          "name": "stdout"
        }
      ]
    },
    {
      "cell_type": "code",
      "metadata": {
        "id": "9d7m_53XJCPs",
        "colab_type": "code",
        "outputId": "d67f68bd-682c-4c88-f18c-3a85d88c1a63",
        "colab": {
          "base_uri": "https://localhost:8080/",
          "height": 310
        }
      },
      "source": [
        "!ls -l 'whale/My Drive/'"
      ],
      "execution_count": 0,
      "outputs": [
        {
          "output_type": "stream",
          "text": [
            "total 2784490\n",
            "-rw------- 1 root root     16299 Aug 24  2016 '2016-2017 GD Goenka Public  School Fee Structure.docx'\n",
            "-rw------- 1 root root         1 Aug 31  2010 'achla sharma august 2010.gsheet'\n",
            "drwx------ 2 root root      4096 Sep  6 11:00 'Colab Notebooks'\n",
            "-rw------- 1 root root     48757 Nov  3  2016  CV_Amit_Sharma.docx\n",
            "-rw------- 1 root root     12457 Sep 19  2015 'food menu price.docx'\n",
            "-rw------- 1 root root    355528 Aug  7  2014 'omaxe 4.jpeg'\n",
            "-rw------- 1 root root    508004 Dec 16  2014 'OMEX Electricity Bill.jpeg'\n",
            "-rw------- 1 root root 318680658 Jan 22 15:14  res50-full-train-stage-3-part-5.pth\n",
            "-rw------- 1 root root 506336964 Jan 22 17:25  res50-full-train-stage-4-part-1.pth\n",
            "-rw------- 1 root root 506336564 Jan 23 16:45  res50-full-train-stage-4-part-2.pth\n",
            "-rw------- 1 root root 506337230 Jan 24 17:36  res50-full-train-stage-4-part-3.pth\n",
            "-rw------- 1 root root 506336942 Jan 25 05:49  res50-full-train-stage-4-part-4.pth\n",
            "-rw------- 1 root root 506336586 Jan 25 18:34  res50-full-train-stage-4-part-5.pth\n",
            "drwx------ 2 root root      4096 Jan 13 10:48  Test\n"
          ],
          "name": "stdout"
        }
      ]
    },
    {
      "cell_type": "code",
      "metadata": {
        "id": "M5Ud9Dsyd21U",
        "colab_type": "code",
        "colab": {}
      },
      "source": [
        "!mkdir sample_data/whales/models"
      ],
      "execution_count": 0,
      "outputs": []
    },
    {
      "cell_type": "code",
      "metadata": {
        "id": "0G-gQuAFN-tO",
        "colab_type": "code",
        "colab": {}
      },
      "source": [
        "!rm sample_data/whales/model"
      ],
      "execution_count": 0,
      "outputs": []
    },
    {
      "cell_type": "code",
      "metadata": {
        "id": "WTf7eMXfGX6H",
        "colab_type": "code",
        "colab": {}
      },
      "source": [
        "#code to move file to Drive\n",
        "\n",
        "!cp 'sample_data/whales/models/res50-full-train-stage-4-part-5.pth' 'whale/My Drive'"
      ],
      "execution_count": 0,
      "outputs": []
    },
    {
      "cell_type": "code",
      "metadata": {
        "id": "ge7a4kZGGjPX",
        "colab_type": "code",
        "colab": {}
      },
      "source": [
        "#Code to copye from Drive\n",
        "!cp 'whale/My Drive/res50-full-train-stage-4-part-5.pth' 'sample_data/whales/models/'"
      ],
      "execution_count": 0,
      "outputs": []
    },
    {
      "cell_type": "markdown",
      "metadata": {
        "id": "HktetOXbbv87",
        "colab_type": "text"
      },
      "source": [
        "**STAGE 4 ROUNDS**"
      ]
    },
    {
      "cell_type": "markdown",
      "metadata": {
        "id": "26hJ9CHkS1yz",
        "colab_type": "text"
      },
      "source": [
        ""
      ]
    },
    {
      "cell_type": "code",
      "metadata": {
        "id": "qSddo8_ozCxH",
        "colab_type": "code",
        "colab": {}
      },
      "source": [
        "SZ = 224 * 2\n",
        "BS = 64 // 4\n",
        "NUM_WORKERS = 0\n",
        "SEED=0\n",
        "\n",
        "data = (\n",
        "    ImageItemList\n",
        "        .from_df(df[df.Id != 'new_whale'], 'sample_data/whales/train', cols=['Image'])\n",
        "        .split_by_valid_func(lambda path: path2fn(path) in val_fns)\n",
        "        .label_from_func(lambda path: fn2label[path2fn(path)])\n",
        "        .add_test(ImageItemList.from_folder('sample_data/whales/test'))\n",
        "        .transform(get_transforms(do_flip=False), size=SZ, resize_method=ResizeMethod.SQUISH)\n",
        "        .databunch(bs=BS, num_workers=NUM_WORKERS, path='sample_data/whales')\n",
        "        .normalize(imagenet_stats)\n",
        ")"
      ],
      "execution_count": 0,
      "outputs": []
    },
    {
      "cell_type": "code",
      "metadata": {
        "id": "4fw0Wed5IiLm",
        "colab_type": "code",
        "outputId": "310dedc2-4a2d-41cf-88b7-1c79a41ee250",
        "colab": {
          "base_uri": "https://localhost:8080/",
          "height": 73
        }
      },
      "source": [
        "learn = create_cnn(data, models.resnet50, lin_ftrs=[2048])\n"
      ],
      "execution_count": 0,
      "outputs": [
        {
          "output_type": "stream",
          "text": [
            "Downloading: \"https://download.pytorch.org/models/resnet50-19c8e357.pth\" to /root/.torch/models/resnet50-19c8e357.pth\n",
            "100%|██████████| 102502400/102502400 [00:01<00:00, 93191703.81it/s]\n"
          ],
          "name": "stderr"
        }
      ]
    },
    {
      "cell_type": "code",
      "metadata": {
        "id": "E3Q9cOEUZdZR",
        "colab_type": "code",
        "outputId": "5ad5fb34-1c5e-432e-86c4-ae7a3abb447e",
        "colab": {
          "base_uri": "https://localhost:8080/",
          "height": 196
        }
      },
      "source": [
        "##PART 4-part-1\n",
        "learn = create_cnn(data, models.resnet50, lin_ftrs=[2048])\n",
        "learn.load('res50-full-train-stage-3-part-5')\n",
        "learn.unfreeze()\n",
        "\n",
        "max_lr = 1e-3 / 4\n",
        "lrs = [max_lr/100, max_lr/10, max_lr]\n",
        "\n",
        "learn.fit_one_cycle(4, lrs) #22\n",
        "learn.save(f'{name}-stage-4-part-1')"
      ],
      "execution_count": 0,
      "outputs": [
        {
          "output_type": "stream",
          "text": [
            "Downloading: \"https://download.pytorch.org/models/resnet50-19c8e357.pth\" to /root/.torch/models/resnet50-19c8e357.pth\n",
            "100%|██████████| 102502400/102502400 [00:06<00:00, 15737737.73it/s]\n"
          ],
          "name": "stderr"
        },
        {
          "output_type": "display_data",
          "data": {
            "text/html": [
              "Total time: 11:01:00 <p><table style='width:300px; margin-bottom:10px'>\n",
              "  <tr>\n",
              "    <th>epoch</th>\n",
              "    <th>train_loss</th>\n",
              "    <th>valid_loss</th>\n",
              "  </tr>\n",
              "  <tr>\n",
              "    <th>1</th>\n",
              "    <th>1.095884</th>\n",
              "    <th>2.409933</th>\n",
              "  </tr>\n",
              "  <tr>\n",
              "    <th>2</th>\n",
              "    <th>1.240411</th>\n",
              "    <th>4.130028</th>\n",
              "  </tr>\n",
              "  <tr>\n",
              "    <th>3</th>\n",
              "    <th>1.551129</th>\n",
              "    <th>4.654655</th>\n",
              "  </tr>\n",
              "  <tr>\n",
              "    <th>4</th>\n",
              "    <th>1.412143</th>\n",
              "    <th>6.273783</th>\n",
              "  </tr>\n",
              "</table>\n"
            ],
            "text/plain": [
              "<IPython.core.display.HTML object>"
            ]
          },
          "metadata": {
            "tags": []
          }
        }
      ]
    },
    {
      "cell_type": "code",
      "metadata": {
        "id": "5fQWZmk9sN22",
        "colab_type": "code",
        "outputId": "c912bd22-de73-4cfe-e474-1a9b4bdba5a3",
        "colab": {
          "base_uri": "https://localhost:8080/",
          "height": 159
        }
      },
      "source": [
        "##PART 4-part-2\n",
        "\n",
        "learn.load('res50-full-train-stage-4-part-1')\n",
        "learn.unfreeze()\n",
        "\n",
        "max_lr = 1e-3 / 4\n",
        "lrs = [max_lr/100, max_lr/10, max_lr]\n",
        "\n",
        "learn.fit_one_cycle(4, lrs) #22\n",
        "learn.save(f'{name}-stage-4-part-2')"
      ],
      "execution_count": 0,
      "outputs": [
        {
          "output_type": "display_data",
          "data": {
            "text/html": [
              "Total time: 11:29:04 <p><table style='width:300px; margin-bottom:10px'>\n",
              "  <tr>\n",
              "    <th>epoch</th>\n",
              "    <th>train_loss</th>\n",
              "    <th>valid_loss</th>\n",
              "  </tr>\n",
              "  <tr>\n",
              "    <th>1</th>\n",
              "    <th>2.259131</th>\n",
              "    <th>4.608147</th>\n",
              "  </tr>\n",
              "  <tr>\n",
              "    <th>2</th>\n",
              "    <th>2.281987</th>\n",
              "    <th>5.075342</th>\n",
              "  </tr>\n",
              "  <tr>\n",
              "    <th>3</th>\n",
              "    <th>2.339390</th>\n",
              "    <th>5.971130</th>\n",
              "  </tr>\n",
              "  <tr>\n",
              "    <th>4</th>\n",
              "    <th>2.375193</th>\n",
              "    <th>7.623811</th>\n",
              "  </tr>\n",
              "</table>\n"
            ],
            "text/plain": [
              "<IPython.core.display.HTML object>"
            ]
          },
          "metadata": {
            "tags": []
          }
        }
      ]
    },
    {
      "cell_type": "code",
      "metadata": {
        "id": "ncsHeru0sOod",
        "colab_type": "code",
        "outputId": "08cae506-921b-49ee-8f67-5ce62caed3ad",
        "colab": {
          "base_uri": "https://localhost:8080/",
          "height": 155
        }
      },
      "source": [
        "##PART 4-part-3\n",
        "\n",
        "learn.load('res50-full-train-stage-4-part-2')\n",
        "learn.unfreeze()\n",
        "\n",
        "max_lr = 1e-3 / 4\n",
        "lrs = [max_lr/100, max_lr/10, max_lr]\n",
        "\n",
        "learn.fit_one_cycle(4, lrs) #22\n",
        "learn.save(f'{name}-stage-4-part-3')"
      ],
      "execution_count": 0,
      "outputs": [
        {
          "output_type": "display_data",
          "data": {
            "text/html": [
              "Total time: 11:03:22 <p><table style='width:300px; margin-bottom:10px'>\n",
              "  <tr>\n",
              "    <th>epoch</th>\n",
              "    <th>train_loss</th>\n",
              "    <th>valid_loss</th>\n",
              "  </tr>\n",
              "  <tr>\n",
              "    <th>1</th>\n",
              "    <th>2.364141</th>\n",
              "    <th>6.632634</th>\n",
              "  </tr>\n",
              "  <tr>\n",
              "    <th>2</th>\n",
              "    <th>2.032646</th>\n",
              "    <th>6.946973</th>\n",
              "  </tr>\n",
              "  <tr>\n",
              "    <th>3</th>\n",
              "    <th>2.332139</th>\n",
              "    <th>6.511933</th>\n",
              "  </tr>\n",
              "  <tr>\n",
              "    <th>4</th>\n",
              "    <th>2.471769</th>\n",
              "    <th>7.021647</th>\n",
              "  </tr>\n",
              "</table>\n"
            ],
            "text/plain": [
              "<IPython.core.display.HTML object>"
            ]
          },
          "metadata": {
            "tags": []
          }
        }
      ]
    },
    {
      "cell_type": "code",
      "metadata": {
        "id": "x81KHNQMsO3_",
        "colab_type": "code",
        "outputId": "e3f64ed3-2837-4cca-a00c-368420015902",
        "colab": {
          "base_uri": "https://localhost:8080/",
          "height": 159
        }
      },
      "source": [
        "##PART 4-part-4\n",
        "\n",
        "learn.load('res50-full-train-stage-4-part-3')\n",
        "learn.unfreeze()\n",
        "\n",
        "max_lr = 1e-3 / 4\n",
        "lrs = [max_lr/100, max_lr/10, max_lr]\n",
        "\n",
        "learn.fit_one_cycle(4, lrs) #22\n",
        "learn.save(f'{name}-stage-4-part-4')"
      ],
      "execution_count": 0,
      "outputs": [
        {
          "output_type": "display_data",
          "data": {
            "text/html": [
              "Total time: 10:46:04 <p><table style='width:300px; margin-bottom:10px'>\n",
              "  <tr>\n",
              "    <th>epoch</th>\n",
              "    <th>train_loss</th>\n",
              "    <th>valid_loss</th>\n",
              "  </tr>\n",
              "  <tr>\n",
              "    <th>1</th>\n",
              "    <th>2.186477</th>\n",
              "    <th>6.073497</th>\n",
              "  </tr>\n",
              "  <tr>\n",
              "    <th>2</th>\n",
              "    <th>1.871105</th>\n",
              "    <th>7.115342</th>\n",
              "  </tr>\n",
              "  <tr>\n",
              "    <th>3</th>\n",
              "    <th>2.218727</th>\n",
              "    <th>7.177239</th>\n",
              "  </tr>\n",
              "  <tr>\n",
              "    <th>4</th>\n",
              "    <th>2.431301</th>\n",
              "    <th>7.813730</th>\n",
              "  </tr>\n",
              "</table>\n"
            ],
            "text/plain": [
              "<IPython.core.display.HTML object>"
            ]
          },
          "metadata": {
            "tags": []
          }
        }
      ]
    },
    {
      "cell_type": "code",
      "metadata": {
        "id": "O-ckfpCY8fMQ",
        "colab_type": "code",
        "outputId": "ab673f61-3e80-4eba-8ba1-0a6031354600",
        "colab": {
          "base_uri": "https://localhost:8080/",
          "height": 159
        }
      },
      "source": [
        "##PART 4-part-5\n",
        "\n",
        "learn.load('res50-full-train-stage-4-part-4')\n",
        "learn.unfreeze()\n",
        "\n",
        "max_lr = 1e-3 / 4\n",
        "lrs = [max_lr/100, max_lr/10, max_lr]\n",
        "\n",
        "learn.fit_one_cycle(4, lrs) #22\n",
        "learn.save(f'{name}-stage-4-part-5')"
      ],
      "execution_count": 0,
      "outputs": [
        {
          "output_type": "display_data",
          "data": {
            "text/html": [
              "Total time: 10:49:28 <p><table style='width:300px; margin-bottom:10px'>\n",
              "  <tr>\n",
              "    <th>epoch</th>\n",
              "    <th>train_loss</th>\n",
              "    <th>valid_loss</th>\n",
              "  </tr>\n",
              "  <tr>\n",
              "    <th>1</th>\n",
              "    <th>1.903073</th>\n",
              "    <th>5.588830</th>\n",
              "  </tr>\n",
              "  <tr>\n",
              "    <th>2</th>\n",
              "    <th>1.807839</th>\n",
              "    <th>7.190259</th>\n",
              "  </tr>\n",
              "  <tr>\n",
              "    <th>3</th>\n",
              "    <th>1.990732</th>\n",
              "    <th>7.428331</th>\n",
              "  </tr>\n",
              "  <tr>\n",
              "    <th>4</th>\n",
              "    <th>2.326669</th>\n",
              "    <th>8.454953</th>\n",
              "  </tr>\n",
              "</table>\n"
            ],
            "text/plain": [
              "<IPython.core.display.HTML object>"
            ]
          },
          "metadata": {
            "tags": []
          }
        }
      ]
    },
    {
      "cell_type": "code",
      "metadata": {
        "id": "tC4Uw_hV-hSr",
        "colab_type": "code",
        "outputId": "f0307300-500e-4cf3-8e83-6f8fe6c08300",
        "colab": {
          "base_uri": "https://localhost:8080/",
          "height": 6414
        }
      },
      "source": [
        "learn.load('res50-full-train-stage-4-part-5')\n"
      ],
      "execution_count": 0,
      "outputs": [
        {
          "output_type": "execute_result",
          "data": {
            "text/plain": [
              "Learner(data=ImageDataBunch;\n",
              "\n",
              "Train: LabelList\n",
              "y: CategoryList (76174 items)\n",
              "[Category w_0003639, Category w_0003639, Category w_0003639, Category w_0003639, Category w_0003639]...\n",
              "Path: sample_data/whales/train\n",
              "x: ImageItemList (76174 items)\n",
              "[Image (3, 700, 1050), Image (3, 700, 1050), Image (3, 700, 1050), Image (3, 700, 1050), Image (3, 700, 1050)]...\n",
              "Path: sample_data/whales/train;\n",
              "\n",
              "Valid: LabelList\n",
              "y: CategoryList (2931 items)\n",
              "[Category w_c3d896a, Category w_20df2c5, Category w_a6f9d33, Category w_d3b46e7, Category w_13ae3d4]...\n",
              "Path: sample_data/whales/train\n",
              "x: ImageItemList (2931 items)\n",
              "[Image (3, 325, 758), Image (3, 497, 1050), Image (3, 667, 1000), Image (3, 347, 1050), Image (3, 525, 1050)]...\n",
              "Path: sample_data/whales/train;\n",
              "\n",
              "Test: LabelList\n",
              "y: EmptyLabelList (7960 items)\n",
              "[EmptyLabel , EmptyLabel , EmptyLabel , EmptyLabel , EmptyLabel ]...\n",
              "Path: .\n",
              "x: ImageItemList (7960 items)\n",
              "[Image (3, 677, 1050), Image (3, 755, 1050), Image (3, 117, 261), Image (3, 438, 1050), Image (3, 600, 1050)]...\n",
              "Path: sample_data/whales/train, model=Sequential(\n",
              "  (0): Sequential(\n",
              "    (0): Conv2d(3, 64, kernel_size=(7, 7), stride=(2, 2), padding=(3, 3), bias=False)\n",
              "    (1): BatchNorm2d(64, eps=1e-05, momentum=0.1, affine=True, track_running_stats=True)\n",
              "    (2): ReLU(inplace)\n",
              "    (3): MaxPool2d(kernel_size=3, stride=2, padding=1, dilation=1, ceil_mode=False)\n",
              "    (4): Sequential(\n",
              "      (0): Bottleneck(\n",
              "        (conv1): Conv2d(64, 64, kernel_size=(1, 1), stride=(1, 1), bias=False)\n",
              "        (bn1): BatchNorm2d(64, eps=1e-05, momentum=0.1, affine=True, track_running_stats=True)\n",
              "        (conv2): Conv2d(64, 64, kernel_size=(3, 3), stride=(1, 1), padding=(1, 1), bias=False)\n",
              "        (bn2): BatchNorm2d(64, eps=1e-05, momentum=0.1, affine=True, track_running_stats=True)\n",
              "        (conv3): Conv2d(64, 256, kernel_size=(1, 1), stride=(1, 1), bias=False)\n",
              "        (bn3): BatchNorm2d(256, eps=1e-05, momentum=0.1, affine=True, track_running_stats=True)\n",
              "        (relu): ReLU(inplace)\n",
              "        (downsample): Sequential(\n",
              "          (0): Conv2d(64, 256, kernel_size=(1, 1), stride=(1, 1), bias=False)\n",
              "          (1): BatchNorm2d(256, eps=1e-05, momentum=0.1, affine=True, track_running_stats=True)\n",
              "        )\n",
              "      )\n",
              "      (1): Bottleneck(\n",
              "        (conv1): Conv2d(256, 64, kernel_size=(1, 1), stride=(1, 1), bias=False)\n",
              "        (bn1): BatchNorm2d(64, eps=1e-05, momentum=0.1, affine=True, track_running_stats=True)\n",
              "        (conv2): Conv2d(64, 64, kernel_size=(3, 3), stride=(1, 1), padding=(1, 1), bias=False)\n",
              "        (bn2): BatchNorm2d(64, eps=1e-05, momentum=0.1, affine=True, track_running_stats=True)\n",
              "        (conv3): Conv2d(64, 256, kernel_size=(1, 1), stride=(1, 1), bias=False)\n",
              "        (bn3): BatchNorm2d(256, eps=1e-05, momentum=0.1, affine=True, track_running_stats=True)\n",
              "        (relu): ReLU(inplace)\n",
              "      )\n",
              "      (2): Bottleneck(\n",
              "        (conv1): Conv2d(256, 64, kernel_size=(1, 1), stride=(1, 1), bias=False)\n",
              "        (bn1): BatchNorm2d(64, eps=1e-05, momentum=0.1, affine=True, track_running_stats=True)\n",
              "        (conv2): Conv2d(64, 64, kernel_size=(3, 3), stride=(1, 1), padding=(1, 1), bias=False)\n",
              "        (bn2): BatchNorm2d(64, eps=1e-05, momentum=0.1, affine=True, track_running_stats=True)\n",
              "        (conv3): Conv2d(64, 256, kernel_size=(1, 1), stride=(1, 1), bias=False)\n",
              "        (bn3): BatchNorm2d(256, eps=1e-05, momentum=0.1, affine=True, track_running_stats=True)\n",
              "        (relu): ReLU(inplace)\n",
              "      )\n",
              "    )\n",
              "    (5): Sequential(\n",
              "      (0): Bottleneck(\n",
              "        (conv1): Conv2d(256, 128, kernel_size=(1, 1), stride=(1, 1), bias=False)\n",
              "        (bn1): BatchNorm2d(128, eps=1e-05, momentum=0.1, affine=True, track_running_stats=True)\n",
              "        (conv2): Conv2d(128, 128, kernel_size=(3, 3), stride=(2, 2), padding=(1, 1), bias=False)\n",
              "        (bn2): BatchNorm2d(128, eps=1e-05, momentum=0.1, affine=True, track_running_stats=True)\n",
              "        (conv3): Conv2d(128, 512, kernel_size=(1, 1), stride=(1, 1), bias=False)\n",
              "        (bn3): BatchNorm2d(512, eps=1e-05, momentum=0.1, affine=True, track_running_stats=True)\n",
              "        (relu): ReLU(inplace)\n",
              "        (downsample): Sequential(\n",
              "          (0): Conv2d(256, 512, kernel_size=(1, 1), stride=(2, 2), bias=False)\n",
              "          (1): BatchNorm2d(512, eps=1e-05, momentum=0.1, affine=True, track_running_stats=True)\n",
              "        )\n",
              "      )\n",
              "      (1): Bottleneck(\n",
              "        (conv1): Conv2d(512, 128, kernel_size=(1, 1), stride=(1, 1), bias=False)\n",
              "        (bn1): BatchNorm2d(128, eps=1e-05, momentum=0.1, affine=True, track_running_stats=True)\n",
              "        (conv2): Conv2d(128, 128, kernel_size=(3, 3), stride=(1, 1), padding=(1, 1), bias=False)\n",
              "        (bn2): BatchNorm2d(128, eps=1e-05, momentum=0.1, affine=True, track_running_stats=True)\n",
              "        (conv3): Conv2d(128, 512, kernel_size=(1, 1), stride=(1, 1), bias=False)\n",
              "        (bn3): BatchNorm2d(512, eps=1e-05, momentum=0.1, affine=True, track_running_stats=True)\n",
              "        (relu): ReLU(inplace)\n",
              "      )\n",
              "      (2): Bottleneck(\n",
              "        (conv1): Conv2d(512, 128, kernel_size=(1, 1), stride=(1, 1), bias=False)\n",
              "        (bn1): BatchNorm2d(128, eps=1e-05, momentum=0.1, affine=True, track_running_stats=True)\n",
              "        (conv2): Conv2d(128, 128, kernel_size=(3, 3), stride=(1, 1), padding=(1, 1), bias=False)\n",
              "        (bn2): BatchNorm2d(128, eps=1e-05, momentum=0.1, affine=True, track_running_stats=True)\n",
              "        (conv3): Conv2d(128, 512, kernel_size=(1, 1), stride=(1, 1), bias=False)\n",
              "        (bn3): BatchNorm2d(512, eps=1e-05, momentum=0.1, affine=True, track_running_stats=True)\n",
              "        (relu): ReLU(inplace)\n",
              "      )\n",
              "      (3): Bottleneck(\n",
              "        (conv1): Conv2d(512, 128, kernel_size=(1, 1), stride=(1, 1), bias=False)\n",
              "        (bn1): BatchNorm2d(128, eps=1e-05, momentum=0.1, affine=True, track_running_stats=True)\n",
              "        (conv2): Conv2d(128, 128, kernel_size=(3, 3), stride=(1, 1), padding=(1, 1), bias=False)\n",
              "        (bn2): BatchNorm2d(128, eps=1e-05, momentum=0.1, affine=True, track_running_stats=True)\n",
              "        (conv3): Conv2d(128, 512, kernel_size=(1, 1), stride=(1, 1), bias=False)\n",
              "        (bn3): BatchNorm2d(512, eps=1e-05, momentum=0.1, affine=True, track_running_stats=True)\n",
              "        (relu): ReLU(inplace)\n",
              "      )\n",
              "    )\n",
              "    (6): Sequential(\n",
              "      (0): Bottleneck(\n",
              "        (conv1): Conv2d(512, 256, kernel_size=(1, 1), stride=(1, 1), bias=False)\n",
              "        (bn1): BatchNorm2d(256, eps=1e-05, momentum=0.1, affine=True, track_running_stats=True)\n",
              "        (conv2): Conv2d(256, 256, kernel_size=(3, 3), stride=(2, 2), padding=(1, 1), bias=False)\n",
              "        (bn2): BatchNorm2d(256, eps=1e-05, momentum=0.1, affine=True, track_running_stats=True)\n",
              "        (conv3): Conv2d(256, 1024, kernel_size=(1, 1), stride=(1, 1), bias=False)\n",
              "        (bn3): BatchNorm2d(1024, eps=1e-05, momentum=0.1, affine=True, track_running_stats=True)\n",
              "        (relu): ReLU(inplace)\n",
              "        (downsample): Sequential(\n",
              "          (0): Conv2d(512, 1024, kernel_size=(1, 1), stride=(2, 2), bias=False)\n",
              "          (1): BatchNorm2d(1024, eps=1e-05, momentum=0.1, affine=True, track_running_stats=True)\n",
              "        )\n",
              "      )\n",
              "      (1): Bottleneck(\n",
              "        (conv1): Conv2d(1024, 256, kernel_size=(1, 1), stride=(1, 1), bias=False)\n",
              "        (bn1): BatchNorm2d(256, eps=1e-05, momentum=0.1, affine=True, track_running_stats=True)\n",
              "        (conv2): Conv2d(256, 256, kernel_size=(3, 3), stride=(1, 1), padding=(1, 1), bias=False)\n",
              "        (bn2): BatchNorm2d(256, eps=1e-05, momentum=0.1, affine=True, track_running_stats=True)\n",
              "        (conv3): Conv2d(256, 1024, kernel_size=(1, 1), stride=(1, 1), bias=False)\n",
              "        (bn3): BatchNorm2d(1024, eps=1e-05, momentum=0.1, affine=True, track_running_stats=True)\n",
              "        (relu): ReLU(inplace)\n",
              "      )\n",
              "      (2): Bottleneck(\n",
              "        (conv1): Conv2d(1024, 256, kernel_size=(1, 1), stride=(1, 1), bias=False)\n",
              "        (bn1): BatchNorm2d(256, eps=1e-05, momentum=0.1, affine=True, track_running_stats=True)\n",
              "        (conv2): Conv2d(256, 256, kernel_size=(3, 3), stride=(1, 1), padding=(1, 1), bias=False)\n",
              "        (bn2): BatchNorm2d(256, eps=1e-05, momentum=0.1, affine=True, track_running_stats=True)\n",
              "        (conv3): Conv2d(256, 1024, kernel_size=(1, 1), stride=(1, 1), bias=False)\n",
              "        (bn3): BatchNorm2d(1024, eps=1e-05, momentum=0.1, affine=True, track_running_stats=True)\n",
              "        (relu): ReLU(inplace)\n",
              "      )\n",
              "      (3): Bottleneck(\n",
              "        (conv1): Conv2d(1024, 256, kernel_size=(1, 1), stride=(1, 1), bias=False)\n",
              "        (bn1): BatchNorm2d(256, eps=1e-05, momentum=0.1, affine=True, track_running_stats=True)\n",
              "        (conv2): Conv2d(256, 256, kernel_size=(3, 3), stride=(1, 1), padding=(1, 1), bias=False)\n",
              "        (bn2): BatchNorm2d(256, eps=1e-05, momentum=0.1, affine=True, track_running_stats=True)\n",
              "        (conv3): Conv2d(256, 1024, kernel_size=(1, 1), stride=(1, 1), bias=False)\n",
              "        (bn3): BatchNorm2d(1024, eps=1e-05, momentum=0.1, affine=True, track_running_stats=True)\n",
              "        (relu): ReLU(inplace)\n",
              "      )\n",
              "      (4): Bottleneck(\n",
              "        (conv1): Conv2d(1024, 256, kernel_size=(1, 1), stride=(1, 1), bias=False)\n",
              "        (bn1): BatchNorm2d(256, eps=1e-05, momentum=0.1, affine=True, track_running_stats=True)\n",
              "        (conv2): Conv2d(256, 256, kernel_size=(3, 3), stride=(1, 1), padding=(1, 1), bias=False)\n",
              "        (bn2): BatchNorm2d(256, eps=1e-05, momentum=0.1, affine=True, track_running_stats=True)\n",
              "        (conv3): Conv2d(256, 1024, kernel_size=(1, 1), stride=(1, 1), bias=False)\n",
              "        (bn3): BatchNorm2d(1024, eps=1e-05, momentum=0.1, affine=True, track_running_stats=True)\n",
              "        (relu): ReLU(inplace)\n",
              "      )\n",
              "      (5): Bottleneck(\n",
              "        (conv1): Conv2d(1024, 256, kernel_size=(1, 1), stride=(1, 1), bias=False)\n",
              "        (bn1): BatchNorm2d(256, eps=1e-05, momentum=0.1, affine=True, track_running_stats=True)\n",
              "        (conv2): Conv2d(256, 256, kernel_size=(3, 3), stride=(1, 1), padding=(1, 1), bias=False)\n",
              "        (bn2): BatchNorm2d(256, eps=1e-05, momentum=0.1, affine=True, track_running_stats=True)\n",
              "        (conv3): Conv2d(256, 1024, kernel_size=(1, 1), stride=(1, 1), bias=False)\n",
              "        (bn3): BatchNorm2d(1024, eps=1e-05, momentum=0.1, affine=True, track_running_stats=True)\n",
              "        (relu): ReLU(inplace)\n",
              "      )\n",
              "    )\n",
              "    (7): Sequential(\n",
              "      (0): Bottleneck(\n",
              "        (conv1): Conv2d(1024, 512, kernel_size=(1, 1), stride=(1, 1), bias=False)\n",
              "        (bn1): BatchNorm2d(512, eps=1e-05, momentum=0.1, affine=True, track_running_stats=True)\n",
              "        (conv2): Conv2d(512, 512, kernel_size=(3, 3), stride=(2, 2), padding=(1, 1), bias=False)\n",
              "        (bn2): BatchNorm2d(512, eps=1e-05, momentum=0.1, affine=True, track_running_stats=True)\n",
              "        (conv3): Conv2d(512, 2048, kernel_size=(1, 1), stride=(1, 1), bias=False)\n",
              "        (bn3): BatchNorm2d(2048, eps=1e-05, momentum=0.1, affine=True, track_running_stats=True)\n",
              "        (relu): ReLU(inplace)\n",
              "        (downsample): Sequential(\n",
              "          (0): Conv2d(1024, 2048, kernel_size=(1, 1), stride=(2, 2), bias=False)\n",
              "          (1): BatchNorm2d(2048, eps=1e-05, momentum=0.1, affine=True, track_running_stats=True)\n",
              "        )\n",
              "      )\n",
              "      (1): Bottleneck(\n",
              "        (conv1): Conv2d(2048, 512, kernel_size=(1, 1), stride=(1, 1), bias=False)\n",
              "        (bn1): BatchNorm2d(512, eps=1e-05, momentum=0.1, affine=True, track_running_stats=True)\n",
              "        (conv2): Conv2d(512, 512, kernel_size=(3, 3), stride=(1, 1), padding=(1, 1), bias=False)\n",
              "        (bn2): BatchNorm2d(512, eps=1e-05, momentum=0.1, affine=True, track_running_stats=True)\n",
              "        (conv3): Conv2d(512, 2048, kernel_size=(1, 1), stride=(1, 1), bias=False)\n",
              "        (bn3): BatchNorm2d(2048, eps=1e-05, momentum=0.1, affine=True, track_running_stats=True)\n",
              "        (relu): ReLU(inplace)\n",
              "      )\n",
              "      (2): Bottleneck(\n",
              "        (conv1): Conv2d(2048, 512, kernel_size=(1, 1), stride=(1, 1), bias=False)\n",
              "        (bn1): BatchNorm2d(512, eps=1e-05, momentum=0.1, affine=True, track_running_stats=True)\n",
              "        (conv2): Conv2d(512, 512, kernel_size=(3, 3), stride=(1, 1), padding=(1, 1), bias=False)\n",
              "        (bn2): BatchNorm2d(512, eps=1e-05, momentum=0.1, affine=True, track_running_stats=True)\n",
              "        (conv3): Conv2d(512, 2048, kernel_size=(1, 1), stride=(1, 1), bias=False)\n",
              "        (bn3): BatchNorm2d(2048, eps=1e-05, momentum=0.1, affine=True, track_running_stats=True)\n",
              "        (relu): ReLU(inplace)\n",
              "      )\n",
              "    )\n",
              "  )\n",
              "  (1): Sequential(\n",
              "    (0): AdaptiveConcatPool2d(\n",
              "      (ap): AdaptiveAvgPool2d(output_size=1)\n",
              "      (mp): AdaptiveMaxPool2d(output_size=1)\n",
              "    )\n",
              "    (1): Flatten()\n",
              "    (2): BatchNorm1d(4096, eps=1e-05, momentum=0.1, affine=True, track_running_stats=True)\n",
              "    (3): Dropout(p=0.25)\n",
              "    (4): Linear(in_features=4096, out_features=2048, bias=True)\n",
              "    (5): ReLU(inplace)\n",
              "    (6): BatchNorm1d(2048, eps=1e-05, momentum=0.1, affine=True, track_running_stats=True)\n",
              "    (7): Dropout(p=0.5)\n",
              "    (8): Linear(in_features=2048, out_features=5004, bias=True)\n",
              "  )\n",
              "), opt_func=functools.partial(<class 'torch.optim.adam.Adam'>, betas=(0.9, 0.99)), loss_func=FlattenedLoss of CrossEntropyLoss(), metrics=[], true_wd=True, bn_wd=True, wd=0.01, train_bn=True, path=PosixPath('sample_data/whales'), model_dir='models', callback_fns=[<class 'fastai.basic_train.Recorder'>], callbacks=[], layer_groups=[Sequential(\n",
              "  (0): Conv2d(3, 64, kernel_size=(7, 7), stride=(2, 2), padding=(3, 3), bias=False)\n",
              "  (1): BatchNorm2d(64, eps=1e-05, momentum=0.1, affine=True, track_running_stats=True)\n",
              "  (2): ReLU(inplace)\n",
              "  (3): MaxPool2d(kernel_size=3, stride=2, padding=1, dilation=1, ceil_mode=False)\n",
              "  (4): Conv2d(64, 64, kernel_size=(1, 1), stride=(1, 1), bias=False)\n",
              "  (5): BatchNorm2d(64, eps=1e-05, momentum=0.1, affine=True, track_running_stats=True)\n",
              "  (6): Conv2d(64, 64, kernel_size=(3, 3), stride=(1, 1), padding=(1, 1), bias=False)\n",
              "  (7): BatchNorm2d(64, eps=1e-05, momentum=0.1, affine=True, track_running_stats=True)\n",
              "  (8): Conv2d(64, 256, kernel_size=(1, 1), stride=(1, 1), bias=False)\n",
              "  (9): BatchNorm2d(256, eps=1e-05, momentum=0.1, affine=True, track_running_stats=True)\n",
              "  (10): ReLU(inplace)\n",
              "  (11): Conv2d(64, 256, kernel_size=(1, 1), stride=(1, 1), bias=False)\n",
              "  (12): BatchNorm2d(256, eps=1e-05, momentum=0.1, affine=True, track_running_stats=True)\n",
              "  (13): Conv2d(256, 64, kernel_size=(1, 1), stride=(1, 1), bias=False)\n",
              "  (14): BatchNorm2d(64, eps=1e-05, momentum=0.1, affine=True, track_running_stats=True)\n",
              "  (15): Conv2d(64, 64, kernel_size=(3, 3), stride=(1, 1), padding=(1, 1), bias=False)\n",
              "  (16): BatchNorm2d(64, eps=1e-05, momentum=0.1, affine=True, track_running_stats=True)\n",
              "  (17): Conv2d(64, 256, kernel_size=(1, 1), stride=(1, 1), bias=False)\n",
              "  (18): BatchNorm2d(256, eps=1e-05, momentum=0.1, affine=True, track_running_stats=True)\n",
              "  (19): ReLU(inplace)\n",
              "  (20): Conv2d(256, 64, kernel_size=(1, 1), stride=(1, 1), bias=False)\n",
              "  (21): BatchNorm2d(64, eps=1e-05, momentum=0.1, affine=True, track_running_stats=True)\n",
              "  (22): Conv2d(64, 64, kernel_size=(3, 3), stride=(1, 1), padding=(1, 1), bias=False)\n",
              "  (23): BatchNorm2d(64, eps=1e-05, momentum=0.1, affine=True, track_running_stats=True)\n",
              "  (24): Conv2d(64, 256, kernel_size=(1, 1), stride=(1, 1), bias=False)\n",
              "  (25): BatchNorm2d(256, eps=1e-05, momentum=0.1, affine=True, track_running_stats=True)\n",
              "  (26): ReLU(inplace)\n",
              "  (27): Conv2d(256, 128, kernel_size=(1, 1), stride=(1, 1), bias=False)\n",
              "  (28): BatchNorm2d(128, eps=1e-05, momentum=0.1, affine=True, track_running_stats=True)\n",
              "  (29): Conv2d(128, 128, kernel_size=(3, 3), stride=(2, 2), padding=(1, 1), bias=False)\n",
              "  (30): BatchNorm2d(128, eps=1e-05, momentum=0.1, affine=True, track_running_stats=True)\n",
              "  (31): Conv2d(128, 512, kernel_size=(1, 1), stride=(1, 1), bias=False)\n",
              "  (32): BatchNorm2d(512, eps=1e-05, momentum=0.1, affine=True, track_running_stats=True)\n",
              "  (33): ReLU(inplace)\n",
              "  (34): Conv2d(256, 512, kernel_size=(1, 1), stride=(2, 2), bias=False)\n",
              "  (35): BatchNorm2d(512, eps=1e-05, momentum=0.1, affine=True, track_running_stats=True)\n",
              "  (36): Conv2d(512, 128, kernel_size=(1, 1), stride=(1, 1), bias=False)\n",
              "  (37): BatchNorm2d(128, eps=1e-05, momentum=0.1, affine=True, track_running_stats=True)\n",
              "  (38): Conv2d(128, 128, kernel_size=(3, 3), stride=(1, 1), padding=(1, 1), bias=False)\n",
              "  (39): BatchNorm2d(128, eps=1e-05, momentum=0.1, affine=True, track_running_stats=True)\n",
              "  (40): Conv2d(128, 512, kernel_size=(1, 1), stride=(1, 1), bias=False)\n",
              "  (41): BatchNorm2d(512, eps=1e-05, momentum=0.1, affine=True, track_running_stats=True)\n",
              "  (42): ReLU(inplace)\n",
              "  (43): Conv2d(512, 128, kernel_size=(1, 1), stride=(1, 1), bias=False)\n",
              "  (44): BatchNorm2d(128, eps=1e-05, momentum=0.1, affine=True, track_running_stats=True)\n",
              "  (45): Conv2d(128, 128, kernel_size=(3, 3), stride=(1, 1), padding=(1, 1), bias=False)\n",
              "  (46): BatchNorm2d(128, eps=1e-05, momentum=0.1, affine=True, track_running_stats=True)\n",
              "  (47): Conv2d(128, 512, kernel_size=(1, 1), stride=(1, 1), bias=False)\n",
              "  (48): BatchNorm2d(512, eps=1e-05, momentum=0.1, affine=True, track_running_stats=True)\n",
              "  (49): ReLU(inplace)\n",
              "  (50): Conv2d(512, 128, kernel_size=(1, 1), stride=(1, 1), bias=False)\n",
              "  (51): BatchNorm2d(128, eps=1e-05, momentum=0.1, affine=True, track_running_stats=True)\n",
              "  (52): Conv2d(128, 128, kernel_size=(3, 3), stride=(1, 1), padding=(1, 1), bias=False)\n",
              "  (53): BatchNorm2d(128, eps=1e-05, momentum=0.1, affine=True, track_running_stats=True)\n",
              "  (54): Conv2d(128, 512, kernel_size=(1, 1), stride=(1, 1), bias=False)\n",
              "  (55): BatchNorm2d(512, eps=1e-05, momentum=0.1, affine=True, track_running_stats=True)\n",
              "  (56): ReLU(inplace)\n",
              "), Sequential(\n",
              "  (0): Conv2d(512, 256, kernel_size=(1, 1), stride=(1, 1), bias=False)\n",
              "  (1): BatchNorm2d(256, eps=1e-05, momentum=0.1, affine=True, track_running_stats=True)\n",
              "  (2): Conv2d(256, 256, kernel_size=(3, 3), stride=(2, 2), padding=(1, 1), bias=False)\n",
              "  (3): BatchNorm2d(256, eps=1e-05, momentum=0.1, affine=True, track_running_stats=True)\n",
              "  (4): Conv2d(256, 1024, kernel_size=(1, 1), stride=(1, 1), bias=False)\n",
              "  (5): BatchNorm2d(1024, eps=1e-05, momentum=0.1, affine=True, track_running_stats=True)\n",
              "  (6): ReLU(inplace)\n",
              "  (7): Conv2d(512, 1024, kernel_size=(1, 1), stride=(2, 2), bias=False)\n",
              "  (8): BatchNorm2d(1024, eps=1e-05, momentum=0.1, affine=True, track_running_stats=True)\n",
              "  (9): Conv2d(1024, 256, kernel_size=(1, 1), stride=(1, 1), bias=False)\n",
              "  (10): BatchNorm2d(256, eps=1e-05, momentum=0.1, affine=True, track_running_stats=True)\n",
              "  (11): Conv2d(256, 256, kernel_size=(3, 3), stride=(1, 1), padding=(1, 1), bias=False)\n",
              "  (12): BatchNorm2d(256, eps=1e-05, momentum=0.1, affine=True, track_running_stats=True)\n",
              "  (13): Conv2d(256, 1024, kernel_size=(1, 1), stride=(1, 1), bias=False)\n",
              "  (14): BatchNorm2d(1024, eps=1e-05, momentum=0.1, affine=True, track_running_stats=True)\n",
              "  (15): ReLU(inplace)\n",
              "  (16): Conv2d(1024, 256, kernel_size=(1, 1), stride=(1, 1), bias=False)\n",
              "  (17): BatchNorm2d(256, eps=1e-05, momentum=0.1, affine=True, track_running_stats=True)\n",
              "  (18): Conv2d(256, 256, kernel_size=(3, 3), stride=(1, 1), padding=(1, 1), bias=False)\n",
              "  (19): BatchNorm2d(256, eps=1e-05, momentum=0.1, affine=True, track_running_stats=True)\n",
              "  (20): Conv2d(256, 1024, kernel_size=(1, 1), stride=(1, 1), bias=False)\n",
              "  (21): BatchNorm2d(1024, eps=1e-05, momentum=0.1, affine=True, track_running_stats=True)\n",
              "  (22): ReLU(inplace)\n",
              "  (23): Conv2d(1024, 256, kernel_size=(1, 1), stride=(1, 1), bias=False)\n",
              "  (24): BatchNorm2d(256, eps=1e-05, momentum=0.1, affine=True, track_running_stats=True)\n",
              "  (25): Conv2d(256, 256, kernel_size=(3, 3), stride=(1, 1), padding=(1, 1), bias=False)\n",
              "  (26): BatchNorm2d(256, eps=1e-05, momentum=0.1, affine=True, track_running_stats=True)\n",
              "  (27): Conv2d(256, 1024, kernel_size=(1, 1), stride=(1, 1), bias=False)\n",
              "  (28): BatchNorm2d(1024, eps=1e-05, momentum=0.1, affine=True, track_running_stats=True)\n",
              "  (29): ReLU(inplace)\n",
              "  (30): Conv2d(1024, 256, kernel_size=(1, 1), stride=(1, 1), bias=False)\n",
              "  (31): BatchNorm2d(256, eps=1e-05, momentum=0.1, affine=True, track_running_stats=True)\n",
              "  (32): Conv2d(256, 256, kernel_size=(3, 3), stride=(1, 1), padding=(1, 1), bias=False)\n",
              "  (33): BatchNorm2d(256, eps=1e-05, momentum=0.1, affine=True, track_running_stats=True)\n",
              "  (34): Conv2d(256, 1024, kernel_size=(1, 1), stride=(1, 1), bias=False)\n",
              "  (35): BatchNorm2d(1024, eps=1e-05, momentum=0.1, affine=True, track_running_stats=True)\n",
              "  (36): ReLU(inplace)\n",
              "  (37): Conv2d(1024, 256, kernel_size=(1, 1), stride=(1, 1), bias=False)\n",
              "  (38): BatchNorm2d(256, eps=1e-05, momentum=0.1, affine=True, track_running_stats=True)\n",
              "  (39): Conv2d(256, 256, kernel_size=(3, 3), stride=(1, 1), padding=(1, 1), bias=False)\n",
              "  (40): BatchNorm2d(256, eps=1e-05, momentum=0.1, affine=True, track_running_stats=True)\n",
              "  (41): Conv2d(256, 1024, kernel_size=(1, 1), stride=(1, 1), bias=False)\n",
              "  (42): BatchNorm2d(1024, eps=1e-05, momentum=0.1, affine=True, track_running_stats=True)\n",
              "  (43): ReLU(inplace)\n",
              "  (44): Conv2d(1024, 512, kernel_size=(1, 1), stride=(1, 1), bias=False)\n",
              "  (45): BatchNorm2d(512, eps=1e-05, momentum=0.1, affine=True, track_running_stats=True)\n",
              "  (46): Conv2d(512, 512, kernel_size=(3, 3), stride=(2, 2), padding=(1, 1), bias=False)\n",
              "  (47): BatchNorm2d(512, eps=1e-05, momentum=0.1, affine=True, track_running_stats=True)\n",
              "  (48): Conv2d(512, 2048, kernel_size=(1, 1), stride=(1, 1), bias=False)\n",
              "  (49): BatchNorm2d(2048, eps=1e-05, momentum=0.1, affine=True, track_running_stats=True)\n",
              "  (50): ReLU(inplace)\n",
              "  (51): Conv2d(1024, 2048, kernel_size=(1, 1), stride=(2, 2), bias=False)\n",
              "  (52): BatchNorm2d(2048, eps=1e-05, momentum=0.1, affine=True, track_running_stats=True)\n",
              "  (53): Conv2d(2048, 512, kernel_size=(1, 1), stride=(1, 1), bias=False)\n",
              "  (54): BatchNorm2d(512, eps=1e-05, momentum=0.1, affine=True, track_running_stats=True)\n",
              "  (55): Conv2d(512, 512, kernel_size=(3, 3), stride=(1, 1), padding=(1, 1), bias=False)\n",
              "  (56): BatchNorm2d(512, eps=1e-05, momentum=0.1, affine=True, track_running_stats=True)\n",
              "  (57): Conv2d(512, 2048, kernel_size=(1, 1), stride=(1, 1), bias=False)\n",
              "  (58): BatchNorm2d(2048, eps=1e-05, momentum=0.1, affine=True, track_running_stats=True)\n",
              "  (59): ReLU(inplace)\n",
              "  (60): Conv2d(2048, 512, kernel_size=(1, 1), stride=(1, 1), bias=False)\n",
              "  (61): BatchNorm2d(512, eps=1e-05, momentum=0.1, affine=True, track_running_stats=True)\n",
              "  (62): Conv2d(512, 512, kernel_size=(3, 3), stride=(1, 1), padding=(1, 1), bias=False)\n",
              "  (63): BatchNorm2d(512, eps=1e-05, momentum=0.1, affine=True, track_running_stats=True)\n",
              "  (64): Conv2d(512, 2048, kernel_size=(1, 1), stride=(1, 1), bias=False)\n",
              "  (65): BatchNorm2d(2048, eps=1e-05, momentum=0.1, affine=True, track_running_stats=True)\n",
              "  (66): ReLU(inplace)\n",
              "), Sequential(\n",
              "  (0): AdaptiveAvgPool2d(output_size=1)\n",
              "  (1): AdaptiveMaxPool2d(output_size=1)\n",
              "  (2): Flatten()\n",
              "  (3): BatchNorm1d(4096, eps=1e-05, momentum=0.1, affine=True, track_running_stats=True)\n",
              "  (4): Dropout(p=0.25)\n",
              "  (5): Linear(in_features=4096, out_features=2048, bias=True)\n",
              "  (6): ReLU(inplace)\n",
              "  (7): BatchNorm1d(2048, eps=1e-05, momentum=0.1, affine=True, track_running_stats=True)\n",
              "  (8): Dropout(p=0.5)\n",
              "  (9): Linear(in_features=2048, out_features=5004, bias=True)\n",
              ")])"
            ]
          },
          "metadata": {
            "tags": []
          },
          "execution_count": 43
        }
      ]
    },
    {
      "cell_type": "code",
      "metadata": {
        "id": "DR5ERdNBeENk",
        "colab_type": "code",
        "colab": {}
      },
      "source": [
        "preds, _ = learn.get_preds(DatasetType.Test)"
      ],
      "execution_count": 0,
      "outputs": []
    },
    {
      "cell_type": "code",
      "metadata": {
        "id": "7S3cJJGNePF6",
        "colab_type": "code",
        "colab": {}
      },
      "source": [
        "preds = torch.cat((preds, torch.ones_like(preds[:, :1])), 1)"
      ],
      "execution_count": 0,
      "outputs": []
    },
    {
      "cell_type": "code",
      "metadata": {
        "id": "WWdS14pomAUJ",
        "colab_type": "code",
        "outputId": "04afdaf4-8c8a-48c1-b458-1024fe5a0b1f",
        "colab": {
          "base_uri": "https://localhost:8080/",
          "height": 35
        }
      },
      "source": [
        "preds.shape"
      ],
      "execution_count": 0,
      "outputs": [
        {
          "output_type": "execute_result",
          "data": {
            "text/plain": [
              "torch.Size([7960, 5005])"
            ]
          },
          "metadata": {
            "tags": []
          },
          "execution_count": 46
        }
      ]
    },
    {
      "cell_type": "code",
      "metadata": {
        "id": "aZYDSnRreQKY",
        "colab_type": "code",
        "colab": {}
      },
      "source": [
        "preds[:, 5004] = 0.06"
      ],
      "execution_count": 0,
      "outputs": []
    },
    {
      "cell_type": "code",
      "metadata": {
        "id": "OUMhtZeTmPyZ",
        "colab_type": "code",
        "outputId": "c38b9b8f-595a-40f0-ddba-69258020a752",
        "colab": {
          "base_uri": "https://localhost:8080/",
          "height": 18202
        }
      },
      "source": [
        "learn.data.classes"
      ],
      "execution_count": 0,
      "outputs": [
        {
          "output_type": "execute_result",
          "data": {
            "text/plain": [
              "['w_0003639',\n",
              " 'w_0003c59',\n",
              " 'w_0027efa',\n",
              " 'w_00289b1',\n",
              " 'w_002c810',\n",
              " 'w_0032a46',\n",
              " 'w_003bae6',\n",
              " 'w_00656c0',\n",
              " 'w_0066399',\n",
              " 'w_007fefa',\n",
              " 'w_00904a7',\n",
              " 'w_009c9c5',\n",
              " 'w_00a41ba',\n",
              " 'w_00b3dc2',\n",
              " 'w_00d50c9',\n",
              " 'w_00d5466',\n",
              " 'w_00d5e98',\n",
              " 'w_00f340d',\n",
              " 'w_010f858',\n",
              " 'w_0115c24',\n",
              " 'w_0118bab',\n",
              " 'w_012678c',\n",
              " 'w_0135f5f',\n",
              " 'w_0140c92',\n",
              " 'w_015a4bf',\n",
              " 'w_016f0ea',\n",
              " 'w_0182687',\n",
              " 'w_0189b6d',\n",
              " 'w_01976db',\n",
              " 'w_01a1d88',\n",
              " 'w_01cb0c4',\n",
              " 'w_01cbbbd',\n",
              " 'w_01d790e',\n",
              " 'w_01e1b97',\n",
              " 'w_01e1fe0',\n",
              " 'w_01ed442',\n",
              " 'w_01f14e1',\n",
              " 'w_01fc429',\n",
              " 'w_02156b0',\n",
              " 'w_022b708',\n",
              " 'w_022d2f5',\n",
              " 'w_02469a1',\n",
              " 'w_02545ea',\n",
              " 'w_025911c',\n",
              " 'w_0277a07',\n",
              " 'w_027f528',\n",
              " 'w_0292e15',\n",
              " 'w_02aa597',\n",
              " 'w_02c7e9d',\n",
              " 'w_02d138d',\n",
              " 'w_02d5c46',\n",
              " 'w_02e8199',\n",
              " 'w_02ff6d6',\n",
              " 'w_0301302',\n",
              " 'w_030ac9b',\n",
              " 'w_030c8b0',\n",
              " 'w_030e2cf',\n",
              " 'w_03193e5',\n",
              " 'w_031e1a3',\n",
              " 'w_0323574',\n",
              " 'w_03270e3',\n",
              " 'w_0350bf4',\n",
              " 'w_03670aa',\n",
              " 'w_0369a5c',\n",
              " 'w_036bc54',\n",
              " 'w_036dbd0',\n",
              " 'w_037b23f',\n",
              " 'w_038dfc0',\n",
              " 'w_038e5c3',\n",
              " 'w_03a82c1',\n",
              " 'w_03ad89c',\n",
              " 'w_03e3e5e',\n",
              " 'w_03ea6f9',\n",
              " 'w_04003e9',\n",
              " 'w_042b547',\n",
              " 'w_0470377',\n",
              " 'w_04713fd',\n",
              " 'w_04738c8',\n",
              " 'w_048bc73',\n",
              " 'w_049ae2e',\n",
              " 'w_04acf95',\n",
              " 'w_04c9b23',\n",
              " 'w_04d1c8c',\n",
              " 'w_04d4568',\n",
              " 'w_04de239',\n",
              " 'w_04ebfe8',\n",
              " 'w_04f5a19',\n",
              " 'w_04f5f55',\n",
              " 'w_05081a8',\n",
              " 'w_0513962',\n",
              " 'w_051764c',\n",
              " 'w_0531ad5',\n",
              " 'w_0532483',\n",
              " 'w_054162a',\n",
              " 'w_05669fe',\n",
              " 'w_056710d',\n",
              " 'w_056913a',\n",
              " 'w_0577ccc',\n",
              " 'w_059d9e0',\n",
              " 'w_05b4b0c',\n",
              " 'w_05bf34e',\n",
              " 'w_05cc23c',\n",
              " 'w_05d52d0',\n",
              " 'w_05d65b9',\n",
              " 'w_05eb863',\n",
              " 'w_05f8c99',\n",
              " 'w_05fbf14',\n",
              " 'w_060ec6d',\n",
              " 'w_06150e1',\n",
              " 'w_06292cd',\n",
              " 'w_0630c3e',\n",
              " 'w_06313c8',\n",
              " 'w_063282e',\n",
              " 'w_0637181',\n",
              " 'w_06376db',\n",
              " 'w_06460d7',\n",
              " 'w_06471d5',\n",
              " 'w_0655608',\n",
              " 'w_0655a0d',\n",
              " 'w_065ee1b',\n",
              " 'w_06619ff',\n",
              " 'w_066ac1a',\n",
              " 'w_066ddc5',\n",
              " 'w_068baa8',\n",
              " 'w_06935ed',\n",
              " 'w_069c25b',\n",
              " 'w_06a10b4',\n",
              " 'w_06d2e72',\n",
              " 'w_06de0a6',\n",
              " 'w_06e4776',\n",
              " 'w_06e6d5f',\n",
              " 'w_06ec6e6',\n",
              " 'w_06f3291',\n",
              " 'w_06fb64a',\n",
              " 'w_06ffb30',\n",
              " 'w_070036a',\n",
              " 'w_07019f4',\n",
              " 'w_07125ed',\n",
              " 'w_0714a46',\n",
              " 'w_0717f05',\n",
              " 'w_0718183',\n",
              " 'w_072179d',\n",
              " 'w_0729126',\n",
              " 'w_072f593',\n",
              " 'w_0741282',\n",
              " 'w_074530d',\n",
              " 'w_0745b0e',\n",
              " 'w_0749e87',\n",
              " 'w_074a5ba',\n",
              " 'w_076bb5a',\n",
              " 'w_07768b0',\n",
              " 'w_0788c36',\n",
              " 'w_07c946d',\n",
              " 'w_07cb113',\n",
              " 'w_07cc9c2',\n",
              " 'w_07d4b0a',\n",
              " 'w_07e0c3c',\n",
              " 'w_08010cc',\n",
              " 'w_0815d2c',\n",
              " 'w_0823d50',\n",
              " 'w_082978e',\n",
              " 'w_082f603',\n",
              " 'w_0833a92',\n",
              " 'w_08630fd',\n",
              " 'w_086f404',\n",
              " 'w_08753b7',\n",
              " 'w_0886321',\n",
              " 'w_0887d9b',\n",
              " 'w_0888e56',\n",
              " 'w_088cda7',\n",
              " 'w_08b0eac',\n",
              " 'w_08c7d09',\n",
              " 'w_08d439c',\n",
              " 'w_08d5864',\n",
              " 'w_08d62ee',\n",
              " 'w_08eadf6',\n",
              " 'w_090c08a',\n",
              " 'w_090c801',\n",
              " 'w_091ec23',\n",
              " 'w_0926777',\n",
              " 'w_092d942',\n",
              " 'w_093d284',\n",
              " 'w_093ea58',\n",
              " 'w_095e3eb',\n",
              " 'w_099bcbc',\n",
              " 'w_09bd7e8',\n",
              " 'w_09c59c2',\n",
              " 'w_09c737d',\n",
              " 'w_09c8a69',\n",
              " 'w_09de1a5',\n",
              " 'w_09e51f8',\n",
              " 'w_0a0b4c6',\n",
              " 'w_0a0c768',\n",
              " 'w_0a155b9',\n",
              " 'w_0a1fcd6',\n",
              " 'w_0a2e1ef',\n",
              " 'w_0a31a3a',\n",
              " 'w_0a3255c',\n",
              " 'w_0a357b7',\n",
              " 'w_0a4f5c9',\n",
              " 'w_0a619af',\n",
              " 'w_0a6c4c7',\n",
              " 'w_0a6e626',\n",
              " 'w_0a7a37c',\n",
              " 'w_0a84ac5',\n",
              " 'w_0a87ea4',\n",
              " 'w_0a8a451',\n",
              " 'w_0a8d318',\n",
              " 'w_0a8e080',\n",
              " 'w_0abdaf4',\n",
              " 'w_0abe9e7',\n",
              " 'w_0ac10f3',\n",
              " 'w_0ac1b5f',\n",
              " 'w_0ad0f5b',\n",
              " 'w_0ad1734',\n",
              " 'w_0adb403',\n",
              " 'w_0aea542',\n",
              " 'w_0aed03f',\n",
              " 'w_0af3867',\n",
              " 'w_0b0168a',\n",
              " 'w_0b10e7c',\n",
              " 'w_0b1e4a6',\n",
              " 'w_0b356c2',\n",
              " 'w_0b398b2',\n",
              " 'w_0b3e0e6',\n",
              " 'w_0b4f7cf',\n",
              " 'w_0b7ce1e',\n",
              " 'w_0b995e5',\n",
              " 'w_0b9cab4',\n",
              " 'w_0baf946',\n",
              " 'w_0bb71d3',\n",
              " 'w_0bb9927',\n",
              " 'w_0bbc3cb',\n",
              " 'w_0bc078c',\n",
              " 'w_0bc1de9',\n",
              " 'w_0bd2e46',\n",
              " 'w_0bd39c1',\n",
              " 'w_0bdb7a5',\n",
              " 'w_0bdc5d5',\n",
              " 'w_0bf90d9',\n",
              " 'w_0bfc890',\n",
              " 'w_0bfdcca',\n",
              " 'w_0c23936',\n",
              " 'w_0c59853',\n",
              " 'w_0c5f019',\n",
              " 'w_0c69117',\n",
              " 'w_0c76541',\n",
              " 'w_0c76e03',\n",
              " 'w_0c7ab0d',\n",
              " 'w_0c80c53',\n",
              " 'w_0ca546b',\n",
              " 'w_0cadbdc',\n",
              " 'w_0cbf1b3',\n",
              " 'w_0cc0430',\n",
              " 'w_0cdca97',\n",
              " 'w_0ce0555',\n",
              " 'w_0ce537a',\n",
              " 'w_0cfae04',\n",
              " 'w_0cfdaa5',\n",
              " 'w_0d052c1',\n",
              " 'w_0d11fa9',\n",
              " 'w_0d145d4',\n",
              " 'w_0d1b964',\n",
              " 'w_0d43823',\n",
              " 'w_0d4a14b',\n",
              " 'w_0d54c55',\n",
              " 'w_0d5a672',\n",
              " 'w_0d5fa2c',\n",
              " 'w_0d61101',\n",
              " 'w_0d77f32',\n",
              " 'w_0d7b050',\n",
              " 'w_0d93517',\n",
              " 'w_0d98e43',\n",
              " 'w_0d9ddce',\n",
              " 'w_0da34d3',\n",
              " 'w_0da9a8f',\n",
              " 'w_0db234e',\n",
              " 'w_0db2e26',\n",
              " 'w_0dc84fd',\n",
              " 'w_0dd4a5d',\n",
              " 'w_0df7caf',\n",
              " 'w_0dfb4f6',\n",
              " 'w_0dfc1eb',\n",
              " 'w_0e0b65c',\n",
              " 'w_0e0f074',\n",
              " 'w_0e1eccb',\n",
              " 'w_0e26d1a',\n",
              " 'w_0e2a5bd',\n",
              " 'w_0e2b483',\n",
              " 'w_0e325b0',\n",
              " 'w_0e34e76',\n",
              " 'w_0e35358',\n",
              " 'w_0e4b65e',\n",
              " 'w_0e7aae1',\n",
              " 'w_0e7ec27',\n",
              " 'w_0e8341d',\n",
              " 'w_0e93f25',\n",
              " 'w_0e9f07a',\n",
              " 'w_0ea7436',\n",
              " 'w_0eab54f',\n",
              " 'w_0ecda0a',\n",
              " 'w_0ee1b0f',\n",
              " 'w_0ee7878',\n",
              " 'w_0ee9ae5',\n",
              " 'w_0ef790d',\n",
              " 'w_0f00df0',\n",
              " 'w_0f031ca',\n",
              " 'w_0f03c44',\n",
              " 'w_0f0f15c',\n",
              " 'w_0f1cf57',\n",
              " 'w_0f25e3c',\n",
              " 'w_0f25e6b',\n",
              " 'w_0f466a5',\n",
              " 'w_0f4d4ac',\n",
              " 'w_0f5666b',\n",
              " 'w_0f56fb2',\n",
              " 'w_0f5d895',\n",
              " 'w_0f73f48',\n",
              " 'w_0f84e7c',\n",
              " 'w_0f86e70',\n",
              " 'w_0f8ab07',\n",
              " 'w_0f8b8e2',\n",
              " 'w_0fb38fe',\n",
              " 'w_0fc3e41',\n",
              " 'w_0fdde23',\n",
              " 'w_0fdf741',\n",
              " 'w_0fe07b7',\n",
              " 'w_0fe6fbb',\n",
              " 'w_0fedd59',\n",
              " 'w_0fefc62',\n",
              " 'w_0ffa15f',\n",
              " 'w_1006b9c',\n",
              " 'w_101990d',\n",
              " 'w_102821e',\n",
              " 'w_1029215',\n",
              " 'w_102e715',\n",
              " 'w_1032bb6',\n",
              " 'w_1032fa3',\n",
              " 'w_103aca2',\n",
              " 'w_104d305',\n",
              " 'w_105b860',\n",
              " 'w_107b98e',\n",
              " 'w_1082fdc',\n",
              " 'w_1083a05',\n",
              " 'w_108b2ed',\n",
              " 'w_10a4e10',\n",
              " 'w_10b4603',\n",
              " 'w_10bb1ba',\n",
              " 'w_10d9667',\n",
              " 'w_10eece8',\n",
              " 'w_10f3b75',\n",
              " 'w_10f4afc',\n",
              " 'w_10f67bb',\n",
              " 'w_1104cca',\n",
              " 'w_1106cbb',\n",
              " 'w_112d2f8',\n",
              " 'w_1133530',\n",
              " 'w_114a297',\n",
              " 'w_115e880',\n",
              " 'w_1167daf',\n",
              " 'w_118a4a4',\n",
              " 'w_118fad5',\n",
              " 'w_119f570',\n",
              " 'w_11ac036',\n",
              " 'w_11bd416',\n",
              " 'w_11ce746',\n",
              " 'w_11d8c70',\n",
              " 'w_11e75bf',\n",
              " 'w_11e90bc',\n",
              " 'w_11ec829',\n",
              " 'w_11ff425',\n",
              " 'w_1217536',\n",
              " 'w_1220336',\n",
              " 'w_122e247',\n",
              " 'w_122eec1',\n",
              " 'w_1247b8c',\n",
              " 'w_124a3cb',\n",
              " 'w_1257748',\n",
              " 'w_1260eb5',\n",
              " 'w_1275240',\n",
              " 'w_1286f9e',\n",
              " 'w_1289b63',\n",
              " 'w_12aae3e',\n",
              " 'w_12b56df',\n",
              " 'w_12cc52d',\n",
              " 'w_12ce4f8',\n",
              " 'w_12e7c23',\n",
              " 'w_12e8dc7',\n",
              " 'w_12fdac7',\n",
              " 'w_12fe3a8',\n",
              " 'w_13250ab',\n",
              " 'w_1344da3',\n",
              " 'w_13937e4',\n",
              " 'w_139d19a',\n",
              " 'w_13a7d9a',\n",
              " 'w_13aa123',\n",
              " 'w_13ae3d4',\n",
              " 'w_13b343c',\n",
              " 'w_13c1b55',\n",
              " 'w_13c715a',\n",
              " 'w_13c8177',\n",
              " 'w_13c9277',\n",
              " 'w_13c9a17',\n",
              " 'w_13ca7e8',\n",
              " 'w_13d4fd0',\n",
              " 'w_13e8097',\n",
              " 'w_13edc47',\n",
              " 'w_13ffdcf',\n",
              " 'w_1403973',\n",
              " 'w_140a9ac',\n",
              " 'w_1417bc8',\n",
              " 'w_1419d90',\n",
              " 'w_141a880',\n",
              " 'w_1423c1f',\n",
              " 'w_14330a0',\n",
              " 'w_143ea92',\n",
              " 'w_14461a7',\n",
              " 'w_144ecb6',\n",
              " 'w_1457f13',\n",
              " 'w_146208a',\n",
              " 'w_1472271',\n",
              " 'w_1483be2',\n",
              " 'w_148921b',\n",
              " 'w_14a74dd',\n",
              " 'w_14b1427',\n",
              " 'w_14bfbe2',\n",
              " 'w_14e1334',\n",
              " 'w_14e5fe2',\n",
              " 'w_14ece76',\n",
              " 'w_14f15a0',\n",
              " 'w_150a6f5',\n",
              " 'w_1531bf5',\n",
              " 'w_1554173',\n",
              " 'w_1574bd1',\n",
              " 'w_1579152',\n",
              " 'w_15805cd',\n",
              " 'w_15951db',\n",
              " 'w_15a9ec1',\n",
              " 'w_15b3f09',\n",
              " 'w_15b5df2',\n",
              " 'w_15b5eb1',\n",
              " 'w_15bf3e3',\n",
              " 'w_15bf4be',\n",
              " 'w_15d12c7',\n",
              " 'w_15e3099',\n",
              " 'w_15e7de5',\n",
              " 'w_15f43ea',\n",
              " 'w_15fb899',\n",
              " 'w_1632c45',\n",
              " 'w_16362a6',\n",
              " 'w_163b2b8',\n",
              " 'w_1647882',\n",
              " 'w_1650208',\n",
              " 'w_1666216',\n",
              " 'w_167a348',\n",
              " 'w_1684cac',\n",
              " 'w_169253a',\n",
              " 'w_1693b27',\n",
              " 'w_169a302',\n",
              " 'w_16a13bb',\n",
              " 'w_16b5050',\n",
              " 'w_16b7fec',\n",
              " 'w_16c264e',\n",
              " 'w_16dba74',\n",
              " 'w_16def42',\n",
              " 'w_16df050',\n",
              " 'w_16dfac7',\n",
              " 'w_16f4e1e',\n",
              " 'w_16fa149',\n",
              " 'w_171794e',\n",
              " 'w_1719d81',\n",
              " 'w_171ca39',\n",
              " 'w_171dc55',\n",
              " 'w_1728040',\n",
              " 'w_17338da',\n",
              " 'w_1759e4e',\n",
              " 'w_175d6fa',\n",
              " 'w_177d88e',\n",
              " 'w_178144f',\n",
              " 'w_1788910',\n",
              " 'w_179c9f0',\n",
              " 'w_17a108a',\n",
              " 'w_17a3a21',\n",
              " 'w_17a4a41',\n",
              " 'w_17b0d3a',\n",
              " 'w_17ba5e4',\n",
              " 'w_17be6f2',\n",
              " 'w_17c9df5',\n",
              " 'w_17d6235',\n",
              " 'w_17dd986',\n",
              " 'w_17e8846',\n",
              " 'w_17f5d1d',\n",
              " 'w_17fef9b',\n",
              " 'w_180e241',\n",
              " 'w_181ab06',\n",
              " 'w_1834b49',\n",
              " 'w_185044d',\n",
              " 'w_185bc11',\n",
              " 'w_18645ff',\n",
              " 'w_18666da',\n",
              " 'w_186d294',\n",
              " 'w_1870783',\n",
              " 'w_187de67',\n",
              " 'w_1887b5a',\n",
              " 'w_18934ab',\n",
              " 'w_18a06fd',\n",
              " 'w_18aafe8',\n",
              " 'w_18c481a',\n",
              " 'w_18ca0f1',\n",
              " 'w_18f9d19',\n",
              " 'w_190375b',\n",
              " 'w_190b9bb',\n",
              " 'w_191bce3',\n",
              " 'w_1920193',\n",
              " 'w_1930599',\n",
              " 'w_1932830',\n",
              " 'w_193bf22',\n",
              " 'w_193f83c',\n",
              " 'w_19410fe',\n",
              " 'w_194bea2',\n",
              " 'w_19671ad',\n",
              " 'w_197979e',\n",
              " 'w_1995d15',\n",
              " 'w_19a0b30',\n",
              " 'w_19bd11d',\n",
              " 'w_19c50fa',\n",
              " 'w_19dfa67',\n",
              " 'w_19f365e',\n",
              " 'w_19f507e',\n",
              " 'w_19fb122',\n",
              " 'w_1a071a3',\n",
              " 'w_1a151e5',\n",
              " 'w_1a20162',\n",
              " 'w_1a31542',\n",
              " 'w_1a619db',\n",
              " 'w_1a657fc',\n",
              " 'w_1a70f3a',\n",
              " 'w_1a7ccaf',\n",
              " 'w_1a874a6',\n",
              " 'w_1a96d7b',\n",
              " 'w_1a9e018',\n",
              " 'w_1ab568f',\n",
              " 'w_1af6b9a',\n",
              " 'w_1afed1e',\n",
              " 'w_1afff3f',\n",
              " 'w_1b00c27',\n",
              " 'w_1b04c3c',\n",
              " 'w_1b0c4b7',\n",
              " 'w_1b0db58',\n",
              " 'w_1b1dd05',\n",
              " 'w_1b2bf0f',\n",
              " 'w_1b3baf7',\n",
              " 'w_1b3c3a4',\n",
              " 'w_1b4b202',\n",
              " 'w_1b4bb29',\n",
              " 'w_1b50676',\n",
              " 'w_1b51678',\n",
              " 'w_1b5b199',\n",
              " 'w_1b5fd1b',\n",
              " 'w_1b6f30f',\n",
              " 'w_1b6f6dc',\n",
              " 'w_1b70bda',\n",
              " 'w_1b70f3f',\n",
              " 'w_1b77e4f',\n",
              " 'w_1b7eaad',\n",
              " 'w_1b8f126',\n",
              " 'w_1baf8df',\n",
              " 'w_1bbc982',\n",
              " 'w_1bd2d91',\n",
              " 'w_1be76f5',\n",
              " 'w_1c2e409',\n",
              " 'w_1c39fb1',\n",
              " 'w_1c47899',\n",
              " 'w_1c55cc3',\n",
              " 'w_1c63738',\n",
              " 'w_1c6465a',\n",
              " 'w_1ca7433',\n",
              " 'w_1ca9ab1',\n",
              " 'w_1cb0ffc',\n",
              " 'w_1ccd2a1',\n",
              " 'w_1ccea93',\n",
              " 'w_1cfebce',\n",
              " 'w_1d0830e',\n",
              " 'w_1d1fffe',\n",
              " 'w_1d2d323',\n",
              " 'w_1d2ed91',\n",
              " 'w_1d35a02',\n",
              " 'w_1d4e949',\n",
              " 'w_1d532b4',\n",
              " 'w_1d55e83',\n",
              " 'w_1d6a51b',\n",
              " 'w_1d6a9f7',\n",
              " 'w_1d7fd7d',\n",
              " 'w_1d830c2',\n",
              " 'w_1d8d7c3',\n",
              " 'w_1d9592f',\n",
              " 'w_1da3327',\n",
              " 'w_1da93f8',\n",
              " 'w_1daae48',\n",
              " 'w_1dc7d3a',\n",
              " 'w_1dd336a',\n",
              " 'w_1de6148',\n",
              " 'w_1df2383',\n",
              " 'w_1dff836',\n",
              " 'w_1e1e5d9',\n",
              " 'w_1e283bb',\n",
              " 'w_1e286e0',\n",
              " 'w_1e3b8e8',\n",
              " 'w_1e3caae',\n",
              " 'w_1e3e9a7',\n",
              " 'w_1e81b43',\n",
              " 'w_1e85eea',\n",
              " 'w_1e99233',\n",
              " 'w_1e9caad',\n",
              " 'w_1ea5d96',\n",
              " 'w_1ea8997',\n",
              " 'w_1eb67e3',\n",
              " 'w_1ebcda9',\n",
              " 'w_1ecca2d',\n",
              " 'w_1ee38d5',\n",
              " 'w_1ef6c12',\n",
              " 'w_1efb6fa',\n",
              " 'w_1efbb8e',\n",
              " 'w_1f0cf0a',\n",
              " 'w_1f1774e',\n",
              " 'w_1f1cee1',\n",
              " 'w_1f41b98',\n",
              " 'w_1f429ff',\n",
              " 'w_1f62b56',\n",
              " 'w_1f6de0b',\n",
              " 'w_1f78a1e',\n",
              " 'w_1f7c696',\n",
              " 'w_1f7e291',\n",
              " 'w_1f85037',\n",
              " 'w_1f8621d',\n",
              " 'w_1f8c439',\n",
              " 'w_1faaf06',\n",
              " 'w_1faf1e4',\n",
              " 'w_1fb652d',\n",
              " 'w_1fc42e2',\n",
              " 'w_1fc4625',\n",
              " 'w_1fe6c6e',\n",
              " 'w_1fecb34',\n",
              " 'w_1ff111d',\n",
              " 'w_1ff1582',\n",
              " 'w_1ff168e',\n",
              " 'w_1ff410a',\n",
              " 'w_1ffc4ab',\n",
              " 'w_2009f8b',\n",
              " 'w_203042e',\n",
              " 'w_2034344',\n",
              " 'w_2036a57',\n",
              " 'w_205708f',\n",
              " 'w_2059146',\n",
              " 'w_207f153',\n",
              " 'w_208db25',\n",
              " 'w_20930e7',\n",
              " 'w_20950a9',\n",
              " 'w_20ad973',\n",
              " 'w_20baeef',\n",
              " 'w_20c0bc0',\n",
              " 'w_20df2c5',\n",
              " 'w_20dfb69',\n",
              " 'w_20edfc3',\n",
              " 'w_20eeb29',\n",
              " 'w_2103ca8',\n",
              " 'w_210b625',\n",
              " 'w_210caac',\n",
              " 'w_2112103',\n",
              " 'w_2117e10',\n",
              " 'w_2136d08',\n",
              " 'w_2137c6f',\n",
              " 'w_213fb07',\n",
              " 'w_2148753',\n",
              " 'w_214e081',\n",
              " 'w_21591ba',\n",
              " 'w_21666ad',\n",
              " 'w_217fc01',\n",
              " 'w_218fe4a',\n",
              " 'w_21a7dac',\n",
              " 'w_21ae2d7',\n",
              " 'w_21b2790',\n",
              " 'w_21b3c7e',\n",
              " 'w_21b94e3',\n",
              " 'w_21bb5bd',\n",
              " 'w_21d5943',\n",
              " 'w_21ecbf3',\n",
              " 'w_21f1129',\n",
              " 'w_21fd105',\n",
              " 'w_2211e6d',\n",
              " 'w_222ba28',\n",
              " 'w_224bfc5',\n",
              " 'w_227e394',\n",
              " 'w_2284d86',\n",
              " 'w_228c7ee',\n",
              " 'w_2296421',\n",
              " 'w_22a168a',\n",
              " 'w_22b8752',\n",
              " 'w_22cdc5f',\n",
              " 'w_22d96e7',\n",
              " 'w_22e82fa',\n",
              " 'w_22f2567',\n",
              " 'w_22f46ab',\n",
              " 'w_232f528',\n",
              " 'w_2330989',\n",
              " 'w_234713b',\n",
              " 'w_2349681',\n",
              " 'w_234d686',\n",
              " 'w_2362d7f',\n",
              " 'w_2365d55',\n",
              " 'w_23852a0',\n",
              " 'w_23a388d',\n",
              " 'w_23bfd0a',\n",
              " 'w_23ce00e',\n",
              " 'w_23d4815',\n",
              " 'w_23e1d57',\n",
              " 'w_24076b5',\n",
              " 'w_2409871',\n",
              " 'w_240cbf9',\n",
              " 'w_2424e82',\n",
              " 'w_242fb46',\n",
              " 'w_243b654',\n",
              " 'w_244ab03',\n",
              " 'w_244e953',\n",
              " 'w_245ac74',\n",
              " 'w_248381e',\n",
              " 'w_249346b',\n",
              " 'w_2495755',\n",
              " 'w_2497490',\n",
              " 'w_24b2561',\n",
              " 'w_24b5070',\n",
              " 'w_24c6ff8',\n",
              " 'w_24c76d8',\n",
              " 'w_24ca106',\n",
              " 'w_24d3109',\n",
              " 'w_24e9b5d',\n",
              " 'w_2500327',\n",
              " 'w_25085e0',\n",
              " 'w_25183b8',\n",
              " 'w_252d315',\n",
              " 'w_2548d54',\n",
              " 'w_2570b49',\n",
              " 'w_257e223',\n",
              " 'w_2592960',\n",
              " 'w_2597710',\n",
              " 'w_25b2b3d',\n",
              " 'w_25d662d',\n",
              " 'w_25d7e08',\n",
              " 'w_25e04d9',\n",
              " 'w_25f1a4e',\n",
              " 'w_260a2e7',\n",
              " 'w_260b2ac',\n",
              " 'w_260e1d7',\n",
              " 'w_260ff2c',\n",
              " 'w_261878d',\n",
              " 'w_2623921',\n",
              " 'w_2623b69',\n",
              " 'w_262c32f',\n",
              " 'w_262ec5b',\n",
              " 'w_26301f8',\n",
              " 'w_263bd97',\n",
              " 'w_263fcb0',\n",
              " 'w_2644b11',\n",
              " 'w_2645f4d',\n",
              " 'w_264c2e1',\n",
              " 'w_2652d72',\n",
              " 'w_265ac62',\n",
              " 'w_267c7e3',\n",
              " 'w_268addf',\n",
              " 'w_26923f7',\n",
              " 'w_2694603',\n",
              " 'w_26a55ed',\n",
              " 'w_26aeb61',\n",
              " 'w_26b24d4',\n",
              " 'w_26ba5fd',\n",
              " 'w_26c0ffd',\n",
              " 'w_26db444',\n",
              " 'w_26e4f44',\n",
              " 'w_26f7c39',\n",
              " 'w_270f505',\n",
              " 'w_2719f85',\n",
              " 'w_27272a5',\n",
              " 'w_274397d',\n",
              " 'w_2745292',\n",
              " 'w_274d994',\n",
              " 'w_274f6db',\n",
              " 'w_2757c07',\n",
              " 'w_27597ff',\n",
              " 'w_2759bb6',\n",
              " 'w_276390d',\n",
              " 'w_276d61d',\n",
              " 'w_277d911',\n",
              " 'w_27a6304',\n",
              " 'w_27aa28c',\n",
              " 'w_27b7295',\n",
              " 'w_27be996',\n",
              " 'w_27d6aac',\n",
              " 'w_27fa393',\n",
              " 'w_27fd7e3',\n",
              " 'w_2807565',\n",
              " 'w_2812e0d',\n",
              " 'w_281a8cd',\n",
              " 'w_28218e1',\n",
              " 'w_283ceeb',\n",
              " 'w_2843a30',\n",
              " 'w_2852461',\n",
              " 'w_2856c57',\n",
              " 'w_28589bc',\n",
              " 'w_2858e46',\n",
              " 'w_286d2cc',\n",
              " 'w_289778b',\n",
              " 'w_28a16b0',\n",
              " 'w_28c1ced',\n",
              " 'w_28c330c',\n",
              " 'w_28cb717',\n",
              " 'w_28d57ec',\n",
              " 'w_28df1bb',\n",
              " 'w_28f572d',\n",
              " 'w_2902e69',\n",
              " 'w_290399a',\n",
              " 'w_291b418',\n",
              " 'w_291cba5',\n",
              " 'w_2926c77',\n",
              " 'w_292956e',\n",
              " 'w_293431f',\n",
              " 'w_2964e0b',\n",
              " 'w_2972f31',\n",
              " 'w_297503e',\n",
              " 'w_297e53a',\n",
              " 'w_2980f85',\n",
              " 'w_298a035',\n",
              " 'w_298f605',\n",
              " 'w_29a8580',\n",
              " 'w_29af733',\n",
              " 'w_29c0caf',\n",
              " 'w_29c88c2',\n",
              " 'w_29cde7c',\n",
              " 'w_29d806a',\n",
              " 'w_29e5e8e',\n",
              " 'w_29e8496',\n",
              " 'w_29e87c9',\n",
              " 'w_2a0e817',\n",
              " 'w_2a1a012',\n",
              " 'w_2a1a125',\n",
              " 'w_2a2bcf1',\n",
              " 'w_2a6d5ee',\n",
              " 'w_2a7603f',\n",
              " 'w_2a7c1af',\n",
              " 'w_2a7f00f',\n",
              " 'w_2a946f2',\n",
              " 'w_2a98962',\n",
              " 'w_2aaa3b5',\n",
              " 'w_2ab34d0',\n",
              " 'w_2ac2bac',\n",
              " 'w_2ac6611',\n",
              " 'w_2ad05e9',\n",
              " 'w_2ae40f9',\n",
              " 'w_2af46a8',\n",
              " 'w_2b069ba',\n",
              " 'w_2b17316',\n",
              " 'w_2b1b04e',\n",
              " 'w_2b388fe',\n",
              " 'w_2b39f31',\n",
              " 'w_2b47174',\n",
              " 'w_2b49489',\n",
              " 'w_2b4b82e',\n",
              " 'w_2b50adf',\n",
              " 'w_2b65b34',\n",
              " 'w_2b7f65a',\n",
              " 'w_2b979e6',\n",
              " 'w_2ba6978',\n",
              " 'w_2c0cfe8',\n",
              " 'w_2c0f96c',\n",
              " 'w_2c1a562',\n",
              " 'w_2c29146',\n",
              " 'w_2c2e6b9',\n",
              " 'w_2c3768d',\n",
              " 'w_2c3c217',\n",
              " 'w_2c3f556',\n",
              " 'w_2c5fe7e',\n",
              " 'w_2c7deff',\n",
              " 'w_2c94198',\n",
              " 'w_2ca9282',\n",
              " 'w_2cabd62',\n",
              " 'w_2cd7341',\n",
              " 'w_2cdde18',\n",
              " 'w_2d0cfc1',\n",
              " 'w_2d1592c',\n",
              " 'w_2d1d67a',\n",
              " 'w_2d3ef19',\n",
              " 'w_2d5492b',\n",
              " 'w_2d5b0e1',\n",
              " 'w_2d5dc31',\n",
              " 'w_2d6596f',\n",
              " 'w_2d6bb89',\n",
              " 'w_2d7c2dd',\n",
              " 'w_2d99567',\n",
              " 'w_2db0644',\n",
              " 'w_2dd6b62',\n",
              " 'w_2ddcce9',\n",
              " 'w_2de1c5c',\n",
              " 'w_2df1d85',\n",
              " 'w_2df37cc',\n",
              " 'w_2df85e7',\n",
              " 'w_2e075b2',\n",
              " 'w_2e1416e',\n",
              " 'w_2e18226',\n",
              " 'w_2e21094',\n",
              " 'w_2e231f4',\n",
              " 'w_2e29743',\n",
              " 'w_2e35d7c',\n",
              " 'w_2e374c0',\n",
              " 'w_2e3e30d',\n",
              " 'w_2e45865',\n",
              " 'w_2e4af64',\n",
              " 'w_2e4b740',\n",
              " 'w_2e4cb98',\n",
              " 'w_2e54183',\n",
              " 'w_2e5ad54',\n",
              " 'w_2e5d992',\n",
              " 'w_2e69752',\n",
              " 'w_2e706fc',\n",
              " 'w_2e9d1b5',\n",
              " 'w_2e9ed59',\n",
              " 'w_2ec0a71',\n",
              " 'w_2ed0acc',\n",
              " 'w_2ed0d2f',\n",
              " 'w_2ed1e39',\n",
              " 'w_2eec458',\n",
              " 'w_2ef6741',\n",
              " 'w_2ef9c36',\n",
              " 'w_2efa6ab',\n",
              " 'w_2f0416b',\n",
              " 'w_2f0f74c',\n",
              " 'w_2f1488c',\n",
              " 'w_2f2c0d6',\n",
              " 'w_2f350be',\n",
              " 'w_2f3badb',\n",
              " 'w_2f4be30',\n",
              " 'w_2f5652a',\n",
              " 'w_2f5caa9',\n",
              " 'w_2f67f0a',\n",
              " 'w_2f6d4a8',\n",
              " 'w_2f702db',\n",
              " 'w_2f74ff3',\n",
              " 'w_2f79ae3',\n",
              " 'w_2f841ea',\n",
              " 'w_2f87cc7',\n",
              " 'w_2f8895a',\n",
              " 'w_2f8de4f',\n",
              " 'w_2f8eda5',\n",
              " 'w_2f94559',\n",
              " 'w_2f9b02c',\n",
              " 'w_2fc317c',\n",
              " 'w_2fc775e',\n",
              " 'w_2fcfc71',\n",
              " 'w_2fdb049',\n",
              " 'w_2fdf4cb',\n",
              " 'w_2fe1c3f',\n",
              " 'w_2fec5ea',\n",
              " 'w_2ff0834',\n",
              " 'w_3002b59',\n",
              " 'w_301f728',\n",
              " 'w_302799d',\n",
              " 'w_303a3c4',\n",
              " 'w_3040ecd',\n",
              " 'w_305456a',\n",
              " 'w_3057209',\n",
              " 'w_3067220',\n",
              " 'w_30719c8',\n",
              " 'w_3079e26',\n",
              " 'w_307e5e9',\n",
              " 'w_308c7b6',\n",
              " 'w_30a7b3f',\n",
              " 'w_30b577d',\n",
              " 'w_30f2f0f',\n",
              " 'w_310226c',\n",
              " 'w_3108dce',\n",
              " 'w_310a26b',\n",
              " 'w_310a94d',\n",
              " 'w_31154fa',\n",
              " 'w_31233f8',\n",
              " 'w_3128adb',\n",
              " 'w_3132fce',\n",
              " 'w_3137898',\n",
              " 'w_3137deb',\n",
              " 'w_31438a5',\n",
              " 'w_314bc30',\n",
              " 'w_3154c82',\n",
              " 'w_3155d04',\n",
              " 'w_315c854',\n",
              " 'w_317ae6c',\n",
              " 'w_317c071',\n",
              " 'w_3180b48',\n",
              " 'w_31b5dd8',\n",
              " 'w_31d1d50',\n",
              " 'w_31e1bc1',\n",
              " 'w_32015c2',\n",
              " 'w_32043b0',\n",
              " 'w_3207433',\n",
              " ...]"
            ]
          },
          "metadata": {
            "tags": []
          },
          "execution_count": 48
        }
      ]
    },
    {
      "cell_type": "code",
      "metadata": {
        "id": "B4priP_oeTGn",
        "colab_type": "code",
        "colab": {}
      },
      "source": [
        "classes = learn.data.classes + ['new_whale']"
      ],
      "execution_count": 0,
      "outputs": []
    },
    {
      "cell_type": "code",
      "metadata": {
        "id": "auDDaVxFnGvz",
        "colab_type": "code",
        "colab": {}
      },
      "source": [
        "def top_5_pred_labels(preds, classes):\n",
        "    top_5 = top_5_preds(preds)\n",
        "    labels = []\n",
        "    for i in range(top_5.shape[0]):\n",
        "        labels.append(' '.join([classes[idx] for idx in top_5[i]]))\n",
        "    return labels"
      ],
      "execution_count": 0,
      "outputs": []
    },
    {
      "cell_type": "code",
      "metadata": {
        "id": "g_fJtQ2fnSvg",
        "colab_type": "code",
        "colab": {}
      },
      "source": [
        "def top_5_preds(preds): return np.argsort(preds.numpy())[:, ::-1][:, :5]"
      ],
      "execution_count": 0,
      "outputs": []
    },
    {
      "cell_type": "code",
      "metadata": {
        "id": "rtPfMiF4eWNY",
        "colab_type": "code",
        "colab": {}
      },
      "source": [
        "def create_submission(preds, data, name, classes=None):\n",
        "    if not classes: classes = data.classes\n",
        "    sub = pd.DataFrame({'Image': [path.name for path in data.test_ds.x.items]})\n",
        "    sub['Id'] = top_5_pred_labels(preds, classes)\n",
        "    sub.to_csv(f'{name}.csv', index=False)"
      ],
      "execution_count": 0,
      "outputs": []
    },
    {
      "cell_type": "code",
      "metadata": {
        "id": "U-PZr25necXf",
        "colab_type": "code",
        "colab": {}
      },
      "source": [
        "create_submission(preds, learn.data, name, classes)"
      ],
      "execution_count": 0,
      "outputs": []
    },
    {
      "cell_type": "code",
      "metadata": {
        "id": "6oYc1tm9OF_L",
        "colab_type": "code",
        "outputId": "578c8771-5669-443c-8c33-05028b812585",
        "colab": {
          "base_uri": "https://localhost:8080/",
          "height": 206
        }
      },
      "source": [
        "pd.read_csv(f'{name}.csv').head()"
      ],
      "execution_count": 0,
      "outputs": [
        {
          "output_type": "execute_result",
          "data": {
            "text/html": [
              "<div>\n",
              "<style scoped>\n",
              "    .dataframe tbody tr th:only-of-type {\n",
              "        vertical-align: middle;\n",
              "    }\n",
              "\n",
              "    .dataframe tbody tr th {\n",
              "        vertical-align: top;\n",
              "    }\n",
              "\n",
              "    .dataframe thead th {\n",
              "        text-align: right;\n",
              "    }\n",
              "</style>\n",
              "<table border=\"1\" class=\"dataframe\">\n",
              "  <thead>\n",
              "    <tr style=\"text-align: right;\">\n",
              "      <th></th>\n",
              "      <th>Image</th>\n",
              "      <th>Id</th>\n",
              "    </tr>\n",
              "  </thead>\n",
              "  <tbody>\n",
              "    <tr>\n",
              "      <th>0</th>\n",
              "      <td>d620a46ce.jpg</td>\n",
              "      <td>new_whale w_f0d3b4f w_ad88c85 w_f6c5343 w_21f1129</td>\n",
              "    </tr>\n",
              "    <tr>\n",
              "      <th>1</th>\n",
              "      <td>68cb35b46.jpg</td>\n",
              "      <td>w_d0b330d new_whale w_23a388d w_811c3a3 w_3de579a</td>\n",
              "    </tr>\n",
              "    <tr>\n",
              "      <th>2</th>\n",
              "      <td>fbbd3e0f5.jpg</td>\n",
              "      <td>w_6cda039 new_whale w_9bd2794 w_3815890 w_b9e5911</td>\n",
              "    </tr>\n",
              "    <tr>\n",
              "      <th>3</th>\n",
              "      <td>282d6713c.jpg</td>\n",
              "      <td>w_e11afff new_whale w_700ebb4 w_f0fe284 w_d0bfef3</td>\n",
              "    </tr>\n",
              "    <tr>\n",
              "      <th>4</th>\n",
              "      <td>67778f1db.jpg</td>\n",
              "      <td>new_whale w_95c7a6f w_8c25681 w_cff6c83 w_5871dfd</td>\n",
              "    </tr>\n",
              "  </tbody>\n",
              "</table>\n",
              "</div>"
            ],
            "text/plain": [
              "           Image                                                 Id\n",
              "0  d620a46ce.jpg  new_whale w_f0d3b4f w_ad88c85 w_f6c5343 w_21f1129\n",
              "1  68cb35b46.jpg  w_d0b330d new_whale w_23a388d w_811c3a3 w_3de579a\n",
              "2  fbbd3e0f5.jpg  w_6cda039 new_whale w_9bd2794 w_3815890 w_b9e5911\n",
              "3  282d6713c.jpg  w_e11afff new_whale w_700ebb4 w_f0fe284 w_d0bfef3\n",
              "4  67778f1db.jpg  new_whale w_95c7a6f w_8c25681 w_cff6c83 w_5871dfd"
            ]
          },
          "metadata": {
            "tags": []
          },
          "execution_count": 54
        }
      ]
    },
    {
      "cell_type": "code",
      "metadata": {
        "id": "MD4Sw6jReg9P",
        "colab_type": "code",
        "outputId": "08902542-ffa6-4268-ce16-00f2d28ddcab",
        "colab": {
          "base_uri": "https://localhost:8080/",
          "height": 35
        }
      },
      "source": [
        "pd.read_csv(f'{name}.csv').Id.str.split().apply(lambda x: x[0] == 'new_whale').mean()"
      ],
      "execution_count": 0,
      "outputs": [
        {
          "output_type": "execute_result",
          "data": {
            "text/plain": [
              "0.7925879396984925"
            ]
          },
          "metadata": {
            "tags": []
          },
          "execution_count": 55
        }
      ]
    },
    {
      "cell_type": "code",
      "metadata": {
        "id": "NshMBNpGrshr",
        "colab_type": "code",
        "colab": {}
      },
      "source": [
        ""
      ],
      "execution_count": 0,
      "outputs": []
    }
  ]
}