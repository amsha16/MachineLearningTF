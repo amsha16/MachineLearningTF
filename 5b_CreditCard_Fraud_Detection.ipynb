{
  "nbformat": 4,
  "nbformat_minor": 0,
  "metadata": {
    "colab": {
      "name": "5b CreditCard Fraud Detection.ipynb",
      "provenance": [],
      "toc_visible": true,
      "authorship_tag": "ABX9TyMiyx0ittDaHLtu0ucWBNij",
      "include_colab_link": true
    },
    "kernelspec": {
      "name": "python3",
      "display_name": "Python 3"
    }
  },
  "cells": [
    {
      "cell_type": "markdown",
      "metadata": {
        "id": "view-in-github",
        "colab_type": "text"
      },
      "source": [
        "<a href=\"https://colab.research.google.com/github/amsha16/MachineLearningTF/blob/master/5b_CreditCard_Fraud_Detection.ipynb\" target=\"_parent\"><img src=\"https://colab.research.google.com/assets/colab-badge.svg\" alt=\"Open In Colab\"/></a>"
      ]
    },
    {
      "cell_type": "code",
      "metadata": {
        "id": "8eOSnyJjJjME",
        "colab_type": "code",
        "colab": {}
      },
      "source": [
        "import tensorflow as tf\n",
        "\n",
        "from tensorflow.keras import Sequential\n",
        "from tensorflow.keras import Model\n",
        "from tensorflow.keras.layers import Flatten, Dense, Dropout, BatchNormalization, Conv1D, MaxPool1D, Input\n",
        "from tensorflow.keras.optimizers import Adam\n",
        "import pandas as pd\n",
        "import numpy as np\n",
        "import seaborn as sns\n",
        "import matplotlib.pyplot as plt\n",
        "from sklearn.model_selection import train_test_split\n",
        "from sklearn.preprocessing import StandardScaler\n",
        "\n",
        "from keras import regularizers"
      ],
      "execution_count": 0,
      "outputs": []
    },
    {
      "cell_type": "code",
      "metadata": {
        "id": "zCqo6x61K_Ww",
        "colab_type": "code",
        "colab": {
          "base_uri": "https://localhost:8080/",
          "height": 34
        },
        "outputId": "2eefa5b4-b992-4212-bf50-5eda8666ac2c"
      },
      "source": [
        "print(tf.__version__)"
      ],
      "execution_count": 2,
      "outputs": [
        {
          "output_type": "stream",
          "text": [
            "2.2.0\n"
          ],
          "name": "stdout"
        }
      ]
    },
    {
      "cell_type": "code",
      "metadata": {
        "id": "IxHjSiVMLGOW",
        "colab_type": "code",
        "colab": {}
      },
      "source": [
        "!pip install -q kaggle"
      ],
      "execution_count": 0,
      "outputs": []
    },
    {
      "cell_type": "code",
      "metadata": {
        "id": "WCjyh2ynMIVQ",
        "colab_type": "code",
        "colab": {
          "base_uri": "https://localhost:8080/",
          "height": 50
        },
        "outputId": "d0ad6f32-0051-43af-cc5a-33a3db796943"
      },
      "source": [
        "!ls -l .kaggle"
      ],
      "execution_count": 14,
      "outputs": [
        {
          "output_type": "stream",
          "text": [
            "total 4\n",
            "-rw-r--r-- 1 root root 63 Jun 10 12:22 kaggle.json\n"
          ],
          "name": "stdout"
        }
      ]
    },
    {
      "cell_type": "code",
      "metadata": {
        "id": "8wUEJKdeM8yK",
        "colab_type": "code",
        "colab": {}
      },
      "source": [
        "!mv kaggle.json .kaggle"
      ],
      "execution_count": 0,
      "outputs": []
    },
    {
      "cell_type": "code",
      "metadata": {
        "id": "nazOrtkURQhJ",
        "colab_type": "code",
        "colab": {}
      },
      "source": [
        "!cp /content/.kaggle/kaggle.json ~/.kaggle/kaggle.json"
      ],
      "execution_count": 0,
      "outputs": []
    },
    {
      "cell_type": "code",
      "metadata": {
        "id": "GPxlPbNhL4mw",
        "colab_type": "code",
        "colab": {
          "base_uri": "https://localhost:8080/",
          "height": 84
        },
        "outputId": "0100ac2b-a541-4dbf-a701-45f3b05af37b"
      },
      "source": [
        "!kaggle datasets download -d mlg-ulb/creditcardfraud"
      ],
      "execution_count": 17,
      "outputs": [
        {
          "output_type": "stream",
          "text": [
            "Warning: Your Kaggle API key is readable by other users on this system! To fix this, you can run 'chmod 600 /root/.kaggle/kaggle.json'\n",
            "Downloading creditcardfraud.zip to /content\n",
            " 86% 57.0M/66.0M [00:00<00:00, 74.6MB/s]\n",
            "100% 66.0M/66.0M [00:00<00:00, 96.4MB/s]\n"
          ],
          "name": "stdout"
        }
      ]
    },
    {
      "cell_type": "code",
      "metadata": {
        "id": "FfAD5jtLMEF_",
        "colab_type": "code",
        "colab": {
          "base_uri": "https://localhost:8080/",
          "height": 50
        },
        "outputId": "11524bd7-6e3b-454d-ed0c-6e8b980d7f1d"
      },
      "source": [
        "!unzip  creditcardfraud.zip"
      ],
      "execution_count": 21,
      "outputs": [
        {
          "output_type": "stream",
          "text": [
            "Archive:  creditcardfraud.zip\n",
            "  inflating: creditcard.csv          \n"
          ],
          "name": "stdout"
        }
      ]
    },
    {
      "cell_type": "code",
      "metadata": {
        "id": "sPq2C7EkRiAR",
        "colab_type": "code",
        "colab": {}
      },
      "source": [
        "credit_data = pd.read_csv(\"creditcard.csv\",parse_dates=True)"
      ],
      "execution_count": 0,
      "outputs": []
    },
    {
      "cell_type": "code",
      "metadata": {
        "id": "gEjkRR7WRud8",
        "colab_type": "code",
        "colab": {
          "base_uri": "https://localhost:8080/",
          "height": 215
        },
        "outputId": "55e38134-4e11-45c2-959c-40a989553339"
      },
      "source": [
        "credit_data.head()\n"
      ],
      "execution_count": 6,
      "outputs": [
        {
          "output_type": "execute_result",
          "data": {
            "text/html": [
              "<div>\n",
              "<style scoped>\n",
              "    .dataframe tbody tr th:only-of-type {\n",
              "        vertical-align: middle;\n",
              "    }\n",
              "\n",
              "    .dataframe tbody tr th {\n",
              "        vertical-align: top;\n",
              "    }\n",
              "\n",
              "    .dataframe thead th {\n",
              "        text-align: right;\n",
              "    }\n",
              "</style>\n",
              "<table border=\"1\" class=\"dataframe\">\n",
              "  <thead>\n",
              "    <tr style=\"text-align: right;\">\n",
              "      <th></th>\n",
              "      <th>Time</th>\n",
              "      <th>V1</th>\n",
              "      <th>V2</th>\n",
              "      <th>V3</th>\n",
              "      <th>V4</th>\n",
              "      <th>V5</th>\n",
              "      <th>V6</th>\n",
              "      <th>V7</th>\n",
              "      <th>V8</th>\n",
              "      <th>V9</th>\n",
              "      <th>V10</th>\n",
              "      <th>V11</th>\n",
              "      <th>V12</th>\n",
              "      <th>V13</th>\n",
              "      <th>V14</th>\n",
              "      <th>V15</th>\n",
              "      <th>V16</th>\n",
              "      <th>V17</th>\n",
              "      <th>V18</th>\n",
              "      <th>V19</th>\n",
              "      <th>V20</th>\n",
              "      <th>V21</th>\n",
              "      <th>V22</th>\n",
              "      <th>V23</th>\n",
              "      <th>V24</th>\n",
              "      <th>V25</th>\n",
              "      <th>V26</th>\n",
              "      <th>V27</th>\n",
              "      <th>V28</th>\n",
              "      <th>Amount</th>\n",
              "      <th>Class</th>\n",
              "    </tr>\n",
              "  </thead>\n",
              "  <tbody>\n",
              "    <tr>\n",
              "      <th>0</th>\n",
              "      <td>0.0</td>\n",
              "      <td>-1.359807</td>\n",
              "      <td>-0.072781</td>\n",
              "      <td>2.536347</td>\n",
              "      <td>1.378155</td>\n",
              "      <td>-0.338321</td>\n",
              "      <td>0.462388</td>\n",
              "      <td>0.239599</td>\n",
              "      <td>0.098698</td>\n",
              "      <td>0.363787</td>\n",
              "      <td>0.090794</td>\n",
              "      <td>-0.551600</td>\n",
              "      <td>-0.617801</td>\n",
              "      <td>-0.991390</td>\n",
              "      <td>-0.311169</td>\n",
              "      <td>1.468177</td>\n",
              "      <td>-0.470401</td>\n",
              "      <td>0.207971</td>\n",
              "      <td>0.025791</td>\n",
              "      <td>0.403993</td>\n",
              "      <td>0.251412</td>\n",
              "      <td>-0.018307</td>\n",
              "      <td>0.277838</td>\n",
              "      <td>-0.110474</td>\n",
              "      <td>0.066928</td>\n",
              "      <td>0.128539</td>\n",
              "      <td>-0.189115</td>\n",
              "      <td>0.133558</td>\n",
              "      <td>-0.021053</td>\n",
              "      <td>149.62</td>\n",
              "      <td>0</td>\n",
              "    </tr>\n",
              "    <tr>\n",
              "      <th>1</th>\n",
              "      <td>0.0</td>\n",
              "      <td>1.191857</td>\n",
              "      <td>0.266151</td>\n",
              "      <td>0.166480</td>\n",
              "      <td>0.448154</td>\n",
              "      <td>0.060018</td>\n",
              "      <td>-0.082361</td>\n",
              "      <td>-0.078803</td>\n",
              "      <td>0.085102</td>\n",
              "      <td>-0.255425</td>\n",
              "      <td>-0.166974</td>\n",
              "      <td>1.612727</td>\n",
              "      <td>1.065235</td>\n",
              "      <td>0.489095</td>\n",
              "      <td>-0.143772</td>\n",
              "      <td>0.635558</td>\n",
              "      <td>0.463917</td>\n",
              "      <td>-0.114805</td>\n",
              "      <td>-0.183361</td>\n",
              "      <td>-0.145783</td>\n",
              "      <td>-0.069083</td>\n",
              "      <td>-0.225775</td>\n",
              "      <td>-0.638672</td>\n",
              "      <td>0.101288</td>\n",
              "      <td>-0.339846</td>\n",
              "      <td>0.167170</td>\n",
              "      <td>0.125895</td>\n",
              "      <td>-0.008983</td>\n",
              "      <td>0.014724</td>\n",
              "      <td>2.69</td>\n",
              "      <td>0</td>\n",
              "    </tr>\n",
              "    <tr>\n",
              "      <th>2</th>\n",
              "      <td>1.0</td>\n",
              "      <td>-1.358354</td>\n",
              "      <td>-1.340163</td>\n",
              "      <td>1.773209</td>\n",
              "      <td>0.379780</td>\n",
              "      <td>-0.503198</td>\n",
              "      <td>1.800499</td>\n",
              "      <td>0.791461</td>\n",
              "      <td>0.247676</td>\n",
              "      <td>-1.514654</td>\n",
              "      <td>0.207643</td>\n",
              "      <td>0.624501</td>\n",
              "      <td>0.066084</td>\n",
              "      <td>0.717293</td>\n",
              "      <td>-0.165946</td>\n",
              "      <td>2.345865</td>\n",
              "      <td>-2.890083</td>\n",
              "      <td>1.109969</td>\n",
              "      <td>-0.121359</td>\n",
              "      <td>-2.261857</td>\n",
              "      <td>0.524980</td>\n",
              "      <td>0.247998</td>\n",
              "      <td>0.771679</td>\n",
              "      <td>0.909412</td>\n",
              "      <td>-0.689281</td>\n",
              "      <td>-0.327642</td>\n",
              "      <td>-0.139097</td>\n",
              "      <td>-0.055353</td>\n",
              "      <td>-0.059752</td>\n",
              "      <td>378.66</td>\n",
              "      <td>0</td>\n",
              "    </tr>\n",
              "    <tr>\n",
              "      <th>3</th>\n",
              "      <td>1.0</td>\n",
              "      <td>-0.966272</td>\n",
              "      <td>-0.185226</td>\n",
              "      <td>1.792993</td>\n",
              "      <td>-0.863291</td>\n",
              "      <td>-0.010309</td>\n",
              "      <td>1.247203</td>\n",
              "      <td>0.237609</td>\n",
              "      <td>0.377436</td>\n",
              "      <td>-1.387024</td>\n",
              "      <td>-0.054952</td>\n",
              "      <td>-0.226487</td>\n",
              "      <td>0.178228</td>\n",
              "      <td>0.507757</td>\n",
              "      <td>-0.287924</td>\n",
              "      <td>-0.631418</td>\n",
              "      <td>-1.059647</td>\n",
              "      <td>-0.684093</td>\n",
              "      <td>1.965775</td>\n",
              "      <td>-1.232622</td>\n",
              "      <td>-0.208038</td>\n",
              "      <td>-0.108300</td>\n",
              "      <td>0.005274</td>\n",
              "      <td>-0.190321</td>\n",
              "      <td>-1.175575</td>\n",
              "      <td>0.647376</td>\n",
              "      <td>-0.221929</td>\n",
              "      <td>0.062723</td>\n",
              "      <td>0.061458</td>\n",
              "      <td>123.50</td>\n",
              "      <td>0</td>\n",
              "    </tr>\n",
              "    <tr>\n",
              "      <th>4</th>\n",
              "      <td>2.0</td>\n",
              "      <td>-1.158233</td>\n",
              "      <td>0.877737</td>\n",
              "      <td>1.548718</td>\n",
              "      <td>0.403034</td>\n",
              "      <td>-0.407193</td>\n",
              "      <td>0.095921</td>\n",
              "      <td>0.592941</td>\n",
              "      <td>-0.270533</td>\n",
              "      <td>0.817739</td>\n",
              "      <td>0.753074</td>\n",
              "      <td>-0.822843</td>\n",
              "      <td>0.538196</td>\n",
              "      <td>1.345852</td>\n",
              "      <td>-1.119670</td>\n",
              "      <td>0.175121</td>\n",
              "      <td>-0.451449</td>\n",
              "      <td>-0.237033</td>\n",
              "      <td>-0.038195</td>\n",
              "      <td>0.803487</td>\n",
              "      <td>0.408542</td>\n",
              "      <td>-0.009431</td>\n",
              "      <td>0.798278</td>\n",
              "      <td>-0.137458</td>\n",
              "      <td>0.141267</td>\n",
              "      <td>-0.206010</td>\n",
              "      <td>0.502292</td>\n",
              "      <td>0.219422</td>\n",
              "      <td>0.215153</td>\n",
              "      <td>69.99</td>\n",
              "      <td>0</td>\n",
              "    </tr>\n",
              "  </tbody>\n",
              "</table>\n",
              "</div>"
            ],
            "text/plain": [
              "   Time        V1        V2        V3  ...       V27       V28  Amount  Class\n",
              "0   0.0 -1.359807 -0.072781  2.536347  ...  0.133558 -0.021053  149.62      0\n",
              "1   0.0  1.191857  0.266151  0.166480  ... -0.008983  0.014724    2.69      0\n",
              "2   1.0 -1.358354 -1.340163  1.773209  ... -0.055353 -0.059752  378.66      0\n",
              "3   1.0 -0.966272 -0.185226  1.792993  ...  0.062723  0.061458  123.50      0\n",
              "4   2.0 -1.158233  0.877737  1.548718  ...  0.219422  0.215153   69.99      0\n",
              "\n",
              "[5 rows x 31 columns]"
            ]
          },
          "metadata": {
            "tags": []
          },
          "execution_count": 6
        }
      ]
    },
    {
      "cell_type": "code",
      "metadata": {
        "id": "LwJCFpRzR0R9",
        "colab_type": "code",
        "colab": {}
      },
      "source": [
        "credit_data = credit_data.drop(['Time'], axis=1)"
      ],
      "execution_count": 0,
      "outputs": []
    },
    {
      "cell_type": "code",
      "metadata": {
        "id": "e9gAKbwASP6E",
        "colab_type": "code",
        "colab": {}
      },
      "source": [
        "X_train, X_test = train_test_split(credit_data, test_size=0.25, random_state=42)\n",
        "X_train = X_train[X_train.Class == 0]\n",
        "X_train = X_train.drop(['Class'], axis=1)\n",
        "y_test = X_test['Class']\n",
        "X_test = X_test.drop(['Class'], axis=1)"
      ],
      "execution_count": 0,
      "outputs": []
    },
    {
      "cell_type": "code",
      "metadata": {
        "id": "NrmxujzhSgTx",
        "colab_type": "code",
        "colab": {
          "base_uri": "https://localhost:8080/",
          "height": 34
        },
        "outputId": "54e0de76-d48a-4a85-c2ae-9227428783b5"
      },
      "source": [
        "X_train.shape, X_test.shape"
      ],
      "execution_count": 9,
      "outputs": [
        {
          "output_type": "execute_result",
          "data": {
            "text/plain": [
              "((213226, 29), (71202, 29))"
            ]
          },
          "metadata": {
            "tags": []
          },
          "execution_count": 9
        }
      ]
    },
    {
      "cell_type": "code",
      "metadata": {
        "id": "IwtXLmHZU3Jt",
        "colab_type": "code",
        "colab": {
          "base_uri": "https://localhost:8080/",
          "height": 67
        },
        "outputId": "12f14065-9996-476b-dba1-233fadf46c25"
      },
      "source": [
        "credit_data['Class'].value_counts()"
      ],
      "execution_count": 10,
      "outputs": [
        {
          "output_type": "execute_result",
          "data": {
            "text/plain": [
              "0    284315\n",
              "1       492\n",
              "Name: Class, dtype: int64"
            ]
          },
          "metadata": {
            "tags": []
          },
          "execution_count": 10
        }
      ]
    },
    {
      "cell_type": "markdown",
      "metadata": {
        "id": "B-kJoOOAVL18",
        "colab_type": "text"
      },
      "source": [
        "Balancing data"
      ]
    },
    {
      "cell_type": "code",
      "metadata": {
        "id": "LdjAu0YWVIvt",
        "colab_type": "code",
        "colab": {}
      },
      "source": [
        "non_fraud = credit_data[credit_data['Class']==0]\n",
        "fraud = credit_data[credit_data['Class']==1]"
      ],
      "execution_count": 0,
      "outputs": []
    },
    {
      "cell_type": "code",
      "metadata": {
        "id": "_ViypVhsVYn2",
        "colab_type": "code",
        "colab": {
          "base_uri": "https://localhost:8080/",
          "height": 34
        },
        "outputId": "0c83300f-e583-4c69-af25-355db4bad7e9"
      },
      "source": [
        "non_fraud.shape, fraud.shape"
      ],
      "execution_count": 12,
      "outputs": [
        {
          "output_type": "execute_result",
          "data": {
            "text/plain": [
              "((284315, 30), (492, 30))"
            ]
          },
          "metadata": {
            "tags": []
          },
          "execution_count": 12
        }
      ]
    },
    {
      "cell_type": "code",
      "metadata": {
        "id": "Y6wO__X7VbH7",
        "colab_type": "code",
        "colab": {
          "base_uri": "https://localhost:8080/",
          "height": 34
        },
        "outputId": "529ea455-1ab7-442f-f72a-d5d147e7afea"
      },
      "source": [
        "non_fraud = non_fraud.sample(fraud.shape[0])\n",
        "non_fraud.shape"
      ],
      "execution_count": 13,
      "outputs": [
        {
          "output_type": "execute_result",
          "data": {
            "text/plain": [
              "(492, 30)"
            ]
          },
          "metadata": {
            "tags": []
          },
          "execution_count": 13
        }
      ]
    },
    {
      "cell_type": "markdown",
      "metadata": {
        "id": "eDNn4DhNVqIX",
        "colab_type": "text"
      },
      "source": [
        "Merging both datasets"
      ]
    },
    {
      "cell_type": "code",
      "metadata": {
        "id": "4pTPaYXRVnfc",
        "colab_type": "code",
        "colab": {
          "base_uri": "https://localhost:8080/",
          "height": 422
        },
        "outputId": "ac907bff-8f40-4a95-ca17-a6f0c8b06881"
      },
      "source": [
        "data = fraud.append(non_fraud, ignore_index=True)\n",
        "data"
      ],
      "execution_count": 14,
      "outputs": [
        {
          "output_type": "execute_result",
          "data": {
            "text/html": [
              "<div>\n",
              "<style scoped>\n",
              "    .dataframe tbody tr th:only-of-type {\n",
              "        vertical-align: middle;\n",
              "    }\n",
              "\n",
              "    .dataframe tbody tr th {\n",
              "        vertical-align: top;\n",
              "    }\n",
              "\n",
              "    .dataframe thead th {\n",
              "        text-align: right;\n",
              "    }\n",
              "</style>\n",
              "<table border=\"1\" class=\"dataframe\">\n",
              "  <thead>\n",
              "    <tr style=\"text-align: right;\">\n",
              "      <th></th>\n",
              "      <th>V1</th>\n",
              "      <th>V2</th>\n",
              "      <th>V3</th>\n",
              "      <th>V4</th>\n",
              "      <th>V5</th>\n",
              "      <th>V6</th>\n",
              "      <th>V7</th>\n",
              "      <th>V8</th>\n",
              "      <th>V9</th>\n",
              "      <th>V10</th>\n",
              "      <th>V11</th>\n",
              "      <th>V12</th>\n",
              "      <th>V13</th>\n",
              "      <th>V14</th>\n",
              "      <th>V15</th>\n",
              "      <th>V16</th>\n",
              "      <th>V17</th>\n",
              "      <th>V18</th>\n",
              "      <th>V19</th>\n",
              "      <th>V20</th>\n",
              "      <th>V21</th>\n",
              "      <th>V22</th>\n",
              "      <th>V23</th>\n",
              "      <th>V24</th>\n",
              "      <th>V25</th>\n",
              "      <th>V26</th>\n",
              "      <th>V27</th>\n",
              "      <th>V28</th>\n",
              "      <th>Amount</th>\n",
              "      <th>Class</th>\n",
              "    </tr>\n",
              "  </thead>\n",
              "  <tbody>\n",
              "    <tr>\n",
              "      <th>0</th>\n",
              "      <td>-2.312227</td>\n",
              "      <td>1.951992</td>\n",
              "      <td>-1.609851</td>\n",
              "      <td>3.997906</td>\n",
              "      <td>-0.522188</td>\n",
              "      <td>-1.426545</td>\n",
              "      <td>-2.537387</td>\n",
              "      <td>1.391657</td>\n",
              "      <td>-2.770089</td>\n",
              "      <td>-2.772272</td>\n",
              "      <td>3.202033</td>\n",
              "      <td>-2.899907</td>\n",
              "      <td>-0.595222</td>\n",
              "      <td>-4.289254</td>\n",
              "      <td>0.389724</td>\n",
              "      <td>-1.140747</td>\n",
              "      <td>-2.830056</td>\n",
              "      <td>-0.016822</td>\n",
              "      <td>0.416956</td>\n",
              "      <td>0.126911</td>\n",
              "      <td>0.517232</td>\n",
              "      <td>-0.035049</td>\n",
              "      <td>-0.465211</td>\n",
              "      <td>0.320198</td>\n",
              "      <td>0.044519</td>\n",
              "      <td>0.177840</td>\n",
              "      <td>0.261145</td>\n",
              "      <td>-0.143276</td>\n",
              "      <td>0.00</td>\n",
              "      <td>1</td>\n",
              "    </tr>\n",
              "    <tr>\n",
              "      <th>1</th>\n",
              "      <td>-3.043541</td>\n",
              "      <td>-3.157307</td>\n",
              "      <td>1.088463</td>\n",
              "      <td>2.288644</td>\n",
              "      <td>1.359805</td>\n",
              "      <td>-1.064823</td>\n",
              "      <td>0.325574</td>\n",
              "      <td>-0.067794</td>\n",
              "      <td>-0.270953</td>\n",
              "      <td>-0.838587</td>\n",
              "      <td>-0.414575</td>\n",
              "      <td>-0.503141</td>\n",
              "      <td>0.676502</td>\n",
              "      <td>-1.692029</td>\n",
              "      <td>2.000635</td>\n",
              "      <td>0.666780</td>\n",
              "      <td>0.599717</td>\n",
              "      <td>1.725321</td>\n",
              "      <td>0.283345</td>\n",
              "      <td>2.102339</td>\n",
              "      <td>0.661696</td>\n",
              "      <td>0.435477</td>\n",
              "      <td>1.375966</td>\n",
              "      <td>-0.293803</td>\n",
              "      <td>0.279798</td>\n",
              "      <td>-0.145362</td>\n",
              "      <td>-0.252773</td>\n",
              "      <td>0.035764</td>\n",
              "      <td>529.00</td>\n",
              "      <td>1</td>\n",
              "    </tr>\n",
              "    <tr>\n",
              "      <th>2</th>\n",
              "      <td>-2.303350</td>\n",
              "      <td>1.759247</td>\n",
              "      <td>-0.359745</td>\n",
              "      <td>2.330243</td>\n",
              "      <td>-0.821628</td>\n",
              "      <td>-0.075788</td>\n",
              "      <td>0.562320</td>\n",
              "      <td>-0.399147</td>\n",
              "      <td>-0.238253</td>\n",
              "      <td>-1.525412</td>\n",
              "      <td>2.032912</td>\n",
              "      <td>-6.560124</td>\n",
              "      <td>0.022937</td>\n",
              "      <td>-1.470102</td>\n",
              "      <td>-0.698826</td>\n",
              "      <td>-2.282194</td>\n",
              "      <td>-4.781831</td>\n",
              "      <td>-2.615665</td>\n",
              "      <td>-1.334441</td>\n",
              "      <td>-0.430022</td>\n",
              "      <td>-0.294166</td>\n",
              "      <td>-0.932391</td>\n",
              "      <td>0.172726</td>\n",
              "      <td>-0.087330</td>\n",
              "      <td>-0.156114</td>\n",
              "      <td>-0.542628</td>\n",
              "      <td>0.039566</td>\n",
              "      <td>-0.153029</td>\n",
              "      <td>239.93</td>\n",
              "      <td>1</td>\n",
              "    </tr>\n",
              "    <tr>\n",
              "      <th>3</th>\n",
              "      <td>-4.397974</td>\n",
              "      <td>1.358367</td>\n",
              "      <td>-2.592844</td>\n",
              "      <td>2.679787</td>\n",
              "      <td>-1.128131</td>\n",
              "      <td>-1.706536</td>\n",
              "      <td>-3.496197</td>\n",
              "      <td>-0.248778</td>\n",
              "      <td>-0.247768</td>\n",
              "      <td>-4.801637</td>\n",
              "      <td>4.895844</td>\n",
              "      <td>-10.912819</td>\n",
              "      <td>0.184372</td>\n",
              "      <td>-6.771097</td>\n",
              "      <td>-0.007326</td>\n",
              "      <td>-7.358083</td>\n",
              "      <td>-12.598419</td>\n",
              "      <td>-5.131549</td>\n",
              "      <td>0.308334</td>\n",
              "      <td>-0.171608</td>\n",
              "      <td>0.573574</td>\n",
              "      <td>0.176968</td>\n",
              "      <td>-0.436207</td>\n",
              "      <td>-0.053502</td>\n",
              "      <td>0.252405</td>\n",
              "      <td>-0.657488</td>\n",
              "      <td>-0.827136</td>\n",
              "      <td>0.849573</td>\n",
              "      <td>59.00</td>\n",
              "      <td>1</td>\n",
              "    </tr>\n",
              "    <tr>\n",
              "      <th>4</th>\n",
              "      <td>1.234235</td>\n",
              "      <td>3.019740</td>\n",
              "      <td>-4.304597</td>\n",
              "      <td>4.732795</td>\n",
              "      <td>3.624201</td>\n",
              "      <td>-1.357746</td>\n",
              "      <td>1.713445</td>\n",
              "      <td>-0.496358</td>\n",
              "      <td>-1.282858</td>\n",
              "      <td>-2.447469</td>\n",
              "      <td>2.101344</td>\n",
              "      <td>-4.609628</td>\n",
              "      <td>1.464378</td>\n",
              "      <td>-6.079337</td>\n",
              "      <td>-0.339237</td>\n",
              "      <td>2.581851</td>\n",
              "      <td>6.739384</td>\n",
              "      <td>3.042493</td>\n",
              "      <td>-2.721853</td>\n",
              "      <td>0.009061</td>\n",
              "      <td>-0.379068</td>\n",
              "      <td>-0.704181</td>\n",
              "      <td>-0.656805</td>\n",
              "      <td>-1.632653</td>\n",
              "      <td>1.488901</td>\n",
              "      <td>0.566797</td>\n",
              "      <td>-0.010016</td>\n",
              "      <td>0.146793</td>\n",
              "      <td>1.00</td>\n",
              "      <td>1</td>\n",
              "    </tr>\n",
              "    <tr>\n",
              "      <th>...</th>\n",
              "      <td>...</td>\n",
              "      <td>...</td>\n",
              "      <td>...</td>\n",
              "      <td>...</td>\n",
              "      <td>...</td>\n",
              "      <td>...</td>\n",
              "      <td>...</td>\n",
              "      <td>...</td>\n",
              "      <td>...</td>\n",
              "      <td>...</td>\n",
              "      <td>...</td>\n",
              "      <td>...</td>\n",
              "      <td>...</td>\n",
              "      <td>...</td>\n",
              "      <td>...</td>\n",
              "      <td>...</td>\n",
              "      <td>...</td>\n",
              "      <td>...</td>\n",
              "      <td>...</td>\n",
              "      <td>...</td>\n",
              "      <td>...</td>\n",
              "      <td>...</td>\n",
              "      <td>...</td>\n",
              "      <td>...</td>\n",
              "      <td>...</td>\n",
              "      <td>...</td>\n",
              "      <td>...</td>\n",
              "      <td>...</td>\n",
              "      <td>...</td>\n",
              "      <td>...</td>\n",
              "    </tr>\n",
              "    <tr>\n",
              "      <th>979</th>\n",
              "      <td>-3.642777</td>\n",
              "      <td>-3.428046</td>\n",
              "      <td>-0.077182</td>\n",
              "      <td>1.096936</td>\n",
              "      <td>5.386344</td>\n",
              "      <td>-2.866854</td>\n",
              "      <td>-2.016909</td>\n",
              "      <td>-0.075653</td>\n",
              "      <td>-0.066591</td>\n",
              "      <td>-0.213231</td>\n",
              "      <td>-0.870053</td>\n",
              "      <td>0.434946</td>\n",
              "      <td>1.379925</td>\n",
              "      <td>-1.062280</td>\n",
              "      <td>0.747049</td>\n",
              "      <td>-0.036337</td>\n",
              "      <td>0.634672</td>\n",
              "      <td>-0.125323</td>\n",
              "      <td>1.439231</td>\n",
              "      <td>-0.368027</td>\n",
              "      <td>-0.470538</td>\n",
              "      <td>-0.966181</td>\n",
              "      <td>-0.580881</td>\n",
              "      <td>0.100787</td>\n",
              "      <td>-0.424474</td>\n",
              "      <td>0.392755</td>\n",
              "      <td>0.532933</td>\n",
              "      <td>0.056679</td>\n",
              "      <td>62.99</td>\n",
              "      <td>0</td>\n",
              "    </tr>\n",
              "    <tr>\n",
              "      <th>980</th>\n",
              "      <td>-1.487805</td>\n",
              "      <td>1.153361</td>\n",
              "      <td>1.766754</td>\n",
              "      <td>-1.842626</td>\n",
              "      <td>1.251140</td>\n",
              "      <td>1.072848</td>\n",
              "      <td>2.883501</td>\n",
              "      <td>-2.446128</td>\n",
              "      <td>3.845544</td>\n",
              "      <td>5.009713</td>\n",
              "      <td>1.262247</td>\n",
              "      <td>-0.737960</td>\n",
              "      <td>-0.492116</td>\n",
              "      <td>-3.383744</td>\n",
              "      <td>-0.194024</td>\n",
              "      <td>-0.553831</td>\n",
              "      <td>-2.376284</td>\n",
              "      <td>0.396380</td>\n",
              "      <td>-0.071425</td>\n",
              "      <td>1.702473</td>\n",
              "      <td>-0.596972</td>\n",
              "      <td>1.106413</td>\n",
              "      <td>-0.603324</td>\n",
              "      <td>0.230287</td>\n",
              "      <td>-0.419304</td>\n",
              "      <td>0.181660</td>\n",
              "      <td>-1.195708</td>\n",
              "      <td>-1.951939</td>\n",
              "      <td>95.80</td>\n",
              "      <td>0</td>\n",
              "    </tr>\n",
              "    <tr>\n",
              "      <th>981</th>\n",
              "      <td>1.300633</td>\n",
              "      <td>0.180831</td>\n",
              "      <td>0.048753</td>\n",
              "      <td>0.229102</td>\n",
              "      <td>0.159963</td>\n",
              "      <td>0.003099</td>\n",
              "      <td>-0.056511</td>\n",
              "      <td>0.007908</td>\n",
              "      <td>-0.157157</td>\n",
              "      <td>0.100715</td>\n",
              "      <td>0.464492</td>\n",
              "      <td>0.752002</td>\n",
              "      <td>0.583588</td>\n",
              "      <td>0.336149</td>\n",
              "      <td>0.400323</td>\n",
              "      <td>0.832487</td>\n",
              "      <td>-1.106505</td>\n",
              "      <td>0.315392</td>\n",
              "      <td>0.609576</td>\n",
              "      <td>-0.035855</td>\n",
              "      <td>-0.281059</td>\n",
              "      <td>-0.834393</td>\n",
              "      <td>-0.021566</td>\n",
              "      <td>-0.839019</td>\n",
              "      <td>0.348307</td>\n",
              "      <td>0.149058</td>\n",
              "      <td>-0.033336</td>\n",
              "      <td>-0.002761</td>\n",
              "      <td>1.29</td>\n",
              "      <td>0</td>\n",
              "    </tr>\n",
              "    <tr>\n",
              "      <th>982</th>\n",
              "      <td>0.358783</td>\n",
              "      <td>0.540759</td>\n",
              "      <td>0.180974</td>\n",
              "      <td>3.481706</td>\n",
              "      <td>2.748892</td>\n",
              "      <td>5.187147</td>\n",
              "      <td>-0.620869</td>\n",
              "      <td>1.072593</td>\n",
              "      <td>-1.224173</td>\n",
              "      <td>1.809873</td>\n",
              "      <td>-0.557344</td>\n",
              "      <td>-0.689807</td>\n",
              "      <td>0.082609</td>\n",
              "      <td>-0.150209</td>\n",
              "      <td>0.923597</td>\n",
              "      <td>-0.078719</td>\n",
              "      <td>-0.204871</td>\n",
              "      <td>0.406476</td>\n",
              "      <td>0.761310</td>\n",
              "      <td>0.311664</td>\n",
              "      <td>0.335538</td>\n",
              "      <td>1.189521</td>\n",
              "      <td>0.198243</td>\n",
              "      <td>0.711694</td>\n",
              "      <td>-1.739654</td>\n",
              "      <td>0.240587</td>\n",
              "      <td>0.232380</td>\n",
              "      <td>0.096533</td>\n",
              "      <td>15.09</td>\n",
              "      <td>0</td>\n",
              "    </tr>\n",
              "    <tr>\n",
              "      <th>983</th>\n",
              "      <td>1.143559</td>\n",
              "      <td>-0.079111</td>\n",
              "      <td>1.054845</td>\n",
              "      <td>1.176409</td>\n",
              "      <td>-0.538392</td>\n",
              "      <td>0.552852</td>\n",
              "      <td>-0.632609</td>\n",
              "      <td>0.247926</td>\n",
              "      <td>0.890718</td>\n",
              "      <td>-0.251424</td>\n",
              "      <td>-0.978707</td>\n",
              "      <td>0.514229</td>\n",
              "      <td>0.308386</td>\n",
              "      <td>-0.402156</td>\n",
              "      <td>0.443176</td>\n",
              "      <td>-0.079388</td>\n",
              "      <td>-0.162230</td>\n",
              "      <td>-0.374935</td>\n",
              "      <td>-0.383829</td>\n",
              "      <td>-0.135601</td>\n",
              "      <td>-0.064680</td>\n",
              "      <td>0.067034</td>\n",
              "      <td>-0.039988</td>\n",
              "      <td>-0.422649</td>\n",
              "      <td>0.415104</td>\n",
              "      <td>-0.348771</td>\n",
              "      <td>0.089636</td>\n",
              "      <td>0.030299</td>\n",
              "      <td>9.99</td>\n",
              "      <td>0</td>\n",
              "    </tr>\n",
              "  </tbody>\n",
              "</table>\n",
              "<p>984 rows × 30 columns</p>\n",
              "</div>"
            ],
            "text/plain": [
              "           V1        V2        V3        V4  ...       V27       V28  Amount  Class\n",
              "0   -2.312227  1.951992 -1.609851  3.997906  ...  0.261145 -0.143276    0.00      1\n",
              "1   -3.043541 -3.157307  1.088463  2.288644  ... -0.252773  0.035764  529.00      1\n",
              "2   -2.303350  1.759247 -0.359745  2.330243  ...  0.039566 -0.153029  239.93      1\n",
              "3   -4.397974  1.358367 -2.592844  2.679787  ... -0.827136  0.849573   59.00      1\n",
              "4    1.234235  3.019740 -4.304597  4.732795  ... -0.010016  0.146793    1.00      1\n",
              "..        ...       ...       ...       ...  ...       ...       ...     ...    ...\n",
              "979 -3.642777 -3.428046 -0.077182  1.096936  ...  0.532933  0.056679   62.99      0\n",
              "980 -1.487805  1.153361  1.766754 -1.842626  ... -1.195708 -1.951939   95.80      0\n",
              "981  1.300633  0.180831  0.048753  0.229102  ... -0.033336 -0.002761    1.29      0\n",
              "982  0.358783  0.540759  0.180974  3.481706  ...  0.232380  0.096533   15.09      0\n",
              "983  1.143559 -0.079111  1.054845  1.176409  ...  0.089636  0.030299    9.99      0\n",
              "\n",
              "[984 rows x 30 columns]"
            ]
          },
          "metadata": {
            "tags": []
          },
          "execution_count": 14
        }
      ]
    },
    {
      "cell_type": "code",
      "metadata": {
        "id": "hURvXjuOV1jQ",
        "colab_type": "code",
        "colab": {
          "base_uri": "https://localhost:8080/",
          "height": 67
        },
        "outputId": "079f3d0b-3651-4844-9e69-33579b0172d8"
      },
      "source": [
        "data['Class'].value_counts()"
      ],
      "execution_count": 15,
      "outputs": [
        {
          "output_type": "execute_result",
          "data": {
            "text/plain": [
              "1    492\n",
              "0    492\n",
              "Name: Class, dtype: int64"
            ]
          },
          "metadata": {
            "tags": []
          },
          "execution_count": 15
        }
      ]
    },
    {
      "cell_type": "code",
      "metadata": {
        "id": "oU3pO0BOV9XC",
        "colab_type": "code",
        "colab": {}
      },
      "source": [
        "X = data.drop('Class', axis = 1)\n",
        "y = data['Class']"
      ],
      "execution_count": 0,
      "outputs": []
    },
    {
      "cell_type": "code",
      "metadata": {
        "id": "bma3-2KcWOpz",
        "colab_type": "code",
        "colab": {}
      },
      "source": [
        "X_train, X_test, y_train, y_test = train_test_split(X, y, test_size=0.2, random_state=0, stratify = y)\n"
      ],
      "execution_count": 0,
      "outputs": []
    },
    {
      "cell_type": "code",
      "metadata": {
        "id": "25aSIR-lWcdH",
        "colab_type": "code",
        "colab": {
          "base_uri": "https://localhost:8080/",
          "height": 34
        },
        "outputId": "7a6bb371-f028-41c6-ac67-9efc20514e8a"
      },
      "source": [
        "X_train.shape, X_test.shape"
      ],
      "execution_count": 18,
      "outputs": [
        {
          "output_type": "execute_result",
          "data": {
            "text/plain": [
              "((787, 29), (197, 29))"
            ]
          },
          "metadata": {
            "tags": []
          },
          "execution_count": 18
        }
      ]
    },
    {
      "cell_type": "code",
      "metadata": {
        "id": "Y-NIQMdJWfsU",
        "colab_type": "code",
        "colab": {}
      },
      "source": [
        "scaler = StandardScaler()\n",
        "X_train = scaler.fit_transform(X_train)\n",
        "X_test = scaler.transform(X_test)"
      ],
      "execution_count": 0,
      "outputs": []
    },
    {
      "cell_type": "code",
      "metadata": {
        "id": "xe12q4nVW7XJ",
        "colab_type": "code",
        "colab": {}
      },
      "source": [
        "y_train = y_train.to_numpy()\n",
        "y_test = y_test.to_numpy()"
      ],
      "execution_count": 0,
      "outputs": []
    },
    {
      "cell_type": "markdown",
      "metadata": {
        "id": "0WPYTadFXcV-",
        "colab_type": "text"
      },
      "source": [
        "Another dimension for CNN"
      ]
    },
    {
      "cell_type": "code",
      "metadata": {
        "id": "VHdyUDZnXFPG",
        "colab_type": "code",
        "colab": {}
      },
      "source": [
        "X_train = X_train.reshape(X_train.shape[0], X_train.shape[1], 1)\n",
        "X_test = X_test.reshape(X_test.shape[0], X_test.shape[1], 1)"
      ],
      "execution_count": 0,
      "outputs": []
    },
    {
      "cell_type": "code",
      "metadata": {
        "id": "5dv3sjvFXUyw",
        "colab_type": "code",
        "colab": {
          "base_uri": "https://localhost:8080/",
          "height": 34
        },
        "outputId": "bbe71d10-c5d1-48d3-fafe-2a4aba977d81"
      },
      "source": [
        "X_train.shape, X_test.shape"
      ],
      "execution_count": 22,
      "outputs": [
        {
          "output_type": "execute_result",
          "data": {
            "text/plain": [
              "((787, 29, 1), (197, 29, 1))"
            ]
          },
          "metadata": {
            "tags": []
          },
          "execution_count": 22
        }
      ]
    },
    {
      "cell_type": "code",
      "metadata": {
        "id": "o6banwcpXWmc",
        "colab_type": "code",
        "colab": {}
      },
      "source": [
        "epochs = 20\n",
        "model = Sequential()\n",
        "model.add(Conv1D(32, 2, activation='relu', input_shape=X_train[0].shape))\n",
        "model.add(BatchNormalization())\n",
        "model.add(Dropout(0.2))\n",
        "\n",
        "model.add(Conv1D(64, 2, activation='relu'))\n",
        "model.add(BatchNormalization())\n",
        "model.add(Dropout(0.5))\n",
        "\n",
        "model.add(Flatten())\n",
        "model.add(Dense(64, activation='relu'))\n",
        "model.add(Dropout(0.5))\n",
        "\n",
        "model.add(Dense(1, activation='sigmoid'))"
      ],
      "execution_count": 0,
      "outputs": []
    },
    {
      "cell_type": "code",
      "metadata": {
        "id": "1AluHOWtYPaL",
        "colab_type": "code",
        "colab": {
          "base_uri": "https://localhost:8080/",
          "height": 487
        },
        "outputId": "bb6d378d-f77f-4d48-edf8-3862455e641e"
      },
      "source": [
        "model.summary()"
      ],
      "execution_count": 24,
      "outputs": [
        {
          "output_type": "stream",
          "text": [
            "Model: \"sequential\"\n",
            "_________________________________________________________________\n",
            "Layer (type)                 Output Shape              Param #   \n",
            "=================================================================\n",
            "conv1d (Conv1D)              (None, 28, 32)            96        \n",
            "_________________________________________________________________\n",
            "batch_normalization (BatchNo (None, 28, 32)            128       \n",
            "_________________________________________________________________\n",
            "dropout (Dropout)            (None, 28, 32)            0         \n",
            "_________________________________________________________________\n",
            "conv1d_1 (Conv1D)            (None, 27, 64)            4160      \n",
            "_________________________________________________________________\n",
            "batch_normalization_1 (Batch (None, 27, 64)            256       \n",
            "_________________________________________________________________\n",
            "dropout_1 (Dropout)          (None, 27, 64)            0         \n",
            "_________________________________________________________________\n",
            "flatten (Flatten)            (None, 1728)              0         \n",
            "_________________________________________________________________\n",
            "dense (Dense)                (None, 64)                110656    \n",
            "_________________________________________________________________\n",
            "dropout_2 (Dropout)          (None, 64)                0         \n",
            "_________________________________________________________________\n",
            "dense_1 (Dense)              (None, 1)                 65        \n",
            "=================================================================\n",
            "Total params: 115,361\n",
            "Trainable params: 115,169\n",
            "Non-trainable params: 192\n",
            "_________________________________________________________________\n"
          ],
          "name": "stdout"
        }
      ]
    },
    {
      "cell_type": "code",
      "metadata": {
        "id": "52xKA81FYQqP",
        "colab_type": "code",
        "colab": {}
      },
      "source": [
        "model.compile(optimizer=Adam(lr = 0.0001), loss = 'binary_crossentropy', metrics = ['accuracy'])"
      ],
      "execution_count": 0,
      "outputs": []
    },
    {
      "cell_type": "code",
      "metadata": {
        "id": "0wdvUGIMYdYF",
        "colab_type": "code",
        "colab": {
          "base_uri": "https://localhost:8080/",
          "height": 689
        },
        "outputId": "0d54353c-b6f5-40b3-d8b1-5cd13bf0f623"
      },
      "source": [
        "history = model.fit(X_train, y_train, epochs=epochs, validation_data=(X_test, y_test), verbose = 1)"
      ],
      "execution_count": 26,
      "outputs": [
        {
          "output_type": "stream",
          "text": [
            "Epoch 1/20\n",
            "25/25 [==============================] - 0s 17ms/step - loss: 0.7702 - accuracy: 0.6976 - val_loss: 0.5889 - val_accuracy: 0.8477\n",
            "Epoch 2/20\n",
            "25/25 [==============================] - 0s 9ms/step - loss: 0.4182 - accuracy: 0.8361 - val_loss: 0.5503 - val_accuracy: 0.8832\n",
            "Epoch 3/20\n",
            "25/25 [==============================] - 0s 9ms/step - loss: 0.3727 - accuracy: 0.8628 - val_loss: 0.5246 - val_accuracy: 0.9086\n",
            "Epoch 4/20\n",
            "25/25 [==============================] - 0s 9ms/step - loss: 0.3628 - accuracy: 0.8869 - val_loss: 0.5026 - val_accuracy: 0.9036\n",
            "Epoch 5/20\n",
            "25/25 [==============================] - 0s 9ms/step - loss: 0.3349 - accuracy: 0.8806 - val_loss: 0.4732 - val_accuracy: 0.8934\n",
            "Epoch 6/20\n",
            "25/25 [==============================] - 0s 9ms/step - loss: 0.3060 - accuracy: 0.8869 - val_loss: 0.4354 - val_accuracy: 0.9086\n",
            "Epoch 7/20\n",
            "25/25 [==============================] - 0s 10ms/step - loss: 0.3091 - accuracy: 0.8831 - val_loss: 0.4100 - val_accuracy: 0.8985\n",
            "Epoch 8/20\n",
            "25/25 [==============================] - 0s 9ms/step - loss: 0.2914 - accuracy: 0.8996 - val_loss: 0.3843 - val_accuracy: 0.8934\n",
            "Epoch 9/20\n",
            "25/25 [==============================] - 0s 9ms/step - loss: 0.2290 - accuracy: 0.9174 - val_loss: 0.3569 - val_accuracy: 0.8883\n",
            "Epoch 10/20\n",
            "25/25 [==============================] - 0s 9ms/step - loss: 0.2552 - accuracy: 0.9111 - val_loss: 0.3308 - val_accuracy: 0.8934\n",
            "Epoch 11/20\n",
            "25/25 [==============================] - 0s 9ms/step - loss: 0.2438 - accuracy: 0.9034 - val_loss: 0.3045 - val_accuracy: 0.9086\n",
            "Epoch 12/20\n",
            "25/25 [==============================] - 0s 9ms/step - loss: 0.2430 - accuracy: 0.9072 - val_loss: 0.2879 - val_accuracy: 0.9086\n",
            "Epoch 13/20\n",
            "25/25 [==============================] - 0s 9ms/step - loss: 0.2406 - accuracy: 0.9199 - val_loss: 0.2680 - val_accuracy: 0.9137\n",
            "Epoch 14/20\n",
            "25/25 [==============================] - 0s 9ms/step - loss: 0.2504 - accuracy: 0.9314 - val_loss: 0.2505 - val_accuracy: 0.9137\n",
            "Epoch 15/20\n",
            "25/25 [==============================] - 0s 9ms/step - loss: 0.1888 - accuracy: 0.9301 - val_loss: 0.2392 - val_accuracy: 0.9137\n",
            "Epoch 16/20\n",
            "25/25 [==============================] - 0s 9ms/step - loss: 0.2206 - accuracy: 0.9225 - val_loss: 0.2343 - val_accuracy: 0.9137\n",
            "Epoch 17/20\n",
            "25/25 [==============================] - 0s 9ms/step - loss: 0.2388 - accuracy: 0.9212 - val_loss: 0.2305 - val_accuracy: 0.9137\n",
            "Epoch 18/20\n",
            "25/25 [==============================] - 0s 9ms/step - loss: 0.2272 - accuracy: 0.9314 - val_loss: 0.2232 - val_accuracy: 0.9188\n",
            "Epoch 19/20\n",
            "25/25 [==============================] - 0s 9ms/step - loss: 0.2236 - accuracy: 0.9263 - val_loss: 0.2199 - val_accuracy: 0.9137\n",
            "Epoch 20/20\n",
            "25/25 [==============================] - 0s 9ms/step - loss: 0.1905 - accuracy: 0.9314 - val_loss: 0.2176 - val_accuracy: 0.9137\n"
          ],
          "name": "stdout"
        }
      ]
    },
    {
      "cell_type": "code",
      "metadata": {
        "id": "4XE34RFDYxIH",
        "colab_type": "code",
        "colab": {}
      },
      "source": [
        "def plot_learningCurve(history, epochs):\n",
        "    epoch_range = range(1, epochs+1)\n",
        "    plt.plot(epoch_range, history.history['accuracy'])\n",
        "    plt.plot(epoch_range, history.history['val_accuracy'])\n",
        "    plt.title('Model Accuracy')\n",
        "    plt.show()\n",
        "\n",
        "    plt.plot(epoch_range, history.history['loss'])\n",
        "    plt.plot(epoch_range, history.history['val_loss'])\n",
        "    plt.title('Model Loss')\n",
        "    plt.show()"
      ],
      "execution_count": 0,
      "outputs": []
    },
    {
      "cell_type": "code",
      "metadata": {
        "id": "99PeFTmqa8uR",
        "colab_type": "code",
        "colab": {
          "base_uri": "https://localhost:8080/",
          "height": 545
        },
        "outputId": "2dd37d0d-7718-4b4d-92ef-e656f550c8a2"
      },
      "source": [
        "plot_learningCurve(history, 20)"
      ],
      "execution_count": 28,
      "outputs": [
        {
          "output_type": "display_data",
          "data": {
            "image/png": "[encoded data removed]",
            "text/plain": [
              "<Figure size 432x288 with 1 Axes>"
            ]
          },
          "metadata": {
            "tags": [],
            "needs_background": "light"
          }
        },
        {
          "output_type": "display_data",
          "data": {
            "image/png": "[encoded data removed]",
            "text/plain": [
              "<Figure size 432x288 with 1 Axes>"
            ]
          },
          "metadata": {
            "tags": [],
            "needs_background": "light"
          }
        }
      ]
    },
    {
      "cell_type": "markdown",
      "metadata": {
        "id": "2_XTJPh2bchz",
        "colab_type": "text"
      },
      "source": [
        "Adding Maxpool"
      ]
    },
    {
      "cell_type": "code",
      "metadata": {
        "id": "LSeGtpcQbGFl",
        "colab_type": "code",
        "colab": {
          "base_uri": "https://localhost:8080/",
          "height": 554
        },
        "outputId": "c8e80a22-e009-4906-ac71-5a18c4660662"
      },
      "source": [
        "epochs = 20\n",
        "model = Sequential()\n",
        "model.add(Conv1D(32, 2, activation='relu', input_shape=X_train[0].shape))\n",
        "model.add(BatchNormalization())\n",
        "model.add(MaxPool1D(2))\n",
        "model.add(Dropout(0.2))\n",
        "\n",
        "model.add(Conv1D(64, 2, activation='relu'))\n",
        "model.add(BatchNormalization())\n",
        "model.add(MaxPool1D(2))\n",
        "\n",
        "model.add(Dropout(0.5))\n",
        "\n",
        "model.add(Flatten())\n",
        "model.add(Dense(64, activation='relu'))\n",
        "model.add(Dropout(0.5))\n",
        "\n",
        "model.add(Dense(1, activation='sigmoid'))\n",
        "model.summary()"
      ],
      "execution_count": 32,
      "outputs": [
        {
          "output_type": "stream",
          "text": [
            "Model: \"sequential_3\"\n",
            "_________________________________________________________________\n",
            "Layer (type)                 Output Shape              Param #   \n",
            "=================================================================\n",
            "conv1d_6 (Conv1D)            (None, 28, 32)            96        \n",
            "_________________________________________________________________\n",
            "batch_normalization_6 (Batch (None, 28, 32)            128       \n",
            "_________________________________________________________________\n",
            "max_pooling1d_4 (MaxPooling1 (None, 14, 32)            0         \n",
            "_________________________________________________________________\n",
            "dropout_9 (Dropout)          (None, 14, 32)            0         \n",
            "_________________________________________________________________\n",
            "conv1d_7 (Conv1D)            (None, 13, 64)            4160      \n",
            "_________________________________________________________________\n",
            "batch_normalization_7 (Batch (None, 13, 64)            256       \n",
            "_________________________________________________________________\n",
            "max_pooling1d_5 (MaxPooling1 (None, 6, 64)             0         \n",
            "_________________________________________________________________\n",
            "dropout_10 (Dropout)         (None, 6, 64)             0         \n",
            "_________________________________________________________________\n",
            "flatten_3 (Flatten)          (None, 384)               0         \n",
            "_________________________________________________________________\n",
            "dense_6 (Dense)              (None, 64)                24640     \n",
            "_________________________________________________________________\n",
            "dropout_11 (Dropout)         (None, 64)                0         \n",
            "_________________________________________________________________\n",
            "dense_7 (Dense)              (None, 1)                 65        \n",
            "=================================================================\n",
            "Total params: 29,345\n",
            "Trainable params: 29,153\n",
            "Non-trainable params: 192\n",
            "_________________________________________________________________\n"
          ],
          "name": "stdout"
        }
      ]
    },
    {
      "cell_type": "code",
      "metadata": {
        "id": "a43pelW_bzar",
        "colab_type": "code",
        "colab": {
          "base_uri": "https://localhost:8080/",
          "height": 689
        },
        "outputId": "038b50cf-87da-4e1c-8e0c-26261f2d694b"
      },
      "source": [
        "model.compile(optimizer=Adam(lr = 0.0001), loss = 'binary_crossentropy', metrics = ['accuracy'])\n",
        "history = model.fit(X_train, y_train, epochs=epochs, validation_data=(X_test, y_test), verbose = 1)"
      ],
      "execution_count": 33,
      "outputs": [
        {
          "output_type": "stream",
          "text": [
            "Epoch 1/20\n",
            "25/25 [==============================] - 0s 11ms/step - loss: 1.5904 - accuracy: 0.4981 - val_loss: 0.6933 - val_accuracy: 0.5279\n",
            "Epoch 2/20\n",
            "25/25 [==============================] - 0s 6ms/step - loss: 1.3112 - accuracy: 0.5909 - val_loss: 0.6657 - val_accuracy: 0.6244\n",
            "Epoch 3/20\n",
            "25/25 [==============================] - 0s 7ms/step - loss: 0.9737 - accuracy: 0.6252 - val_loss: 0.6455 - val_accuracy: 0.6294\n",
            "Epoch 4/20\n",
            "25/25 [==============================] - 0s 6ms/step - loss: 0.7835 - accuracy: 0.6861 - val_loss: 0.6294 - val_accuracy: 0.6294\n",
            "Epoch 5/20\n",
            "25/25 [==============================] - 0s 6ms/step - loss: 0.6675 - accuracy: 0.7090 - val_loss: 0.6144 - val_accuracy: 0.6294\n",
            "Epoch 6/20\n",
            "25/25 [==============================] - 0s 6ms/step - loss: 0.6947 - accuracy: 0.7357 - val_loss: 0.5958 - val_accuracy: 0.6447\n",
            "Epoch 7/20\n",
            "25/25 [==============================] - 0s 6ms/step - loss: 0.5547 - accuracy: 0.7878 - val_loss: 0.5736 - val_accuracy: 0.6650\n",
            "Epoch 8/20\n",
            "25/25 [==============================] - 0s 6ms/step - loss: 0.5579 - accuracy: 0.7992 - val_loss: 0.5478 - val_accuracy: 0.6802\n",
            "Epoch 9/20\n",
            "25/25 [==============================] - 0s 7ms/step - loss: 0.5224 - accuracy: 0.8018 - val_loss: 0.5185 - val_accuracy: 0.7259\n",
            "Epoch 10/20\n",
            "25/25 [==============================] - 0s 7ms/step - loss: 0.4734 - accuracy: 0.8132 - val_loss: 0.4869 - val_accuracy: 0.7614\n",
            "Epoch 11/20\n",
            "25/25 [==============================] - 0s 6ms/step - loss: 0.4892 - accuracy: 0.8005 - val_loss: 0.4555 - val_accuracy: 0.7817\n",
            "Epoch 12/20\n",
            "25/25 [==============================] - 0s 6ms/step - loss: 0.4655 - accuracy: 0.8272 - val_loss: 0.4252 - val_accuracy: 0.8071\n",
            "Epoch 13/20\n",
            "25/25 [==============================] - 0s 7ms/step - loss: 0.4179 - accuracy: 0.8412 - val_loss: 0.3952 - val_accuracy: 0.8325\n",
            "Epoch 14/20\n",
            "25/25 [==============================] - 0s 7ms/step - loss: 0.3817 - accuracy: 0.8463 - val_loss: 0.3698 - val_accuracy: 0.8426\n",
            "Epoch 15/20\n",
            "25/25 [==============================] - 0s 7ms/step - loss: 0.3896 - accuracy: 0.8488 - val_loss: 0.3463 - val_accuracy: 0.8477\n",
            "Epoch 16/20\n",
            "25/25 [==============================] - 0s 6ms/step - loss: 0.3819 - accuracy: 0.8640 - val_loss: 0.3284 - val_accuracy: 0.8579\n",
            "Epoch 17/20\n",
            "25/25 [==============================] - 0s 7ms/step - loss: 0.3611 - accuracy: 0.8729 - val_loss: 0.3157 - val_accuracy: 0.8680\n",
            "Epoch 18/20\n",
            "25/25 [==============================] - 0s 7ms/step - loss: 0.4231 - accuracy: 0.8564 - val_loss: 0.3064 - val_accuracy: 0.8731\n",
            "Epoch 19/20\n",
            "25/25 [==============================] - 0s 6ms/step - loss: 0.3450 - accuracy: 0.8640 - val_loss: 0.2981 - val_accuracy: 0.8731\n",
            "Epoch 20/20\n",
            "25/25 [==============================] - 0s 7ms/step - loss: 0.3252 - accuracy: 0.8742 - val_loss: 0.2898 - val_accuracy: 0.8782\n"
          ],
          "name": "stdout"
        }
      ]
    },
    {
      "cell_type": "code",
      "metadata": {
        "id": "sJ7Nv6_DbmPD",
        "colab_type": "code",
        "colab": {
          "base_uri": "https://localhost:8080/",
          "height": 545
        },
        "outputId": "307b24dd-6ab7-4c59-e6da-fdfba302c68e"
      },
      "source": [
        "plot_learningCurve(history, 20)"
      ],
      "execution_count": 34,
      "outputs": [
        {
          "output_type": "display_data",
          "data": {
            "image/png": "[encoded data removed]",
            "text/plain": [
              "<Figure size 432x288 with 1 Axes>"
            ]
          },
          "metadata": {
            "tags": [],
            "needs_background": "light"
          }
        },
        {
          "output_type": "display_data",
          "data": {
            "image/png": "[encoded data removed]",
            "text/plain": [
              "<Figure size 432x288 with 1 Axes>"
            ]
          },
          "metadata": {
            "tags": [],
            "needs_background": "light"
          }
        }
      ]
    },
    {
      "cell_type": "markdown",
      "metadata": {
        "id": "qRdC9HkTjfTk",
        "colab_type": "text"
      },
      "source": [
        "WITHOUT DATA BALANCING"
      ]
    },
    {
      "cell_type": "code",
      "metadata": {
        "id": "_RsUqhxWcERY",
        "colab_type": "code",
        "colab": {}
      },
      "source": [
        "X = credit_data.drop('Class', axis = 1)\n",
        "y = credit_data['Class']"
      ],
      "execution_count": 0,
      "outputs": []
    },
    {
      "cell_type": "code",
      "metadata": {
        "id": "kBWDdQaLj5Ra",
        "colab_type": "code",
        "colab": {}
      },
      "source": [
        "X_train, X_test, y_train, y_test = train_test_split(X, y, test_size=0.2, random_state=0, stratify = y)\n"
      ],
      "execution_count": 0,
      "outputs": []
    },
    {
      "cell_type": "code",
      "metadata": {
        "id": "2fWcp64uj9Aq",
        "colab_type": "code",
        "colab": {
          "base_uri": "https://localhost:8080/",
          "height": 34
        },
        "outputId": "21be027e-98b1-4578-a01a-6b2a902ad1b5"
      },
      "source": [
        "X_train.shape, X_test.shape"
      ],
      "execution_count": 53,
      "outputs": [
        {
          "output_type": "execute_result",
          "data": {
            "text/plain": [
              "((227845, 29), (56962, 29))"
            ]
          },
          "metadata": {
            "tags": []
          },
          "execution_count": 53
        }
      ]
    },
    {
      "cell_type": "code",
      "metadata": {
        "id": "k7BHfkdrkD44",
        "colab_type": "code",
        "colab": {}
      },
      "source": [
        "scaler = StandardScaler()\n",
        "X_train = scaler.fit_transform(X_train)\n",
        "X_test = scaler.transform(X_test)"
      ],
      "execution_count": 0,
      "outputs": []
    },
    {
      "cell_type": "code",
      "metadata": {
        "id": "USuJJv9bkFXv",
        "colab_type": "code",
        "colab": {}
      },
      "source": [
        "y_train = y_train.to_numpy()\n",
        "y_test = y_test.to_numpy()"
      ],
      "execution_count": 0,
      "outputs": []
    },
    {
      "cell_type": "code",
      "metadata": {
        "id": "-lTHejeukN27",
        "colab_type": "code",
        "colab": {}
      },
      "source": [
        "X_train = X_train.reshape(X_train.shape[0], X_train.shape[1], 1)  #ONLY for CNN Models\n",
        "X_test = X_test.reshape(X_test.shape[0], X_test.shape[1], 1)"
      ],
      "execution_count": 0,
      "outputs": []
    },
    {
      "cell_type": "code",
      "metadata": {
        "id": "5KXB9RmlkS11",
        "colab_type": "code",
        "colab": {
          "base_uri": "https://localhost:8080/",
          "height": 689
        },
        "outputId": "0336de1b-f403-474a-fb9f-e3bcdb034089"
      },
      "source": [
        "hist2 = model.fit(X_train, y_train, epochs=epochs, validation_data=(X_test, y_test), verbose = 1)"
      ],
      "execution_count": 47,
      "outputs": [
        {
          "output_type": "stream",
          "text": [
            "Epoch 1/20\n",
            "7121/7121 [==============================] - 34s 5ms/step - loss: 0.0331 - accuracy: 0.9921 - val_loss: 0.0087 - val_accuracy: 0.9992\n",
            "Epoch 2/20\n",
            "7121/7121 [==============================] - 33s 5ms/step - loss: 0.0073 - accuracy: 0.9990 - val_loss: 0.0060 - val_accuracy: 0.9993\n",
            "Epoch 3/20\n",
            "7121/7121 [==============================] - 33s 5ms/step - loss: 0.0060 - accuracy: 0.9991 - val_loss: 0.0062 - val_accuracy: 0.9993\n",
            "Epoch 4/20\n",
            "7121/7121 [==============================] - 34s 5ms/step - loss: 0.0057 - accuracy: 0.9992 - val_loss: 0.0048 - val_accuracy: 0.9993\n",
            "Epoch 5/20\n",
            "7121/7121 [==============================] - 33s 5ms/step - loss: 0.0053 - accuracy: 0.9992 - val_loss: 0.0049 - val_accuracy: 0.9993\n",
            "Epoch 6/20\n",
            "7121/7121 [==============================] - 33s 5ms/step - loss: 0.0052 - accuracy: 0.9992 - val_loss: 0.0041 - val_accuracy: 0.9993\n",
            "Epoch 7/20\n",
            "7121/7121 [==============================] - 33s 5ms/step - loss: 0.0049 - accuracy: 0.9993 - val_loss: 0.0042 - val_accuracy: 0.9993\n",
            "Epoch 8/20\n",
            "7121/7121 [==============================] - 33s 5ms/step - loss: 0.0044 - accuracy: 0.9993 - val_loss: 0.0038 - val_accuracy: 0.9993\n",
            "Epoch 9/20\n",
            "7121/7121 [==============================] - 33s 5ms/step - loss: 0.0047 - accuracy: 0.9993 - val_loss: 0.0038 - val_accuracy: 0.9993\n",
            "Epoch 10/20\n",
            "7121/7121 [==============================] - 33s 5ms/step - loss: 0.0044 - accuracy: 0.9993 - val_loss: 0.0040 - val_accuracy: 0.9993\n",
            "Epoch 11/20\n",
            "7121/7121 [==============================] - 33s 5ms/step - loss: 0.0040 - accuracy: 0.9993 - val_loss: 0.0041 - val_accuracy: 0.9993\n",
            "Epoch 12/20\n",
            "7121/7121 [==============================] - 36s 5ms/step - loss: 0.0042 - accuracy: 0.9993 - val_loss: 0.0038 - val_accuracy: 0.9993\n",
            "Epoch 13/20\n",
            "7121/7121 [==============================] - 34s 5ms/step - loss: 0.0039 - accuracy: 0.9994 - val_loss: 0.0040 - val_accuracy: 0.9993\n",
            "Epoch 14/20\n",
            "7121/7121 [==============================] - 34s 5ms/step - loss: 0.0040 - accuracy: 0.9994 - val_loss: 0.0036 - val_accuracy: 0.9993\n",
            "Epoch 15/20\n",
            "7121/7121 [==============================] - 33s 5ms/step - loss: 0.0040 - accuracy: 0.9994 - val_loss: 0.0036 - val_accuracy: 0.9993\n",
            "Epoch 16/20\n",
            "7121/7121 [==============================] - 33s 5ms/step - loss: 0.0036 - accuracy: 0.9994 - val_loss: 0.0037 - val_accuracy: 0.9993\n",
            "Epoch 17/20\n",
            "7121/7121 [==============================] - 33s 5ms/step - loss: 0.0038 - accuracy: 0.9993 - val_loss: 0.0035 - val_accuracy: 0.9993\n",
            "Epoch 18/20\n",
            "7121/7121 [==============================] - 33s 5ms/step - loss: 0.0037 - accuracy: 0.9994 - val_loss: 0.0034 - val_accuracy: 0.9993\n",
            "Epoch 19/20\n",
            "7121/7121 [==============================] - 33s 5ms/step - loss: 0.0036 - accuracy: 0.9994 - val_loss: 0.0032 - val_accuracy: 0.9994\n",
            "Epoch 20/20\n",
            "7121/7121 [==============================] - 33s 5ms/step - loss: 0.0035 - accuracy: 0.9994 - val_loss: 0.0032 - val_accuracy: 0.9994\n"
          ],
          "name": "stdout"
        }
      ]
    },
    {
      "cell_type": "markdown",
      "metadata": {
        "id": "e9oF2COflYQP",
        "colab_type": "text"
      },
      "source": [
        "Encoder Model"
      ]
    },
    {
      "cell_type": "code",
      "metadata": {
        "id": "G9le3xhBkaHt",
        "colab_type": "code",
        "colab": {}
      },
      "source": [
        "layer_input = Input(shape= 29)\n",
        "layer_encoder = Dense(14, activation=\"tanh\",  activity_regularizer=regularizers.l1(10e-5))(layer_input)\n",
        "\n",
        "layer_encoder = Dense(int(14 / 2), activation=\"relu\")(layer_encoder)\n",
        "layer_decoder = Dense(int(14 / 2), activation='tanh')(layer_encoder)\n",
        "layer_decoder = Dense(29, activation='relu')(layer_decoder)\n",
        "autoencoder = Model(inputs=layer_input, outputs=layer_decoder)"
      ],
      "execution_count": 0,
      "outputs": []
    },
    {
      "cell_type": "code",
      "metadata": {
        "id": "tc0A5pkQnaGz",
        "colab_type": "code",
        "colab": {
          "base_uri": "https://localhost:8080/",
          "height": 34
        },
        "outputId": "7fd9707a-f661-444e-ccaf-33e965681386"
      },
      "source": [
        "X_train.shape"
      ],
      "execution_count": 64,
      "outputs": [
        {
          "output_type": "execute_result",
          "data": {
            "text/plain": [
              "(227845, 29)"
            ]
          },
          "metadata": {
            "tags": []
          },
          "execution_count": 64
        }
      ]
    },
    {
      "cell_type": "code",
      "metadata": {
        "id": "b2g5uMT3mdov",
        "colab_type": "code",
        "colab": {}
      },
      "source": [
        "autoencoder.compile(optimizer='adam', loss='mean_squared_error', metrics=['accuracy'])"
      ],
      "execution_count": 0,
      "outputs": []
    },
    {
      "cell_type": "code",
      "metadata": {
        "id": "PLohEjTlm0mr",
        "colab_type": "code",
        "colab": {
          "base_uri": "https://localhost:8080/",
          "height": 689
        },
        "outputId": "f9b0f365-e99e-4aac-e79b-018b90be138c"
      },
      "source": [
        "history = autoencoder.fit(X_train, y_train, epochs=20, batch_size=32,  shuffle=True, validation_data=(X_test, y_test), verbose=1)"
      ],
      "execution_count": 66,
      "outputs": [
        {
          "output_type": "stream",
          "text": [
            "Epoch 1/20\n",
            "7121/7121 [==============================] - 12s 2ms/step - loss: 0.0014 - accuracy: 0.9314 - val_loss: 9.4213e-04 - val_accuracy: 0.9980\n",
            "Epoch 2/20\n",
            "7121/7121 [==============================] - 12s 2ms/step - loss: 9.1623e-04 - accuracy: 0.9975 - val_loss: 9.4044e-04 - val_accuracy: 0.9980\n",
            "Epoch 3/20\n",
            "7121/7121 [==============================] - 12s 2ms/step - loss: 9.1123e-04 - accuracy: 0.9979 - val_loss: 9.7747e-04 - val_accuracy: 0.9978\n",
            "Epoch 4/20\n",
            "7121/7121 [==============================] - 12s 2ms/step - loss: 9.1498e-04 - accuracy: 0.9979 - val_loss: 9.3761e-04 - val_accuracy: 0.9980\n",
            "Epoch 5/20\n",
            "7121/7121 [==============================] - 12s 2ms/step - loss: 9.1116e-04 - accuracy: 0.9979 - val_loss: 9.3974e-04 - val_accuracy: 0.9980\n",
            "Epoch 6/20\n",
            "7121/7121 [==============================] - 12s 2ms/step - loss: 9.1405e-04 - accuracy: 0.9979 - val_loss: 9.9683e-04 - val_accuracy: 0.9980\n",
            "Epoch 7/20\n",
            "7121/7121 [==============================] - 12s 2ms/step - loss: 9.0342e-04 - accuracy: 0.9980 - val_loss: 8.7263e-04 - val_accuracy: 0.9980\n",
            "Epoch 8/20\n",
            "7121/7121 [==============================] - 12s 2ms/step - loss: 8.6580e-04 - accuracy: 0.9981 - val_loss: 8.3847e-04 - val_accuracy: 0.9978\n",
            "Epoch 9/20\n",
            "7121/7121 [==============================] - 11s 2ms/step - loss: 7.9166e-04 - accuracy: 0.9981 - val_loss: 8.3264e-04 - val_accuracy: 0.9981\n",
            "Epoch 10/20\n",
            "7121/7121 [==============================] - 11s 2ms/step - loss: 7.8703e-04 - accuracy: 0.9981 - val_loss: 8.3543e-04 - val_accuracy: 0.9981\n",
            "Epoch 11/20\n",
            "7121/7121 [==============================] - 12s 2ms/step - loss: 0.0012 - accuracy: 0.9981 - val_loss: 0.0017 - val_accuracy: 0.9983\n",
            "Epoch 12/20\n",
            "7121/7121 [==============================] - 12s 2ms/step - loss: 0.0017 - accuracy: 0.9983 - val_loss: 0.0017 - val_accuracy: 0.9983\n",
            "Epoch 13/20\n",
            "7121/7121 [==============================] - 11s 2ms/step - loss: 0.0017 - accuracy: 0.9983 - val_loss: 0.0017 - val_accuracy: 0.9983\n",
            "Epoch 14/20\n",
            "7121/7121 [==============================] - 11s 2ms/step - loss: 0.0017 - accuracy: 0.9983 - val_loss: 0.0017 - val_accuracy: 0.9983\n",
            "Epoch 15/20\n",
            "7121/7121 [==============================] - 12s 2ms/step - loss: 0.0017 - accuracy: 0.9983 - val_loss: 0.0017 - val_accuracy: 0.9983\n",
            "Epoch 16/20\n",
            "7121/7121 [==============================] - 12s 2ms/step - loss: 0.0017 - accuracy: 0.9983 - val_loss: 0.0017 - val_accuracy: 0.9983\n",
            "Epoch 17/20\n",
            "7121/7121 [==============================] - 11s 2ms/step - loss: 0.0017 - accuracy: 0.9983 - val_loss: 0.0017 - val_accuracy: 0.9983\n",
            "Epoch 18/20\n",
            "7121/7121 [==============================] - 12s 2ms/step - loss: 0.0017 - accuracy: 0.9983 - val_loss: 0.0017 - val_accuracy: 0.9983\n",
            "Epoch 19/20\n",
            "7121/7121 [==============================] - 12s 2ms/step - loss: 0.0017 - accuracy: 0.9983 - val_loss: 0.0017 - val_accuracy: 0.9983\n",
            "Epoch 20/20\n",
            "7121/7121 [==============================] - 12s 2ms/step - loss: 0.0017 - accuracy: 0.9983 - val_loss: 0.0017 - val_accuracy: 0.9983\n"
          ],
          "name": "stdout"
        }
      ]
    },
    {
      "cell_type": "code",
      "metadata": {
        "id": "LL8USncdoZWq",
        "colab_type": "code",
        "colab": {}
      },
      "source": [
        "#TODO Check against Kaggle Leaderboard"
      ],
      "execution_count": 0,
      "outputs": []
    }
  ]
}