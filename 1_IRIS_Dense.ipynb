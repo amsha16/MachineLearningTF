{
  "nbformat": 4,
  "nbformat_minor": 0,
  "metadata": {
    "colab": {
      "name": "1 IRIS_Dense.ipynb",
      "provenance": [],
      "collapsed_sections": [],
      "authorship_tag": "ABX9TyOiuU7uwQnS/CAQUgBzZQ18",
      "include_colab_link": true
    },
    "kernelspec": {
      "name": "python3",
      "display_name": "Python 3"
    },
    "accelerator": "GPU"
  },
  "cells": [
    {
      "cell_type": "markdown",
      "metadata": {
        "id": "view-in-github",
        "colab_type": "text"
      },
      "source": [
        "<a href=\"https://colab.research.google.com/github/amsha16/MachineLearningTF/blob/master/1_IRIS_Dense.ipynb\" target=\"_parent\"><img src=\"https://colab.research.google.com/assets/colab-badge.svg\" alt=\"Open In Colab\"/></a>"
      ]
    },
    {
      "cell_type": "markdown",
      "metadata": {
        "id": "sGFUNR3rFg41",
        "colab_type": "text"
      },
      "source": [
        "Base Imports"
      ]
    },
    {
      "cell_type": "code",
      "metadata": {
        "id": "0Vss3ALWFXBQ",
        "colab_type": "code",
        "colab": {}
      },
      "source": [
        "import os\n",
        "import matplotlib.pyplot as plt\n",
        "import tensorflow as tf\n",
        "from tensorflow.keras import Sequential\n",
        "from tensorflow.keras.layers import Dense"
      ],
      "execution_count": 0,
      "outputs": []
    },
    {
      "cell_type": "code",
      "metadata": {
        "id": "VHaU9pVzFk4b",
        "colab_type": "code",
        "colab": {
          "base_uri": "https://localhost:8080/",
          "height": 34
        },
        "outputId": "b6802a37-f7c6-4fc0-d16e-2d2ea0a433be"
      },
      "source": [
        "print(tf.__version__)"
      ],
      "execution_count": 2,
      "outputs": [
        {
          "output_type": "stream",
          "text": [
            "2.2.0\n"
          ],
          "name": "stdout"
        }
      ]
    },
    {
      "cell_type": "markdown",
      "metadata": {
        "id": "Z3raRAzgFt4e",
        "colab_type": "text"
      },
      "source": [
        "Import and parse IRIS Dataset"
      ]
    },
    {
      "cell_type": "code",
      "metadata": {
        "id": "VaEsjhE_Fp2i",
        "colab_type": "code",
        "colab": {
          "base_uri": "https://localhost:8080/",
          "height": 50
        },
        "outputId": "aa95eef7-e64a-4d91-ab14-bf92ce660d79"
      },
      "source": [
        "train_dataset_url = \"https://storage.googleapis.com/download.tensorflow.org/data/iris_training.csv\"\n",
        "train_dataset_fp = tf.keras.utils.get_file(fname=os.path.basename(train_dataset_url), origin=train_dataset_url)\n"
      ],
      "execution_count": 3,
      "outputs": [
        {
          "output_type": "stream",
          "text": [
            "Downloading data from https://storage.googleapis.com/download.tensorflow.org/data/iris_training.csv\n",
            "\r8192/2194 [================================================================================================================] - 0s 0us/step\n"
          ],
          "name": "stdout"
        }
      ]
    },
    {
      "cell_type": "markdown",
      "metadata": {
        "id": "qsDAx0d8GAPg",
        "colab_type": "text"
      },
      "source": [
        "###Check data"
      ]
    },
    {
      "cell_type": "markdown",
      "metadata": {
        "id": "kaocAueOGrYJ",
        "colab_type": "text"
      },
      "source": [
        "\n",
        "The first four fields are features: these are the characteristics of an example. Here, the fields hold float numbers representing flower measurements.\n",
        "\n",
        "The last column is the label: this is the value we want to predict. For this dataset, it's an integer value of 0, 1, or 2 that corresponds to a flower name.\n",
        "    \n",
        "*   0: Iris setosa\n",
        "*   1: Iris versicolor\n",
        "*   2: Iris virginica "
      ]
    },
    {
      "cell_type": "code",
      "metadata": {
        "id": "B3Qmi1XiF7N7",
        "colab_type": "code",
        "colab": {
          "base_uri": "https://localhost:8080/",
          "height": 185
        },
        "outputId": "5aefa0ad-64ed-4962-dfea-e6ce1902f319"
      },
      "source": [
        "!head -n10 {train_dataset_fp}"
      ],
      "execution_count": 13,
      "outputs": [
        {
          "output_type": "stream",
          "text": [
            "120,4,setosa,versicolor,virginica\n",
            "6.4,2.8,5.6,2.2,2\n",
            "5.0,2.3,3.3,1.0,1\n",
            "4.9,2.5,4.5,1.7,2\n",
            "4.9,3.1,1.5,0.1,0\n",
            "5.7,3.8,1.7,0.3,0\n",
            "4.4,3.2,1.3,0.2,0\n",
            "5.4,3.4,1.5,0.4,0\n",
            "6.9,3.1,5.1,2.3,2\n",
            "6.7,3.1,4.4,1.4,1\n"
          ],
          "name": "stdout"
        }
      ]
    },
    {
      "cell_type": "code",
      "metadata": {
        "id": "pTSJObyVGEPp",
        "colab_type": "code",
        "colab": {}
      },
      "source": [
        "column_names = ['sepal_length', 'sepal_width', 'petal_length', 'petal_width', 'species']\n",
        "feature_names = column_names[:-1]\n",
        "label_name = column_names[-1]"
      ],
      "execution_count": 0,
      "outputs": []
    },
    {
      "cell_type": "code",
      "metadata": {
        "id": "HQbKAx9TG5lS",
        "colab_type": "code",
        "colab": {
          "base_uri": "https://localhost:8080/",
          "height": 50
        },
        "outputId": "ee1f6a71-96c8-45f6-cc15-0a9388d4f43d"
      },
      "source": [
        "print(\"Features: {}\".format(feature_names))\n",
        "print(\"Label: {}\".format(label_name))"
      ],
      "execution_count": 16,
      "outputs": [
        {
          "output_type": "stream",
          "text": [
            "Features: ['sepal_length', 'sepal_width', 'petal_length', 'petal_width']\n",
            "Label: species\n"
          ],
          "name": "stdout"
        }
      ]
    },
    {
      "cell_type": "code",
      "metadata": {
        "id": "9Y4vinzlG6Bj",
        "colab_type": "code",
        "colab": {}
      },
      "source": [
        "class_names = ['Iris setosa', 'Iris versicolor', 'Iris virginica']"
      ],
      "execution_count": 0,
      "outputs": []
    },
    {
      "cell_type": "markdown",
      "metadata": {
        "id": "HZGnH8yBHiTl",
        "colab_type": "text"
      },
      "source": [
        "###Creating Dataset\n",
        "Default behavior is to shuffle the data (shuffle=True, huffle_buffer_size=10000), and repeat the dataset forever (num_epochs=None)!"
      ]
    },
    {
      "cell_type": "code",
      "metadata": {
        "id": "2yo4e-GyHfFz",
        "colab_type": "code",
        "colab": {}
      },
      "source": [
        "batch_size = 32\n",
        "train_dataset = tf.data.experimental.make_csv_dataset(train_dataset_fp, batch_size,\n",
        "    column_names=column_names,\n",
        "    label_name=label_name,\n",
        "    num_epochs=1)"
      ],
      "execution_count": 0,
      "outputs": []
    },
    {
      "cell_type": "markdown",
      "metadata": {
        "id": "vpl0V7dHJxbj",
        "colab_type": "text"
      },
      "source": [
        ""
      ]
    },
    {
      "cell_type": "markdown",
      "metadata": {
        "id": "sixxVOocJ0Wz",
        "colab_type": "text"
      },
      "source": [
        "Here is a batch of features"
      ]
    },
    {
      "cell_type": "code",
      "metadata": {
        "id": "mFGbqvplH1Fr",
        "colab_type": "code",
        "colab": {
          "base_uri": "https://localhost:8080/",
          "height": 252
        },
        "outputId": "4cdb9f05-bf59-42cf-d8e7-ec9fa7dabe7d"
      },
      "source": [
        "features, labels = next(iter(train_dataset))\n",
        "print(features)\n",
        "print(labels)"
      ],
      "execution_count": 20,
      "outputs": [
        {
          "output_type": "stream",
          "text": [
            "OrderedDict([('sepal_length', <tf.Tensor: shape=(32,), dtype=float32, numpy=\n",
            "array([6.1, 5. , 5.1, 5.7, 6.1, 4.9, 6.3, 5.5, 4.6, 5. , 4.8, 6.1, 5.4,\n",
            "       6.3, 4.6, 4.9, 7.7, 6.8, 7.2, 4.9, 4.8, 6.3, 6.3, 6.7, 5. , 6.9,\n",
            "       4.5, 7.7, 4.9, 4.8, 5.6, 5.8], dtype=float32)>), ('sepal_width', <tf.Tensor: shape=(32,), dtype=float32, numpy=\n",
            "array([2.8, 2.3, 3.7, 3. , 3. , 3.1, 3.3, 2.6, 3.6, 3.2, 3. , 2.9, 3.9,\n",
            "       2.7, 3.1, 2.4, 2.8, 3.2, 3.2, 2.5, 3.4, 3.4, 3.3, 3.1, 3.4, 3.1,\n",
            "       2.3, 3. , 3.1, 3. , 2.9, 2.8], dtype=float32)>), ('petal_length', <tf.Tensor: shape=(32,), dtype=float32, numpy=\n",
            "array([4. , 3.3, 1.5, 4.2, 4.9, 1.5, 4.7, 4.4, 1. , 1.2, 1.4, 4.7, 1.7,\n",
            "       4.9, 1.5, 3.3, 6.7, 5.9, 6. , 4.5, 1.6, 5.6, 6. , 4.4, 1.6, 5.1,\n",
            "       1.3, 6.1, 1.5, 1.4, 3.6, 5.1], dtype=float32)>), ('petal_width', <tf.Tensor: shape=(32,), dtype=float32, numpy=\n",
            "array([1.3, 1. , 0.4, 1.2, 1.8, 0.1, 1.6, 1.2, 0.2, 0.2, 0.1, 1.4, 0.4,\n",
            "       1.8, 0.2, 1. , 2. , 2.3, 1.8, 1.7, 0.2, 2.4, 2.5, 1.4, 0.4, 2.3,\n",
            "       0.3, 2.3, 0.1, 0.3, 1.3, 2.4], dtype=float32)>)])\n",
            "tf.Tensor([1 1 0 1 2 0 1 1 0 0 0 1 0 2 0 1 2 2 2 2 0 2 2 1 0 2 0 2 0 0 1 2], shape=(32,), dtype=int32)\n"
          ],
          "name": "stdout"
        }
      ]
    },
    {
      "cell_type": "code",
      "metadata": {
        "id": "C58fFeflJvDj",
        "colab_type": "code",
        "colab": {
          "base_uri": "https://localhost:8080/",
          "height": 279
        },
        "outputId": "c3031761-490c-4ebb-d2e0-e50b9fb88c1b"
      },
      "source": [
        "plt.scatter(features['petal_length'],\n",
        "            features['sepal_length'],\n",
        "            c=labels,\n",
        "            cmap='viridis')\n",
        "\n",
        "plt.xlabel(\"Petal length\")\n",
        "plt.ylabel(\"Sepal length\")\n",
        "plt.show()"
      ],
      "execution_count": 21,
      "outputs": [
        {
          "output_type": "display_data",
          "data": {
            "image/png": "[encoded data removed]",
            "text/plain": [
              "<Figure size 432x288 with 1 Axes>"
            ]
          },
          "metadata": {
            "tags": [],
            "needs_background": "light"
          }
        }
      ]
    },
    {
      "cell_type": "markdown",
      "metadata": {
        "id": "tMcY7_ZbKvFf",
        "colab_type": "text"
      },
      "source": [
        "Below is a function to repackage the features dictionary into a single array with shape: (batch_size, num_features)"
      ]
    },
    {
      "cell_type": "code",
      "metadata": {
        "id": "DHaSDwDWKLAD",
        "colab_type": "code",
        "colab": {}
      },
      "source": [
        "def pack_features_vector(features, labels):\n",
        "  \"\"\"Pack the features into a single array.\"\"\"\n",
        "  features = tf.stack(list(features.values()), axis=1)\n",
        "  return features, labels"
      ],
      "execution_count": 0,
      "outputs": []
    },
    {
      "cell_type": "markdown",
      "metadata": {
        "id": "i8AwCJfYK18o",
        "colab_type": "text"
      },
      "source": [
        "Call the OOTB Map method to pack pairs of features and labels"
      ]
    },
    {
      "cell_type": "code",
      "metadata": {
        "id": "iyWTJtxHKxvu",
        "colab_type": "code",
        "colab": {}
      },
      "source": [
        "train_dataset = train_dataset.map(pack_features_vector)"
      ],
      "execution_count": 0,
      "outputs": []
    },
    {
      "cell_type": "code",
      "metadata": {
        "id": "o8BlGo2aK_UC",
        "colab_type": "code",
        "colab": {
          "base_uri": "https://localhost:8080/",
          "height": 218
        },
        "outputId": "75bcbb7a-1de0-417d-d8d5-743ff167bf2f"
      },
      "source": [
        "features, labels = next(iter(train_dataset))\n",
        "print(features[:10])\n",
        "print(labels[:10])"
      ],
      "execution_count": 25,
      "outputs": [
        {
          "output_type": "stream",
          "text": [
            "tf.Tensor(\n",
            "[[6.1 2.6 5.6 1.4]\n",
            " [6.3 2.7 4.9 1.8]\n",
            " [5.9 3.  5.1 1.8]\n",
            " [5.8 4.  1.2 0.2]\n",
            " [4.8 3.  1.4 0.3]\n",
            " [5.7 4.4 1.5 0.4]\n",
            " [5.6 2.5 3.9 1.1]\n",
            " [6.4 3.1 5.5 1.8]\n",
            " [5.5 2.4 3.8 1.1]\n",
            " [6.2 2.2 4.5 1.5]], shape=(10, 4), dtype=float32)\n",
            "tf.Tensor([2 2 2 0 0 0 1 2 1 1], shape=(10,), dtype=int32)\n"
          ],
          "name": "stdout"
        }
      ]
    },
    {
      "cell_type": "markdown",
      "metadata": {
        "id": "KsgFkzLXLS1t",
        "colab_type": "text"
      },
      "source": [
        "Choose a Model"
      ]
    },
    {
      "cell_type": "code",
      "metadata": {
        "id": "5ehn92jJLGkb",
        "colab_type": "code",
        "colab": {}
      },
      "source": [
        "model = Sequential()\n",
        "model.add(Dense(10, activation='relu', input_shape=(4,)))\n",
        "model.add(Dense(10, activation ='relu'))\n",
        "model.add(Dense(3))"
      ],
      "execution_count": 0,
      "outputs": []
    },
    {
      "cell_type": "markdown",
      "metadata": {
        "id": "yl_itpmKMEGd",
        "colab_type": "text"
      },
      "source": [
        "Let's have a quick look at what this model does to a batch of features-\n",
        "Notice that, each example returns a logit for each class"
      ]
    },
    {
      "cell_type": "code",
      "metadata": {
        "id": "jyxrOwCPL-EI",
        "colab_type": "code",
        "colab": {
          "base_uri": "https://localhost:8080/",
          "height": 118
        },
        "outputId": "21d02ddc-c17a-48db-ca28-bb38593d8481"
      },
      "source": [
        "predictions = model(features)\n",
        "predictions[:5]"
      ],
      "execution_count": 29,
      "outputs": [
        {
          "output_type": "execute_result",
          "data": {
            "text/plain": [
              "<tf.Tensor: shape=(5, 3), dtype=float32, numpy=\n",
              "array([[ 0.15616804, -0.00290386,  0.4226241 ],\n",
              "       [ 0.11934564, -0.01112357,  0.50094557],\n",
              "       [ 0.20380859,  0.01480029,  0.35050026],\n",
              "       [-0.35132346,  0.04139806,  1.2130456 ],\n",
              "       [-0.25548413,  0.00736232,  0.9429316 ]], dtype=float32)>"
            ]
          },
          "metadata": {
            "tags": []
          },
          "execution_count": 29
        }
      ]
    },
    {
      "cell_type": "markdown",
      "metadata": {
        "id": "_vw-cT7TMhjN",
        "colab_type": "text"
      },
      "source": [
        "To convert these logits to a probability for each class, use the softmax function"
      ]
    },
    {
      "cell_type": "code",
      "metadata": {
        "id": "4mLvPGLxMEpw",
        "colab_type": "code",
        "colab": {
          "base_uri": "https://localhost:8080/",
          "height": 118
        },
        "outputId": "4c4f7a1f-e217-49a5-e7cd-e4721bbb4107"
      },
      "source": [
        "tf.nn.softmax(predictions[:5])"
      ],
      "execution_count": 30,
      "outputs": [
        {
          "output_type": "execute_result",
          "data": {
            "text/plain": [
              "<tf.Tensor: shape=(5, 3), dtype=float32, numpy=\n",
              "array([[0.31662953, 0.27006438, 0.41330606],\n",
              "       [0.2991943 , 0.26259792, 0.43820778],\n",
              "       [0.33492124, 0.277241  , 0.38783777],\n",
              "       [0.13772844, 0.20397665, 0.6582949 ],\n",
              "       [0.1780789 , 0.23161423, 0.5903069 ]], dtype=float32)>"
            ]
          },
          "metadata": {
            "tags": []
          },
          "execution_count": 30
        }
      ]
    },
    {
      "cell_type": "markdown",
      "metadata": {
        "id": "DMpTy065Msig",
        "colab_type": "text"
      },
      "source": [
        "Using the tf.argmax across classes gives the predicted class index. "
      ]
    },
    {
      "cell_type": "code",
      "metadata": {
        "id": "_p7xg65FMj_9",
        "colab_type": "code",
        "colab": {
          "base_uri": "https://localhost:8080/",
          "height": 50
        },
        "outputId": "19868ac0-b8e0-4764-8d56-088128ac5c34"
      },
      "source": [
        "print(\"Prediction: {}\".format(tf.argmax(predictions, axis=1)))\n",
        "print(\"    Labels: {}\".format(labels))"
      ],
      "execution_count": 31,
      "outputs": [
        {
          "output_type": "stream",
          "text": [
            "Prediction: [2 2 2 2 2 2 2 2 2 2 2 2 2 2 2 2 2 2 2 2 2 2 2 2 2 2 2 2 2 2 0 2]\n",
            "    Labels: [2 2 2 0 0 0 1 2 1 1 0 1 2 0 1 0 1 2 1 2 0 1 1 2 1 1 2 0 1 0 2 1]\n"
          ],
          "name": "stdout"
        }
      ]
    },
    {
      "cell_type": "markdown",
      "metadata": {
        "id": "thOYeuALM0iX",
        "colab_type": "text"
      },
      "source": [
        "##Training the model"
      ]
    },
    {
      "cell_type": "markdown",
      "metadata": {
        "id": "DaTelnXXNAwx",
        "colab_type": "text"
      },
      "source": [
        "Define the loss and gradient function"
      ]
    },
    {
      "cell_type": "code",
      "metadata": {
        "id": "eeaHl1XfMyy6",
        "colab_type": "code",
        "colab": {}
      },
      "source": [
        "loss_object = tf.keras.losses.SparseCategoricalCrossentropy(from_logits=True)"
      ],
      "execution_count": 0,
      "outputs": []
    },
    {
      "cell_type": "code",
      "metadata": {
        "id": "UDIlN8pkN_oS",
        "colab_type": "code",
        "colab": {
          "base_uri": "https://localhost:8080/",
          "height": 34
        },
        "outputId": "14626eec-4354-48b1-ff2a-1c53bbab1d31"
      },
      "source": [
        "def loss(model, x, y, training):\n",
        "  # training=training is needed only if there are layers with different\n",
        "  # behavior during training versus inference (e.g. Dropout).\n",
        "  y_ = model(x, training=training)\n",
        "\n",
        "  return loss_object(y_true=y, y_pred=y_)\n",
        "\n",
        "\n",
        "l = loss(model, features, labels, training=False)\n",
        "print(\"Loss test: {}\".format(l))\n"
      ],
      "execution_count": 34,
      "outputs": [
        {
          "output_type": "stream",
          "text": [
            "Loss test: 1.3460947275161743\n"
          ],
          "name": "stdout"
        }
      ]
    },
    {
      "cell_type": "code",
      "metadata": {
        "id": "BhgTuQ4kNDjk",
        "colab_type": "code",
        "colab": {}
      },
      "source": [
        "optimizer = tf.keras.optimizers.SGD(learning_rate=0.01)"
      ],
      "execution_count": 0,
      "outputs": []
    },
    {
      "cell_type": "markdown",
      "metadata": {
        "id": "2x2-cv8tOGZx",
        "colab_type": "text"
      },
      "source": [
        "Use the tf.GradientTape context to calculate the gradients used to optimize your model:"
      ]
    },
    {
      "cell_type": "code",
      "metadata": {
        "id": "dRefp597NRzh",
        "colab_type": "code",
        "colab": {}
      },
      "source": [
        "def grad(model, inputs, targets):\n",
        "  with tf.GradientTape() as tape:\n",
        "    loss_value = loss(model, inputs, targets, training=True)\n",
        "  return loss_value, tape.gradient(loss_value, model.trainable_variables)\n"
      ],
      "execution_count": 0,
      "outputs": []
    },
    {
      "cell_type": "markdown",
      "metadata": {
        "id": "xx4A0AxjOK8J",
        "colab_type": "text"
      },
      "source": [
        "To calculate a single optimization step:"
      ]
    },
    {
      "cell_type": "code",
      "metadata": {
        "id": "3gz_w5zJOH_f",
        "colab_type": "code",
        "colab": {
          "base_uri": "https://localhost:8080/",
          "height": 34
        },
        "outputId": "2ade3e0f-4e0e-4b4e-914f-9000af888373"
      },
      "source": [
        "loss_value, grads = grad(model, features, labels)\n",
        "\n",
        "print(\"Step: {}, Initial Loss: {}\".format(optimizer.iterations.numpy(),\n",
        "                                          loss_value.numpy()))\n"
      ],
      "execution_count": 36,
      "outputs": [
        {
          "output_type": "stream",
          "text": [
            "Step: 0, Initial Loss: 1.3460947275161743\n"
          ],
          "name": "stdout"
        }
      ]
    },
    {
      "cell_type": "code",
      "metadata": {
        "id": "ri7OVQbkOO-s",
        "colab_type": "code",
        "colab": {
          "base_uri": "https://localhost:8080/",
          "height": 34
        },
        "outputId": "f84a5a87-7f30-4991-ac72-e8adf402f3a6"
      },
      "source": [
        "optimizer.apply_gradients(zip(grads, model.trainable_variables))\n",
        "\n",
        "print(\"Step: {},         Loss: {}\".format(optimizer.iterations.numpy(),\n",
        "                                          loss(model, features, labels, training=True).numpy()))\n"
      ],
      "execution_count": 37,
      "outputs": [
        {
          "output_type": "stream",
          "text": [
            "Step: 1,         Loss: 1.3325846195220947\n"
          ],
          "name": "stdout"
        }
      ]
    },
    {
      "cell_type": "markdown",
      "metadata": {
        "id": "hKa-BBQoObZa",
        "colab_type": "text"
      },
      "source": [
        "Training loop"
      ]
    },
    {
      "cell_type": "code",
      "metadata": {
        "id": "w-5kHSgMOWqe",
        "colab_type": "code",
        "colab": {
          "base_uri": "https://localhost:8080/",
          "height": 101
        },
        "outputId": "391d51e7-5423-44b7-d26e-3290f7385f78"
      },
      "source": [
        "train_loss_results = []\n",
        "train_accuracy_results = []\n",
        "\n",
        "num_epochs = 201\n",
        "\n",
        "for epoch in range(num_epochs):\n",
        "  epoch_loss_avg = tf.keras.metrics.Mean()\n",
        "  epoch_accuracy = tf.keras.metrics.SparseCategoricalAccuracy()\n",
        "\n",
        "  # Training loop - using batches of 32\n",
        "  for x, y in train_dataset:\n",
        "    # Optimize the model\n",
        "    loss_value, grads = grad(model, x, y)\n",
        "    optimizer.apply_gradients(zip(grads, model.trainable_variables))\n",
        "\n",
        "    # Track progress\n",
        "    epoch_loss_avg.update_state(loss_value)  # Add current batch loss\n",
        "    # Compare predicted label to actual label\n",
        "    # training=True is needed only if there are layers with different\n",
        "    # behavior during training versus inference (e.g. Dropout).\n",
        "    epoch_accuracy.update_state(y, model(x, training=True))\n",
        "\n",
        "  # End epoch\n",
        "  train_loss_results.append(epoch_loss_avg.result())\n",
        "  train_accuracy_results.append(epoch_accuracy.result())\n",
        "\n",
        "  if epoch % 50 == 0:\n",
        "    print(\"Epoch {:03d}: Loss: {:.3f}, Accuracy: {:.3%}\".format(epoch,\n",
        "                                                                epoch_loss_avg.result(),\n",
        "                                                                epoch_accuracy.result()))\n"
      ],
      "execution_count": 38,
      "outputs": [
        {
          "output_type": "stream",
          "text": [
            "Epoch 000: Loss: 1.322, Accuracy: 29.167%\n",
            "Epoch 050: Loss: 0.469, Accuracy: 79.167%\n",
            "Epoch 100: Loss: 0.296, Accuracy: 95.000%\n",
            "Epoch 150: Loss: 0.207, Accuracy: 97.500%\n",
            "Epoch 200: Loss: 0.147, Accuracy: 98.333%\n"
          ],
          "name": "stdout"
        }
      ]
    },
    {
      "cell_type": "markdown",
      "metadata": {
        "id": "KKck-YG8Oo4G",
        "colab_type": "text"
      },
      "source": [
        "Visualize the loss function over time"
      ]
    },
    {
      "cell_type": "code",
      "metadata": {
        "id": "hP3mrsRiOkOt",
        "colab_type": "code",
        "colab": {
          "base_uri": "https://localhost:8080/",
          "height": 558
        },
        "outputId": "a9054db0-db31-4ecd-c030-e6e4368be6bd"
      },
      "source": [
        "fig, axes = plt.subplots(2, sharex=True, figsize=(12, 8))\n",
        "fig.suptitle('Training Metrics')\n",
        "\n",
        "axes[0].set_ylabel(\"Loss\", fontsize=14)\n",
        "axes[0].plot(train_loss_results)\n",
        "\n",
        "axes[1].set_ylabel(\"Accuracy\", fontsize=14)\n",
        "axes[1].set_xlabel(\"Epoch\", fontsize=14)\n",
        "axes[1].plot(train_accuracy_results)\n",
        "plt.show()\n"
      ],
      "execution_count": 39,
      "outputs": [
        {
          "output_type": "display_data",
          "data": {
            "image/png": "[encoded data removed]",
            "text/plain": [
              "<Figure size 864x576 with 2 Axes>"
            ]
          },
          "metadata": {
            "tags": [],
            "needs_background": "light"
          }
        }
      ]
    },
    {
      "cell_type": "markdown",
      "metadata": {
        "id": "qxCEHDoiOzV0",
        "colab_type": "text"
      },
      "source": [
        "Setup the test dataset"
      ]
    },
    {
      "cell_type": "code",
      "metadata": {
        "id": "vqIOoBuuOrCm",
        "colab_type": "code",
        "colab": {
          "base_uri": "https://localhost:8080/",
          "height": 70
        },
        "outputId": "9dc1437e-ae2a-4603-eb5a-fac284bca36a"
      },
      "source": [
        "test_url = \"https://storage.googleapis.com/download.tensorflow.org/data/iris_test.csv\"\n",
        "\n",
        "test_fp = tf.keras.utils.get_file(fname=os.path.basename(test_url),\n",
        "                                  origin=test_url)\n"
      ],
      "execution_count": 40,
      "outputs": [
        {
          "output_type": "stream",
          "text": [
            "Downloading data from https://storage.googleapis.com/download.tensorflow.org/data/iris_test.csv\n",
            "\r8192/573 [============================================================================================================================================================================================================================================================================================================================================================================================================================================] - 0s 0us/step\n"
          ],
          "name": "stdout"
        }
      ]
    },
    {
      "cell_type": "code",
      "metadata": {
        "id": "iMWAjjKiO1YZ",
        "colab_type": "code",
        "colab": {}
      },
      "source": [
        "test_dataset = tf.data.experimental.make_csv_dataset(\n",
        "    test_fp,\n",
        "    batch_size,\n",
        "    column_names=column_names,\n",
        "    label_name='species',\n",
        "    num_epochs=1,\n",
        "    shuffle=False)\n",
        "\n",
        "test_dataset = test_dataset.map(pack_features_vector)\n"
      ],
      "execution_count": 0,
      "outputs": []
    },
    {
      "cell_type": "markdown",
      "metadata": {
        "id": "917A18Y5O6Rn",
        "colab_type": "text"
      },
      "source": [
        "Evaluate the model on the test dataset"
      ]
    },
    {
      "cell_type": "code",
      "metadata": {
        "id": "edYVBiEZO3kO",
        "colab_type": "code",
        "colab": {
          "base_uri": "https://localhost:8080/",
          "height": 34
        },
        "outputId": "3af86035-89fa-4d90-dba0-f096819f189f"
      },
      "source": [
        "test_accuracy = tf.keras.metrics.Accuracy()\n",
        "\n",
        "for (x, y) in test_dataset:\n",
        "  # training=False is needed only if there are layers with different\n",
        "  # behavior during training versus inference (e.g. Dropout).\n",
        "  logits = model(x, training=False)\n",
        "  prediction = tf.argmax(logits, axis=1, output_type=tf.int32)\n",
        "  test_accuracy(prediction, y)\n",
        "\n",
        "print(\"Test set accuracy: {:.3%}\".format(test_accuracy.result()))\n"
      ],
      "execution_count": 42,
      "outputs": [
        {
          "output_type": "stream",
          "text": [
            "Test set accuracy: 96.667%\n"
          ],
          "name": "stdout"
        }
      ]
    },
    {
      "cell_type": "code",
      "metadata": {
        "id": "4PzIg_wZO8ue",
        "colab_type": "code",
        "colab": {
          "base_uri": "https://localhost:8080/",
          "height": 538
        },
        "outputId": "bc000794-0748-4f95-c701-8eae341db28c"
      },
      "source": [
        "tf.stack([y,prediction],axis=1)"
      ],
      "execution_count": 43,
      "outputs": [
        {
          "output_type": "execute_result",
          "data": {
            "text/plain": [
              "<tf.Tensor: shape=(30, 2), dtype=int32, numpy=\n",
              "array([[1, 1],\n",
              "       [2, 2],\n",
              "       [0, 0],\n",
              "       [1, 1],\n",
              "       [1, 1],\n",
              "       [1, 1],\n",
              "       [0, 0],\n",
              "       [2, 2],\n",
              "       [1, 1],\n",
              "       [2, 2],\n",
              "       [2, 2],\n",
              "       [0, 0],\n",
              "       [2, 2],\n",
              "       [1, 1],\n",
              "       [1, 1],\n",
              "       [0, 0],\n",
              "       [1, 1],\n",
              "       [0, 0],\n",
              "       [0, 0],\n",
              "       [2, 2],\n",
              "       [0, 0],\n",
              "       [1, 1],\n",
              "       [2, 2],\n",
              "       [1, 2],\n",
              "       [1, 1],\n",
              "       [1, 1],\n",
              "       [0, 0],\n",
              "       [1, 1],\n",
              "       [2, 2],\n",
              "       [1, 1]], dtype=int32)>"
            ]
          },
          "metadata": {
            "tags": []
          },
          "execution_count": 43
        }
      ]
    },
    {
      "cell_type": "markdown",
      "metadata": {
        "id": "EgvsjL-OPDc5",
        "colab_type": "text"
      },
      "source": [
        "Use the trained model to make predictions"
      ]
    },
    {
      "cell_type": "code",
      "metadata": {
        "id": "xEdNW3wDO_gO",
        "colab_type": "code",
        "colab": {
          "base_uri": "https://localhost:8080/",
          "height": 67
        },
        "outputId": "a2f7ed33-260f-4bcf-d5b4-7489eb72589b"
      },
      "source": [
        "predict_dataset = tf.convert_to_tensor([\n",
        "    [5.1, 3.3, 1.7, 0.5,],\n",
        "    [5.9, 3.0, 4.2, 1.5,],\n",
        "    [6.9, 3.1, 5.4, 2.1]\n",
        "])\n",
        "\n",
        "# training=False is needed only if there are layers with different\n",
        "# behavior during training versus inference (e.g. Dropout).\n",
        "predictions = model(predict_dataset, training=False)\n",
        "\n",
        "for i, logits in enumerate(predictions):\n",
        "  class_idx = tf.argmax(logits).numpy()\n",
        "  p = tf.nn.softmax(logits)[class_idx]\n",
        "  name = class_names[class_idx]\n",
        "  print(\"Example {} prediction: {} ({:4.1f}%)\".format(i, name, 100*p))\n"
      ],
      "execution_count": 44,
      "outputs": [
        {
          "output_type": "stream",
          "text": [
            "Example 0 prediction: Iris setosa (97.7%)\n",
            "Example 1 prediction: Iris versicolor (82.8%)\n",
            "Example 2 prediction: Iris virginica (80.0%)\n"
          ],
          "name": "stdout"
        }
      ]
    }
  ]
}